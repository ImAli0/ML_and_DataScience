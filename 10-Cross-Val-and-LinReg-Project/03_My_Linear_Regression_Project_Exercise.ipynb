{
  "nbformat": 4,
  "nbformat_minor": 0,
  "metadata": {
    "colab": {
      "provenance": [],
      "gpuType": "T4",
      "authorship_tag": "ABX9TyPIoe600Nv18Y2rCZukExmm",
      "include_colab_link": true
    },
    "kernelspec": {
      "name": "python3",
      "display_name": "Python 3"
    },
    "language_info": {
      "name": "python"
    },
    "accelerator": "GPU"
  },
  "cells": [
    {
      "cell_type": "markdown",
      "metadata": {
        "id": "view-in-github",
        "colab_type": "text"
      },
      "source": [
        "<a href=\"https://colab.research.google.com/github/ImAli0/ML_and_DataScience/blob/main/10-Cross-Val-and-LinReg-Project/02_My_Linear_Regression_Project_Exercise.ipynb\" target=\"_parent\"><img src=\"https://colab.research.google.com/assets/colab-badge.svg\" alt=\"Open In Colab\"/></a>"
      ]
    },
    {
      "cell_type": "code",
      "execution_count": 1,
      "metadata": {
        "id": "Pk_AoUIrtKds"
      },
      "outputs": [],
      "source": [
        "import numpy as np\n",
        "import pandas as pd\n",
        "import matplotlib.pyplot as plt\n",
        "import seaborn as sns\n",
        "from sklearn.model_selection import train_test_split\n",
        "from sklearn.preprocessing import StandardScaler\n",
        "from sklearn.linear_model import ElasticNet\n",
        "from sklearn.model_selection import GridSearchCV\n",
        "from sklearn.metrics import mean_absolute_error\n",
        "from sklearn.metrics import mean_squared_error"
      ]
    },
    {
      "cell_type": "markdown",
      "source": [
        "# Data"
      ],
      "metadata": {
        "id": "T3KjKrUrt149"
      }
    },
    {
      "cell_type": "code",
      "source": [
        "df = pd.read_csv('/content/AMES_Final_DF.csv')\n",
        "df.head()"
      ],
      "metadata": {
        "colab": {
          "base_uri": "https://localhost:8080/",
          "height": 334
        },
        "id": "_MKYplowt21s",
        "outputId": "bfb8a649-7e59-447e-93dc-cc38bc7201d5"
      },
      "execution_count": 2,
      "outputs": [
        {
          "output_type": "execute_result",
          "data": {
            "text/plain": [
              "   Lot Frontage  Lot Area  Overall Qual  Overall Cond  Year Built  \\\n",
              "0         141.0     31770             6             5        1960   \n",
              "1          80.0     11622             5             6        1961   \n",
              "2          81.0     14267             6             6        1958   \n",
              "3          93.0     11160             7             5        1968   \n",
              "4          74.0     13830             5             5        1997   \n",
              "\n",
              "   Year Remod/Add  Mas Vnr Area  BsmtFin SF 1  BsmtFin SF 2  Bsmt Unf SF  ...  \\\n",
              "0            1960         112.0         639.0           0.0        441.0  ...   \n",
              "1            1961           0.0         468.0         144.0        270.0  ...   \n",
              "2            1958         108.0         923.0           0.0        406.0  ...   \n",
              "3            1968           0.0        1065.0           0.0       1045.0  ...   \n",
              "4            1998           0.0         791.0           0.0        137.0  ...   \n",
              "\n",
              "   Sale Type_ConLw  Sale Type_New  Sale Type_Oth  Sale Type_VWD  \\\n",
              "0                0              0              0              0   \n",
              "1                0              0              0              0   \n",
              "2                0              0              0              0   \n",
              "3                0              0              0              0   \n",
              "4                0              0              0              0   \n",
              "\n",
              "   Sale Type_WD   Sale Condition_AdjLand  Sale Condition_Alloca  \\\n",
              "0              1                       0                      0   \n",
              "1              1                       0                      0   \n",
              "2              1                       0                      0   \n",
              "3              1                       0                      0   \n",
              "4              1                       0                      0   \n",
              "\n",
              "   Sale Condition_Family  Sale Condition_Normal  Sale Condition_Partial  \n",
              "0                      0                      1                       0  \n",
              "1                      0                      1                       0  \n",
              "2                      0                      1                       0  \n",
              "3                      0                      1                       0  \n",
              "4                      0                      1                       0  \n",
              "\n",
              "[5 rows x 274 columns]"
            ],
            "text/html": [
              "\n",
              "\n",
              "  <div id=\"df-1d39d3c1-37e9-468e-aba1-e194e187e3da\">\n",
              "    <div class=\"colab-df-container\">\n",
              "      <div>\n",
              "<style scoped>\n",
              "    .dataframe tbody tr th:only-of-type {\n",
              "        vertical-align: middle;\n",
              "    }\n",
              "\n",
              "    .dataframe tbody tr th {\n",
              "        vertical-align: top;\n",
              "    }\n",
              "\n",
              "    .dataframe thead th {\n",
              "        text-align: right;\n",
              "    }\n",
              "</style>\n",
              "<table border=\"1\" class=\"dataframe\">\n",
              "  <thead>\n",
              "    <tr style=\"text-align: right;\">\n",
              "      <th></th>\n",
              "      <th>Lot Frontage</th>\n",
              "      <th>Lot Area</th>\n",
              "      <th>Overall Qual</th>\n",
              "      <th>Overall Cond</th>\n",
              "      <th>Year Built</th>\n",
              "      <th>Year Remod/Add</th>\n",
              "      <th>Mas Vnr Area</th>\n",
              "      <th>BsmtFin SF 1</th>\n",
              "      <th>BsmtFin SF 2</th>\n",
              "      <th>Bsmt Unf SF</th>\n",
              "      <th>...</th>\n",
              "      <th>Sale Type_ConLw</th>\n",
              "      <th>Sale Type_New</th>\n",
              "      <th>Sale Type_Oth</th>\n",
              "      <th>Sale Type_VWD</th>\n",
              "      <th>Sale Type_WD</th>\n",
              "      <th>Sale Condition_AdjLand</th>\n",
              "      <th>Sale Condition_Alloca</th>\n",
              "      <th>Sale Condition_Family</th>\n",
              "      <th>Sale Condition_Normal</th>\n",
              "      <th>Sale Condition_Partial</th>\n",
              "    </tr>\n",
              "  </thead>\n",
              "  <tbody>\n",
              "    <tr>\n",
              "      <th>0</th>\n",
              "      <td>141.0</td>\n",
              "      <td>31770</td>\n",
              "      <td>6</td>\n",
              "      <td>5</td>\n",
              "      <td>1960</td>\n",
              "      <td>1960</td>\n",
              "      <td>112.0</td>\n",
              "      <td>639.0</td>\n",
              "      <td>0.0</td>\n",
              "      <td>441.0</td>\n",
              "      <td>...</td>\n",
              "      <td>0</td>\n",
              "      <td>0</td>\n",
              "      <td>0</td>\n",
              "      <td>0</td>\n",
              "      <td>1</td>\n",
              "      <td>0</td>\n",
              "      <td>0</td>\n",
              "      <td>0</td>\n",
              "      <td>1</td>\n",
              "      <td>0</td>\n",
              "    </tr>\n",
              "    <tr>\n",
              "      <th>1</th>\n",
              "      <td>80.0</td>\n",
              "      <td>11622</td>\n",
              "      <td>5</td>\n",
              "      <td>6</td>\n",
              "      <td>1961</td>\n",
              "      <td>1961</td>\n",
              "      <td>0.0</td>\n",
              "      <td>468.0</td>\n",
              "      <td>144.0</td>\n",
              "      <td>270.0</td>\n",
              "      <td>...</td>\n",
              "      <td>0</td>\n",
              "      <td>0</td>\n",
              "      <td>0</td>\n",
              "      <td>0</td>\n",
              "      <td>1</td>\n",
              "      <td>0</td>\n",
              "      <td>0</td>\n",
              "      <td>0</td>\n",
              "      <td>1</td>\n",
              "      <td>0</td>\n",
              "    </tr>\n",
              "    <tr>\n",
              "      <th>2</th>\n",
              "      <td>81.0</td>\n",
              "      <td>14267</td>\n",
              "      <td>6</td>\n",
              "      <td>6</td>\n",
              "      <td>1958</td>\n",
              "      <td>1958</td>\n",
              "      <td>108.0</td>\n",
              "      <td>923.0</td>\n",
              "      <td>0.0</td>\n",
              "      <td>406.0</td>\n",
              "      <td>...</td>\n",
              "      <td>0</td>\n",
              "      <td>0</td>\n",
              "      <td>0</td>\n",
              "      <td>0</td>\n",
              "      <td>1</td>\n",
              "      <td>0</td>\n",
              "      <td>0</td>\n",
              "      <td>0</td>\n",
              "      <td>1</td>\n",
              "      <td>0</td>\n",
              "    </tr>\n",
              "    <tr>\n",
              "      <th>3</th>\n",
              "      <td>93.0</td>\n",
              "      <td>11160</td>\n",
              "      <td>7</td>\n",
              "      <td>5</td>\n",
              "      <td>1968</td>\n",
              "      <td>1968</td>\n",
              "      <td>0.0</td>\n",
              "      <td>1065.0</td>\n",
              "      <td>0.0</td>\n",
              "      <td>1045.0</td>\n",
              "      <td>...</td>\n",
              "      <td>0</td>\n",
              "      <td>0</td>\n",
              "      <td>0</td>\n",
              "      <td>0</td>\n",
              "      <td>1</td>\n",
              "      <td>0</td>\n",
              "      <td>0</td>\n",
              "      <td>0</td>\n",
              "      <td>1</td>\n",
              "      <td>0</td>\n",
              "    </tr>\n",
              "    <tr>\n",
              "      <th>4</th>\n",
              "      <td>74.0</td>\n",
              "      <td>13830</td>\n",
              "      <td>5</td>\n",
              "      <td>5</td>\n",
              "      <td>1997</td>\n",
              "      <td>1998</td>\n",
              "      <td>0.0</td>\n",
              "      <td>791.0</td>\n",
              "      <td>0.0</td>\n",
              "      <td>137.0</td>\n",
              "      <td>...</td>\n",
              "      <td>0</td>\n",
              "      <td>0</td>\n",
              "      <td>0</td>\n",
              "      <td>0</td>\n",
              "      <td>1</td>\n",
              "      <td>0</td>\n",
              "      <td>0</td>\n",
              "      <td>0</td>\n",
              "      <td>1</td>\n",
              "      <td>0</td>\n",
              "    </tr>\n",
              "  </tbody>\n",
              "</table>\n",
              "<p>5 rows × 274 columns</p>\n",
              "</div>\n",
              "      <button class=\"colab-df-convert\" onclick=\"convertToInteractive('df-1d39d3c1-37e9-468e-aba1-e194e187e3da')\"\n",
              "              title=\"Convert this dataframe to an interactive table.\"\n",
              "              style=\"display:none;\">\n",
              "\n",
              "  <svg xmlns=\"http://www.w3.org/2000/svg\" height=\"24px\"viewBox=\"0 0 24 24\"\n",
              "       width=\"24px\">\n",
              "    <path d=\"M0 0h24v24H0V0z\" fill=\"none\"/>\n",
              "    <path d=\"M18.56 5.44l.94 2.06.94-2.06 2.06-.94-2.06-.94-.94-2.06-.94 2.06-2.06.94zm-11 1L8.5 8.5l.94-2.06 2.06-.94-2.06-.94L8.5 2.5l-.94 2.06-2.06.94zm10 10l.94 2.06.94-2.06 2.06-.94-2.06-.94-.94-2.06-.94 2.06-2.06.94z\"/><path d=\"M17.41 7.96l-1.37-1.37c-.4-.4-.92-.59-1.43-.59-.52 0-1.04.2-1.43.59L10.3 9.45l-7.72 7.72c-.78.78-.78 2.05 0 2.83L4 21.41c.39.39.9.59 1.41.59.51 0 1.02-.2 1.41-.59l7.78-7.78 2.81-2.81c.8-.78.8-2.07 0-2.86zM5.41 20L4 18.59l7.72-7.72 1.47 1.35L5.41 20z\"/>\n",
              "  </svg>\n",
              "      </button>\n",
              "\n",
              "\n",
              "\n",
              "    <div id=\"df-7198efc5-bcbf-4be3-a03e-0817564190d7\">\n",
              "      <button class=\"colab-df-quickchart\" onclick=\"quickchart('df-7198efc5-bcbf-4be3-a03e-0817564190d7')\"\n",
              "              title=\"Suggest charts.\"\n",
              "              style=\"display:none;\">\n",
              "\n",
              "<svg xmlns=\"http://www.w3.org/2000/svg\" height=\"24px\"viewBox=\"0 0 24 24\"\n",
              "     width=\"24px\">\n",
              "    <g>\n",
              "        <path d=\"M19 3H5c-1.1 0-2 .9-2 2v14c0 1.1.9 2 2 2h14c1.1 0 2-.9 2-2V5c0-1.1-.9-2-2-2zM9 17H7v-7h2v7zm4 0h-2V7h2v10zm4 0h-2v-4h2v4z\"/>\n",
              "    </g>\n",
              "</svg>\n",
              "      </button>\n",
              "    </div>\n",
              "\n",
              "<style>\n",
              "  .colab-df-quickchart {\n",
              "    background-color: #E8F0FE;\n",
              "    border: none;\n",
              "    border-radius: 50%;\n",
              "    cursor: pointer;\n",
              "    display: none;\n",
              "    fill: #1967D2;\n",
              "    height: 32px;\n",
              "    padding: 0 0 0 0;\n",
              "    width: 32px;\n",
              "  }\n",
              "\n",
              "  .colab-df-quickchart:hover {\n",
              "    background-color: #E2EBFA;\n",
              "    box-shadow: 0px 1px 2px rgba(60, 64, 67, 0.3), 0px 1px 3px 1px rgba(60, 64, 67, 0.15);\n",
              "    fill: #174EA6;\n",
              "  }\n",
              "\n",
              "  [theme=dark] .colab-df-quickchart {\n",
              "    background-color: #3B4455;\n",
              "    fill: #D2E3FC;\n",
              "  }\n",
              "\n",
              "  [theme=dark] .colab-df-quickchart:hover {\n",
              "    background-color: #434B5C;\n",
              "    box-shadow: 0px 1px 3px 1px rgba(0, 0, 0, 0.15);\n",
              "    filter: drop-shadow(0px 1px 2px rgba(0, 0, 0, 0.3));\n",
              "    fill: #FFFFFF;\n",
              "  }\n",
              "</style>\n",
              "\n",
              "    <script>\n",
              "      async function quickchart(key) {\n",
              "        const containerElement = document.querySelector('#' + key);\n",
              "        const charts = await google.colab.kernel.invokeFunction(\n",
              "            'suggestCharts', [key], {});\n",
              "      }\n",
              "    </script>\n",
              "\n",
              "      <script>\n",
              "\n",
              "function displayQuickchartButton(domScope) {\n",
              "  let quickchartButtonEl =\n",
              "    domScope.querySelector('#df-7198efc5-bcbf-4be3-a03e-0817564190d7 button.colab-df-quickchart');\n",
              "  quickchartButtonEl.style.display =\n",
              "    google.colab.kernel.accessAllowed ? 'block' : 'none';\n",
              "}\n",
              "\n",
              "        displayQuickchartButton(document);\n",
              "      </script>\n",
              "      <style>\n",
              "    .colab-df-container {\n",
              "      display:flex;\n",
              "      flex-wrap:wrap;\n",
              "      gap: 12px;\n",
              "    }\n",
              "\n",
              "    .colab-df-convert {\n",
              "      background-color: #E8F0FE;\n",
              "      border: none;\n",
              "      border-radius: 50%;\n",
              "      cursor: pointer;\n",
              "      display: none;\n",
              "      fill: #1967D2;\n",
              "      height: 32px;\n",
              "      padding: 0 0 0 0;\n",
              "      width: 32px;\n",
              "    }\n",
              "\n",
              "    .colab-df-convert:hover {\n",
              "      background-color: #E2EBFA;\n",
              "      box-shadow: 0px 1px 2px rgba(60, 64, 67, 0.3), 0px 1px 3px 1px rgba(60, 64, 67, 0.15);\n",
              "      fill: #174EA6;\n",
              "    }\n",
              "\n",
              "    [theme=dark] .colab-df-convert {\n",
              "      background-color: #3B4455;\n",
              "      fill: #D2E3FC;\n",
              "    }\n",
              "\n",
              "    [theme=dark] .colab-df-convert:hover {\n",
              "      background-color: #434B5C;\n",
              "      box-shadow: 0px 1px 3px 1px rgba(0, 0, 0, 0.15);\n",
              "      filter: drop-shadow(0px 1px 2px rgba(0, 0, 0, 0.3));\n",
              "      fill: #FFFFFF;\n",
              "    }\n",
              "  </style>\n",
              "\n",
              "      <script>\n",
              "        const buttonEl =\n",
              "          document.querySelector('#df-1d39d3c1-37e9-468e-aba1-e194e187e3da button.colab-df-convert');\n",
              "        buttonEl.style.display =\n",
              "          google.colab.kernel.accessAllowed ? 'block' : 'none';\n",
              "\n",
              "        async function convertToInteractive(key) {\n",
              "          const element = document.querySelector('#df-1d39d3c1-37e9-468e-aba1-e194e187e3da');\n",
              "          const dataTable =\n",
              "            await google.colab.kernel.invokeFunction('convertToInteractive',\n",
              "                                                     [key], {});\n",
              "          if (!dataTable) return;\n",
              "\n",
              "          const docLinkHtml = 'Like what you see? Visit the ' +\n",
              "            '<a target=\"_blank\" href=https://colab.research.google.com/notebooks/data_table.ipynb>data table notebook</a>'\n",
              "            + ' to learn more about interactive tables.';\n",
              "          element.innerHTML = '';\n",
              "          dataTable['output_type'] = 'display_data';\n",
              "          await google.colab.output.renderOutput(dataTable, element);\n",
              "          const docLink = document.createElement('div');\n",
              "          docLink.innerHTML = docLinkHtml;\n",
              "          element.appendChild(docLink);\n",
              "        }\n",
              "      </script>\n",
              "    </div>\n",
              "  </div>\n"
            ]
          },
          "metadata": {},
          "execution_count": 2
        }
      ]
    },
    {
      "cell_type": "code",
      "source": [
        "# LABELS\n",
        "X = df.drop('SalePrice', axis=1)\n",
        "y = df['SalePrice']\n",
        "\n",
        "# TRAIN TEST SPLIT\n",
        "X_train, X_test, y_train, y_test = train_test_split(X, y, test_size=0.1, random_state=0)\n",
        "\n",
        "# SCALING THE DATA\n",
        "scaler = StandardScaler()\n",
        "scaler.fit(X_train)\n",
        "X_train = scaler.transform(X_train)\n",
        "X_test = scaler.transform(X_test)\n",
        "\n",
        "# BASE MODEL\n",
        "base_model = ElasticNet()\n",
        "\n",
        "# GRID PARAMETERS\n",
        "grid_params = {'alpha':[.1,.2,.3,.5,.8,1,3,5,10,100], 'l1_ratio':[.1,.3,.5,.7,.8,.9,.95,1]}\n",
        "\n",
        "# GRID MODEL\n",
        "grid_model = GridSearchCV(estimator = base_model, param_grid = grid_params, scoring = 'neg_mean_squared_error', cv = 10, verbose = 3)\n",
        "grid_model.fit(X_train, y_train)"
      ],
      "metadata": {
        "colab": {
          "base_uri": "https://localhost:8080/",
          "height": 1000
        },
        "id": "kETBSatuuPEn",
        "outputId": "f418e1dd-a15d-4327-944e-d4e35d91d064"
      },
      "execution_count": 3,
      "outputs": [
        {
          "output_type": "stream",
          "name": "stdout",
          "text": [
            "Fitting 10 folds for each of 80 candidates, totalling 800 fits\n",
            "[CV 1/10] END .alpha=0.1, l1_ratio=0.1;, score=-626848896.207 total time=   0.3s\n",
            "[CV 2/10] END .alpha=0.1, l1_ratio=0.1;, score=-740286207.021 total time=   0.3s\n",
            "[CV 3/10] END .alpha=0.1, l1_ratio=0.1;, score=-513678563.020 total time=   0.3s\n",
            "[CV 4/10] END .alpha=0.1, l1_ratio=0.1;, score=-314845284.488 total time=   0.3s\n",
            "[CV 5/10] END .alpha=0.1, l1_ratio=0.1;, score=-441394561.296 total time=   0.3s\n",
            "[CV 6/10] END .alpha=0.1, l1_ratio=0.1;, score=-609223071.310 total time=   0.3s\n",
            "[CV 7/10] END .alpha=0.1, l1_ratio=0.1;, score=-631401037.960 total time=   0.3s\n",
            "[CV 8/10] END .alpha=0.1, l1_ratio=0.1;, score=-542565158.731 total time=   0.3s\n",
            "[CV 9/10] END .alpha=0.1, l1_ratio=0.1;, score=-448347128.260 total time=   0.3s\n",
            "[CV 10/10] END alpha=0.1, l1_ratio=0.1;, score=-514562123.108 total time=   0.3s\n",
            "[CV 1/10] END .alpha=0.1, l1_ratio=0.3;, score=-620800554.736 total time=   0.3s\n",
            "[CV 2/10] END .alpha=0.1, l1_ratio=0.3;, score=-727647693.240 total time=   0.3s\n",
            "[CV 3/10] END .alpha=0.1, l1_ratio=0.3;, score=-508004303.329 total time=   0.3s\n",
            "[CV 4/10] END .alpha=0.1, l1_ratio=0.3;, score=-313697924.847 total time=   0.4s\n",
            "[CV 5/10] END .alpha=0.1, l1_ratio=0.3;, score=-433170587.876 total time=   0.3s\n",
            "[CV 6/10] END .alpha=0.1, l1_ratio=0.3;, score=-598498479.728 total time=   0.3s\n",
            "[CV 7/10] END .alpha=0.1, l1_ratio=0.3;, score=-633758082.542 total time=   0.3s\n",
            "[CV 8/10] END .alpha=0.1, l1_ratio=0.3;, score=-542406965.642 total time=   0.3s\n",
            "[CV 9/10] END .alpha=0.1, l1_ratio=0.3;, score=-447319352.996 total time=   0.4s\n",
            "[CV 10/10] END alpha=0.1, l1_ratio=0.3;, score=-505870383.495 total time=   0.3s\n",
            "[CV 1/10] END .alpha=0.1, l1_ratio=0.5;, score=-614075610.116 total time=   0.4s\n",
            "[CV 2/10] END .alpha=0.1, l1_ratio=0.5;, score=-714710930.437 total time=   0.3s\n",
            "[CV 3/10] END .alpha=0.1, l1_ratio=0.5;, score=-503151257.418 total time=   0.4s\n",
            "[CV 4/10] END .alpha=0.1, l1_ratio=0.5;, score=-313801010.082 total time=   0.4s\n",
            "[CV 5/10] END .alpha=0.1, l1_ratio=0.5;, score=-424147798.052 total time=   0.4s\n",
            "[CV 6/10] END .alpha=0.1, l1_ratio=0.5;, score=-587552230.431 total time=   0.4s\n",
            "[CV 7/10] END .alpha=0.1, l1_ratio=0.5;, score=-637600958.560 total time=   0.7s\n",
            "[CV 8/10] END .alpha=0.1, l1_ratio=0.5;, score=-543711594.761 total time=   0.7s\n",
            "[CV 9/10] END .alpha=0.1, l1_ratio=0.5;, score=-447223018.830 total time=   0.7s\n",
            "[CV 10/10] END alpha=0.1, l1_ratio=0.5;, score=-495875935.847 total time=   0.7s\n",
            "[CV 1/10] END .alpha=0.1, l1_ratio=0.7;, score=-606297412.934 total time=   0.6s\n",
            "[CV 2/10] END .alpha=0.1, l1_ratio=0.7;, score=-701980968.432 total time=   0.5s\n",
            "[CV 3/10] END .alpha=0.1, l1_ratio=0.7;, score=-500175074.370 total time=   0.6s\n",
            "[CV 4/10] END .alpha=0.1, l1_ratio=0.7;, score=-316292470.693 total time=   0.6s\n",
            "[CV 5/10] END .alpha=0.1, l1_ratio=0.7;, score=-413980215.152 total time=   0.5s\n",
            "[CV 6/10] END .alpha=0.1, l1_ratio=0.7;, score=-576495639.129 total time=   0.6s\n",
            "[CV 7/10] END .alpha=0.1, l1_ratio=0.7;, score=-643901236.780 total time=   0.5s\n",
            "[CV 8/10] END .alpha=0.1, l1_ratio=0.7;, score=-547618336.071 total time=   0.5s\n",
            "[CV 9/10] END .alpha=0.1, l1_ratio=0.7;, score=-448847554.221 total time=   0.6s\n",
            "[CV 10/10] END alpha=0.1, l1_ratio=0.7;, score=-483949865.521 total time=   0.5s\n",
            "[CV 1/10] END .alpha=0.1, l1_ratio=0.8;, score=-601941702.118 total time=   0.6s\n",
            "[CV 2/10] END .alpha=0.1, l1_ratio=0.8;, score=-696342059.910 total time=   0.6s\n",
            "[CV 3/10] END .alpha=0.1, l1_ratio=0.8;, score=-500237511.850 total time=   0.7s\n",
            "[CV 4/10] END .alpha=0.1, l1_ratio=0.8;, score=-319152868.023 total time=   0.7s\n",
            "[CV 5/10] END .alpha=0.1, l1_ratio=0.8;, score=-408246583.823 total time=   0.7s\n",
            "[CV 6/10] END .alpha=0.1, l1_ratio=0.8;, score=-571045581.673 total time=   0.7s\n",
            "[CV 7/10] END .alpha=0.1, l1_ratio=0.8;, score=-648578480.112 total time=   0.9s\n",
            "[CV 8/10] END .alpha=0.1, l1_ratio=0.8;, score=-551322239.437 total time=   1.0s\n",
            "[CV 9/10] END .alpha=0.1, l1_ratio=0.8;, score=-450827106.745 total time=   1.0s\n",
            "[CV 10/10] END alpha=0.1, l1_ratio=0.8;, score=-476957035.511 total time=   0.7s\n"
          ]
        },
        {
          "output_type": "stream",
          "name": "stderr",
          "text": [
            "/usr/local/lib/python3.10/dist-packages/sklearn/linear_model/_coordinate_descent.py:631: ConvergenceWarning: Objective did not converge. You might want to increase the number of iterations, check the scale of the features or consider increasing regularisation. Duality gap: 2.348e+11, tolerance: 1.525e+09\n",
            "  model = cd_fast.enet_coordinate_descent(\n"
          ]
        },
        {
          "output_type": "stream",
          "name": "stdout",
          "text": [
            "[CV 1/10] END .alpha=0.1, l1_ratio=0.9;, score=-597663923.390 total time=   0.7s\n"
          ]
        },
        {
          "output_type": "stream",
          "name": "stderr",
          "text": [
            "/usr/local/lib/python3.10/dist-packages/sklearn/linear_model/_coordinate_descent.py:631: ConvergenceWarning: Objective did not converge. You might want to increase the number of iterations, check the scale of the features or consider increasing regularisation. Duality gap: 1.466e+11, tolerance: 1.477e+09\n",
            "  model = cd_fast.enet_coordinate_descent(\n"
          ]
        },
        {
          "output_type": "stream",
          "name": "stdout",
          "text": [
            "[CV 2/10] END .alpha=0.1, l1_ratio=0.9;, score=-692520183.105 total time=   0.7s\n"
          ]
        },
        {
          "output_type": "stream",
          "name": "stderr",
          "text": [
            "/usr/local/lib/python3.10/dist-packages/sklearn/linear_model/_coordinate_descent.py:631: ConvergenceWarning: Objective did not converge. You might want to increase the number of iterations, check the scale of the features or consider increasing regularisation. Duality gap: 2.308e+11, tolerance: 1.535e+09\n",
            "  model = cd_fast.enet_coordinate_descent(\n"
          ]
        },
        {
          "output_type": "stream",
          "name": "stdout",
          "text": [
            "[CV 3/10] END .alpha=0.1, l1_ratio=0.9;, score=-502645046.132 total time=   0.8s\n"
          ]
        },
        {
          "output_type": "stream",
          "name": "stderr",
          "text": [
            "/usr/local/lib/python3.10/dist-packages/sklearn/linear_model/_coordinate_descent.py:631: ConvergenceWarning: Objective did not converge. You might want to increase the number of iterations, check the scale of the features or consider increasing regularisation. Duality gap: 2.513e+11, tolerance: 1.555e+09\n",
            "  model = cd_fast.enet_coordinate_descent(\n"
          ]
        },
        {
          "output_type": "stream",
          "name": "stdout",
          "text": [
            "[CV 4/10] END .alpha=0.1, l1_ratio=0.9;, score=-323800820.863 total time=   0.8s\n"
          ]
        },
        {
          "output_type": "stream",
          "name": "stderr",
          "text": [
            "/usr/local/lib/python3.10/dist-packages/sklearn/linear_model/_coordinate_descent.py:631: ConvergenceWarning: Objective did not converge. You might want to increase the number of iterations, check the scale of the features or consider increasing regularisation. Duality gap: 2.268e+11, tolerance: 1.532e+09\n",
            "  model = cd_fast.enet_coordinate_descent(\n"
          ]
        },
        {
          "output_type": "stream",
          "name": "stdout",
          "text": [
            "[CV 5/10] END .alpha=0.1, l1_ratio=0.9;, score=-401649715.637 total time=   0.8s\n"
          ]
        },
        {
          "output_type": "stream",
          "name": "stderr",
          "text": [
            "/usr/local/lib/python3.10/dist-packages/sklearn/linear_model/_coordinate_descent.py:631: ConvergenceWarning: Objective did not converge. You might want to increase the number of iterations, check the scale of the features or consider increasing regularisation. Duality gap: 2.112e+11, tolerance: 1.474e+09\n",
            "  model = cd_fast.enet_coordinate_descent(\n"
          ]
        },
        {
          "output_type": "stream",
          "name": "stdout",
          "text": [
            "[CV 6/10] END .alpha=0.1, l1_ratio=0.9;, score=-565779018.659 total time=   0.8s\n"
          ]
        },
        {
          "output_type": "stream",
          "name": "stderr",
          "text": [
            "/usr/local/lib/python3.10/dist-packages/sklearn/linear_model/_coordinate_descent.py:631: ConvergenceWarning: Objective did not converge. You might want to increase the number of iterations, check the scale of the features or consider increasing regularisation. Duality gap: 1.974e+11, tolerance: 1.537e+09\n",
            "  model = cd_fast.enet_coordinate_descent(\n"
          ]
        },
        {
          "output_type": "stream",
          "name": "stdout",
          "text": [
            "[CV 7/10] END .alpha=0.1, l1_ratio=0.9;, score=-655053140.309 total time=   0.8s\n"
          ]
        },
        {
          "output_type": "stream",
          "name": "stderr",
          "text": [
            "/usr/local/lib/python3.10/dist-packages/sklearn/linear_model/_coordinate_descent.py:631: ConvergenceWarning: Objective did not converge. You might want to increase the number of iterations, check the scale of the features or consider increasing regularisation. Duality gap: 1.833e+11, tolerance: 1.516e+09\n",
            "  model = cd_fast.enet_coordinate_descent(\n"
          ]
        },
        {
          "output_type": "stream",
          "name": "stdout",
          "text": [
            "[CV 8/10] END .alpha=0.1, l1_ratio=0.9;, score=-557024115.376 total time=   0.8s\n"
          ]
        },
        {
          "output_type": "stream",
          "name": "stderr",
          "text": [
            "/usr/local/lib/python3.10/dist-packages/sklearn/linear_model/_coordinate_descent.py:631: ConvergenceWarning: Objective did not converge. You might want to increase the number of iterations, check the scale of the features or consider increasing regularisation. Duality gap: 2.276e+11, tolerance: 1.535e+09\n",
            "  model = cd_fast.enet_coordinate_descent(\n"
          ]
        },
        {
          "output_type": "stream",
          "name": "stdout",
          "text": [
            "[CV 9/10] END .alpha=0.1, l1_ratio=0.9;, score=-454216807.967 total time=   0.8s\n"
          ]
        },
        {
          "output_type": "stream",
          "name": "stderr",
          "text": [
            "/usr/local/lib/python3.10/dist-packages/sklearn/linear_model/_coordinate_descent.py:631: ConvergenceWarning: Objective did not converge. You might want to increase the number of iterations, check the scale of the features or consider increasing regularisation. Duality gap: 2.275e+11, tolerance: 1.532e+09\n",
            "  model = cd_fast.enet_coordinate_descent(\n"
          ]
        },
        {
          "output_type": "stream",
          "name": "stdout",
          "text": [
            "[CV 10/10] END alpha=0.1, l1_ratio=0.9;, score=-469228436.808 total time=   0.8s\n"
          ]
        },
        {
          "output_type": "stream",
          "name": "stderr",
          "text": [
            "/usr/local/lib/python3.10/dist-packages/sklearn/linear_model/_coordinate_descent.py:631: ConvergenceWarning: Objective did not converge. You might want to increase the number of iterations, check the scale of the features or consider increasing regularisation. Duality gap: 4.114e+11, tolerance: 1.525e+09\n",
            "  model = cd_fast.enet_coordinate_descent(\n"
          ]
        },
        {
          "output_type": "stream",
          "name": "stdout",
          "text": [
            "[CV 1/10] END alpha=0.1, l1_ratio=0.95;, score=-596343529.906 total time=   0.6s\n"
          ]
        },
        {
          "output_type": "stream",
          "name": "stderr",
          "text": [
            "/usr/local/lib/python3.10/dist-packages/sklearn/linear_model/_coordinate_descent.py:631: ConvergenceWarning: Objective did not converge. You might want to increase the number of iterations, check the scale of the features or consider increasing regularisation. Duality gap: 3.658e+11, tolerance: 1.477e+09\n",
            "  model = cd_fast.enet_coordinate_descent(\n"
          ]
        },
        {
          "output_type": "stream",
          "name": "stdout",
          "text": [
            "[CV 2/10] END alpha=0.1, l1_ratio=0.95;, score=-692521153.456 total time=   0.7s\n"
          ]
        },
        {
          "output_type": "stream",
          "name": "stderr",
          "text": [
            "/usr/local/lib/python3.10/dist-packages/sklearn/linear_model/_coordinate_descent.py:631: ConvergenceWarning: Objective did not converge. You might want to increase the number of iterations, check the scale of the features or consider increasing regularisation. Duality gap: 4.181e+11, tolerance: 1.535e+09\n",
            "  model = cd_fast.enet_coordinate_descent(\n"
          ]
        },
        {
          "output_type": "stream",
          "name": "stdout",
          "text": [
            "[CV 3/10] END alpha=0.1, l1_ratio=0.95;, score=-505685193.980 total time=   0.8s\n"
          ]
        },
        {
          "output_type": "stream",
          "name": "stderr",
          "text": [
            "/usr/local/lib/python3.10/dist-packages/sklearn/linear_model/_coordinate_descent.py:631: ConvergenceWarning: Objective did not converge. You might want to increase the number of iterations, check the scale of the features or consider increasing regularisation. Duality gap: 4.393e+11, tolerance: 1.555e+09\n",
            "  model = cd_fast.enet_coordinate_descent(\n"
          ]
        },
        {
          "output_type": "stream",
          "name": "stdout",
          "text": [
            "[CV 4/10] END alpha=0.1, l1_ratio=0.95;, score=-326926106.901 total time=   0.9s\n"
          ]
        },
        {
          "output_type": "stream",
          "name": "stderr",
          "text": [
            "/usr/local/lib/python3.10/dist-packages/sklearn/linear_model/_coordinate_descent.py:631: ConvergenceWarning: Objective did not converge. You might want to increase the number of iterations, check the scale of the features or consider increasing regularisation. Duality gap: 4.314e+11, tolerance: 1.532e+09\n",
            "  model = cd_fast.enet_coordinate_descent(\n"
          ]
        },
        {
          "output_type": "stream",
          "name": "stdout",
          "text": [
            "[CV 5/10] END alpha=0.1, l1_ratio=0.95;, score=-397409351.801 total time=   0.9s\n"
          ]
        },
        {
          "output_type": "stream",
          "name": "stderr",
          "text": [
            "/usr/local/lib/python3.10/dist-packages/sklearn/linear_model/_coordinate_descent.py:631: ConvergenceWarning: Objective did not converge. You might want to increase the number of iterations, check the scale of the features or consider increasing regularisation. Duality gap: 4.295e+11, tolerance: 1.474e+09\n",
            "  model = cd_fast.enet_coordinate_descent(\n"
          ]
        },
        {
          "output_type": "stream",
          "name": "stdout",
          "text": [
            "[CV 6/10] END alpha=0.1, l1_ratio=0.95;, score=-563226626.675 total time=   0.7s\n"
          ]
        },
        {
          "output_type": "stream",
          "name": "stderr",
          "text": [
            "/usr/local/lib/python3.10/dist-packages/sklearn/linear_model/_coordinate_descent.py:631: ConvergenceWarning: Objective did not converge. You might want to increase the number of iterations, check the scale of the features or consider increasing regularisation. Duality gap: 3.928e+11, tolerance: 1.537e+09\n",
            "  model = cd_fast.enet_coordinate_descent(\n"
          ]
        },
        {
          "output_type": "stream",
          "name": "stdout",
          "text": [
            "[CV 7/10] END alpha=0.1, l1_ratio=0.95;, score=-659575226.328 total time=   0.7s\n"
          ]
        },
        {
          "output_type": "stream",
          "name": "stderr",
          "text": [
            "/usr/local/lib/python3.10/dist-packages/sklearn/linear_model/_coordinate_descent.py:631: ConvergenceWarning: Objective did not converge. You might want to increase the number of iterations, check the scale of the features or consider increasing regularisation. Duality gap: 3.976e+11, tolerance: 1.516e+09\n",
            "  model = cd_fast.enet_coordinate_descent(\n"
          ]
        },
        {
          "output_type": "stream",
          "name": "stdout",
          "text": [
            "[CV 8/10] END alpha=0.1, l1_ratio=0.95;, score=-560763581.637 total time=   0.7s\n"
          ]
        },
        {
          "output_type": "stream",
          "name": "stderr",
          "text": [
            "/usr/local/lib/python3.10/dist-packages/sklearn/linear_model/_coordinate_descent.py:631: ConvergenceWarning: Objective did not converge. You might want to increase the number of iterations, check the scale of the features or consider increasing regularisation. Duality gap: 4.167e+11, tolerance: 1.535e+09\n",
            "  model = cd_fast.enet_coordinate_descent(\n"
          ]
        },
        {
          "output_type": "stream",
          "name": "stdout",
          "text": [
            "[CV 9/10] END alpha=0.1, l1_ratio=0.95;, score=-456880842.067 total time=   0.7s\n"
          ]
        },
        {
          "output_type": "stream",
          "name": "stderr",
          "text": [
            "/usr/local/lib/python3.10/dist-packages/sklearn/linear_model/_coordinate_descent.py:631: ConvergenceWarning: Objective did not converge. You might want to increase the number of iterations, check the scale of the features or consider increasing regularisation. Duality gap: 4.312e+11, tolerance: 1.532e+09\n",
            "  model = cd_fast.enet_coordinate_descent(\n"
          ]
        },
        {
          "output_type": "stream",
          "name": "stdout",
          "text": [
            "[CV 10/10] END alpha=0.1, l1_ratio=0.95;, score=-465860368.513 total time=   0.7s\n"
          ]
        },
        {
          "output_type": "stream",
          "name": "stderr",
          "text": [
            "/usr/local/lib/python3.10/dist-packages/sklearn/linear_model/_coordinate_descent.py:631: ConvergenceWarning: Objective did not converge. You might want to increase the number of iterations, check the scale of the features or consider increasing regularisation. Duality gap: 4.211e+11, tolerance: 1.525e+09\n",
            "  model = cd_fast.enet_coordinate_descent(\n"
          ]
        },
        {
          "output_type": "stream",
          "name": "stdout",
          "text": [
            "[CV 1/10] END ...alpha=0.1, l1_ratio=1;, score=-601379551.641 total time=   0.6s\n"
          ]
        },
        {
          "output_type": "stream",
          "name": "stderr",
          "text": [
            "/usr/local/lib/python3.10/dist-packages/sklearn/linear_model/_coordinate_descent.py:631: ConvergenceWarning: Objective did not converge. You might want to increase the number of iterations, check the scale of the features or consider increasing regularisation. Duality gap: 4.138e+11, tolerance: 1.477e+09\n",
            "  model = cd_fast.enet_coordinate_descent(\n"
          ]
        },
        {
          "output_type": "stream",
          "name": "stdout",
          "text": [
            "[CV 2/10] END ...alpha=0.1, l1_ratio=1;, score=-707143161.049 total time=   0.6s\n"
          ]
        },
        {
          "output_type": "stream",
          "name": "stderr",
          "text": [
            "/usr/local/lib/python3.10/dist-packages/sklearn/linear_model/_coordinate_descent.py:631: ConvergenceWarning: Objective did not converge. You might want to increase the number of iterations, check the scale of the features or consider increasing regularisation. Duality gap: 4.320e+11, tolerance: 1.535e+09\n",
            "  model = cd_fast.enet_coordinate_descent(\n"
          ]
        },
        {
          "output_type": "stream",
          "name": "stdout",
          "text": [
            "[CV 3/10] END ...alpha=0.1, l1_ratio=1;, score=-513973812.317 total time=   0.7s\n"
          ]
        },
        {
          "output_type": "stream",
          "name": "stderr",
          "text": [
            "/usr/local/lib/python3.10/dist-packages/sklearn/linear_model/_coordinate_descent.py:631: ConvergenceWarning: Objective did not converge. You might want to increase the number of iterations, check the scale of the features or consider increasing regularisation. Duality gap: 4.480e+11, tolerance: 1.555e+09\n",
            "  model = cd_fast.enet_coordinate_descent(\n"
          ]
        },
        {
          "output_type": "stream",
          "name": "stdout",
          "text": [
            "[CV 4/10] END ...alpha=0.1, l1_ratio=1;, score=-365462327.090 total time=   0.7s\n"
          ]
        },
        {
          "output_type": "stream",
          "name": "stderr",
          "text": [
            "/usr/local/lib/python3.10/dist-packages/sklearn/linear_model/_coordinate_descent.py:631: ConvergenceWarning: Objective did not converge. You might want to increase the number of iterations, check the scale of the features or consider increasing regularisation. Duality gap: 4.440e+11, tolerance: 1.532e+09\n",
            "  model = cd_fast.enet_coordinate_descent(\n"
          ]
        },
        {
          "output_type": "stream",
          "name": "stdout",
          "text": [
            "[CV 5/10] END ...alpha=0.1, l1_ratio=1;, score=-386621942.997 total time=   0.6s\n"
          ]
        },
        {
          "output_type": "stream",
          "name": "stderr",
          "text": [
            "/usr/local/lib/python3.10/dist-packages/sklearn/linear_model/_coordinate_descent.py:631: ConvergenceWarning: Objective did not converge. You might want to increase the number of iterations, check the scale of the features or consider increasing regularisation. Duality gap: 4.244e+11, tolerance: 1.474e+09\n",
            "  model = cd_fast.enet_coordinate_descent(\n"
          ]
        },
        {
          "output_type": "stream",
          "name": "stdout",
          "text": [
            "[CV 6/10] END ...alpha=0.1, l1_ratio=1;, score=-572004449.366 total time=   0.6s\n"
          ]
        },
        {
          "output_type": "stream",
          "name": "stderr",
          "text": [
            "/usr/local/lib/python3.10/dist-packages/sklearn/linear_model/_coordinate_descent.py:631: ConvergenceWarning: Objective did not converge. You might want to increase the number of iterations, check the scale of the features or consider increasing regularisation. Duality gap: 4.156e+11, tolerance: 1.537e+09\n",
            "  model = cd_fast.enet_coordinate_descent(\n"
          ]
        },
        {
          "output_type": "stream",
          "name": "stdout",
          "text": [
            "[CV 7/10] END ...alpha=0.1, l1_ratio=1;, score=-669755830.834 total time=   0.6s\n"
          ]
        },
        {
          "output_type": "stream",
          "name": "stderr",
          "text": [
            "/usr/local/lib/python3.10/dist-packages/sklearn/linear_model/_coordinate_descent.py:631: ConvergenceWarning: Objective did not converge. You might want to increase the number of iterations, check the scale of the features or consider increasing regularisation. Duality gap: 4.260e+11, tolerance: 1.516e+09\n",
            "  model = cd_fast.enet_coordinate_descent(\n"
          ]
        },
        {
          "output_type": "stream",
          "name": "stdout",
          "text": [
            "[CV 8/10] END ...alpha=0.1, l1_ratio=1;, score=-563068293.945 total time=   0.7s\n"
          ]
        },
        {
          "output_type": "stream",
          "name": "stderr",
          "text": [
            "/usr/local/lib/python3.10/dist-packages/sklearn/linear_model/_coordinate_descent.py:631: ConvergenceWarning: Objective did not converge. You might want to increase the number of iterations, check the scale of the features or consider increasing regularisation. Duality gap: 4.291e+11, tolerance: 1.535e+09\n",
            "  model = cd_fast.enet_coordinate_descent(\n"
          ]
        },
        {
          "output_type": "stream",
          "name": "stdout",
          "text": [
            "[CV 9/10] END ...alpha=0.1, l1_ratio=1;, score=-463897364.792 total time=   0.6s\n"
          ]
        },
        {
          "output_type": "stream",
          "name": "stderr",
          "text": [
            "/usr/local/lib/python3.10/dist-packages/sklearn/linear_model/_coordinate_descent.py:631: ConvergenceWarning: Objective did not converge. You might want to increase the number of iterations, check the scale of the features or consider increasing regularisation. Duality gap: 4.426e+11, tolerance: 1.532e+09\n",
            "  model = cd_fast.enet_coordinate_descent(\n"
          ]
        },
        {
          "output_type": "stream",
          "name": "stdout",
          "text": [
            "[CV 10/10] END ..alpha=0.1, l1_ratio=1;, score=-497290046.086 total time=   0.6s\n",
            "[CV 1/10] END .alpha=0.2, l1_ratio=0.1;, score=-650644951.422 total time=   0.2s\n",
            "[CV 2/10] END .alpha=0.2, l1_ratio=0.1;, score=-792945336.024 total time=   0.3s\n",
            "[CV 3/10] END .alpha=0.2, l1_ratio=0.1;, score=-541779831.708 total time=   0.3s\n",
            "[CV 4/10] END .alpha=0.2, l1_ratio=0.1;, score=-325424565.506 total time=   0.4s\n",
            "[CV 5/10] END .alpha=0.2, l1_ratio=0.1;, score=-472753207.773 total time=   0.3s\n",
            "[CV 6/10] END .alpha=0.2, l1_ratio=0.1;, score=-654906983.138 total time=   0.4s\n",
            "[CV 7/10] END .alpha=0.2, l1_ratio=0.1;, score=-629848641.477 total time=   0.3s\n",
            "[CV 8/10] END .alpha=0.2, l1_ratio=0.1;, score=-551483689.421 total time=   0.3s\n",
            "[CV 9/10] END .alpha=0.2, l1_ratio=0.1;, score=-457608267.483 total time=   0.3s\n",
            "[CV 10/10] END alpha=0.2, l1_ratio=0.1;, score=-545136573.743 total time=   0.3s\n",
            "[CV 1/10] END .alpha=0.2, l1_ratio=0.3;, score=-640444060.949 total time=   0.2s\n",
            "[CV 2/10] END .alpha=0.2, l1_ratio=0.3;, score=-770309365.905 total time=   0.2s\n",
            "[CV 3/10] END .alpha=0.2, l1_ratio=0.3;, score=-529136133.590 total time=   0.3s\n",
            "[CV 4/10] END .alpha=0.2, l1_ratio=0.3;, score=-320163829.286 total time=   0.2s\n",
            "[CV 5/10] END .alpha=0.2, l1_ratio=0.3;, score=-459650834.003 total time=   0.2s\n",
            "[CV 6/10] END .alpha=0.2, l1_ratio=0.3;, score=-635074130.926 total time=   0.2s\n",
            "[CV 7/10] END .alpha=0.2, l1_ratio=0.3;, score=-629260122.937 total time=   0.2s\n",
            "[CV 8/10] END .alpha=0.2, l1_ratio=0.3;, score=-546411175.451 total time=   0.2s\n",
            "[CV 9/10] END .alpha=0.2, l1_ratio=0.3;, score=-452924160.947 total time=   0.2s\n",
            "[CV 10/10] END alpha=0.2, l1_ratio=0.3;, score=-532759379.421 total time=   0.2s\n",
            "[CV 1/10] END .alpha=0.2, l1_ratio=0.5;, score=-629676491.503 total time=   0.2s\n",
            "[CV 2/10] END .alpha=0.2, l1_ratio=0.5;, score=-746467196.215 total time=   0.2s\n",
            "[CV 3/10] END .alpha=0.2, l1_ratio=0.5;, score=-516681183.688 total time=   0.3s\n",
            "[CV 4/10] END .alpha=0.2, l1_ratio=0.5;, score=-315700920.815 total time=   0.3s\n",
            "[CV 5/10] END .alpha=0.2, l1_ratio=0.5;, score=-445268929.715 total time=   0.2s\n",
            "[CV 6/10] END .alpha=0.2, l1_ratio=0.5;, score=-614515649.795 total time=   0.2s\n",
            "[CV 7/10] END .alpha=0.2, l1_ratio=0.5;, score=-630601542.095 total time=   0.2s\n",
            "[CV 8/10] END .alpha=0.2, l1_ratio=0.5;, score=-542998048.071 total time=   0.3s\n",
            "[CV 9/10] END .alpha=0.2, l1_ratio=0.5;, score=-449076149.543 total time=   0.2s\n",
            "[CV 10/10] END alpha=0.2, l1_ratio=0.5;, score=-518537278.462 total time=   0.3s\n",
            "[CV 1/10] END .alpha=0.2, l1_ratio=0.7;, score=-617506069.865 total time=   0.3s\n",
            "[CV 2/10] END .alpha=0.2, l1_ratio=0.7;, score=-721207475.375 total time=   0.3s\n",
            "[CV 3/10] END .alpha=0.2, l1_ratio=0.7;, score=-505430794.436 total time=   0.3s\n",
            "[CV 4/10] END .alpha=0.2, l1_ratio=0.7;, score=-313533706.273 total time=   0.3s\n",
            "[CV 5/10] END .alpha=0.2, l1_ratio=0.7;, score=-428772169.084 total time=   0.3s\n",
            "[CV 6/10] END .alpha=0.2, l1_ratio=0.7;, score=-593068747.032 total time=   0.3s\n",
            "[CV 7/10] END .alpha=0.2, l1_ratio=0.7;, score=-635427196.975 total time=   0.3s\n",
            "[CV 8/10] END .alpha=0.2, l1_ratio=0.7;, score=-542804403.452 total time=   0.3s\n",
            "[CV 9/10] END .alpha=0.2, l1_ratio=0.7;, score=-447109781.023 total time=   0.3s\n",
            "[CV 10/10] END alpha=0.2, l1_ratio=0.7;, score=-501062073.546 total time=   0.3s\n",
            "[CV 1/10] END .alpha=0.2, l1_ratio=0.8;, score=-610295443.451 total time=   0.3s\n",
            "[CV 2/10] END .alpha=0.2, l1_ratio=0.8;, score=-708250398.356 total time=   0.3s\n",
            "[CV 3/10] END .alpha=0.2, l1_ratio=0.8;, score=-501305299.404 total time=   0.4s\n",
            "[CV 4/10] END .alpha=0.2, l1_ratio=0.8;, score=-314625479.616 total time=   0.4s\n",
            "[CV 5/10] END .alpha=0.2, l1_ratio=0.8;, score=-419238627.411 total time=   0.4s\n",
            "[CV 6/10] END .alpha=0.2, l1_ratio=0.8;, score=-582041711.430 total time=   0.6s\n",
            "[CV 7/10] END .alpha=0.2, l1_ratio=0.8;, score=-640322997.786 total time=   0.6s\n",
            "[CV 8/10] END .alpha=0.2, l1_ratio=0.8;, score=-545196757.261 total time=   0.5s\n",
            "[CV 9/10] END .alpha=0.2, l1_ratio=0.8;, score=-447731851.775 total time=   0.5s\n",
            "[CV 10/10] END alpha=0.2, l1_ratio=0.8;, score=-490211363.693 total time=   0.5s\n",
            "[CV 1/10] END .alpha=0.2, l1_ratio=0.9;, score=-601890109.787 total time=   0.7s\n",
            "[CV 2/10] END .alpha=0.2, l1_ratio=0.9;, score=-696349400.539 total time=   0.6s\n",
            "[CV 3/10] END .alpha=0.2, l1_ratio=0.9;, score=-500220878.842 total time=   0.7s\n",
            "[CV 4/10] END .alpha=0.2, l1_ratio=0.9;, score=-319140272.599 total time=   0.7s\n",
            "[CV 5/10] END .alpha=0.2, l1_ratio=0.9;, score=-408246538.766 total time=   0.7s\n",
            "[CV 6/10] END .alpha=0.2, l1_ratio=0.9;, score=-571060846.617 total time=   0.7s\n",
            "[CV 7/10] END .alpha=0.2, l1_ratio=0.9;, score=-648546239.027 total time=   0.6s\n",
            "[CV 8/10] END .alpha=0.2, l1_ratio=0.9;, score=-551292854.954 total time=   0.6s\n",
            "[CV 9/10] END .alpha=0.2, l1_ratio=0.9;, score=-450810667.881 total time=   0.6s\n",
            "[CV 10/10] END alpha=0.2, l1_ratio=0.9;, score=-476960588.582 total time=   0.6s\n"
          ]
        },
        {
          "output_type": "stream",
          "name": "stderr",
          "text": [
            "/usr/local/lib/python3.10/dist-packages/sklearn/linear_model/_coordinate_descent.py:631: ConvergenceWarning: Objective did not converge. You might want to increase the number of iterations, check the scale of the features or consider increasing regularisation. Duality gap: 1.330e+11, tolerance: 1.525e+09\n",
            "  model = cd_fast.enet_coordinate_descent(\n"
          ]
        },
        {
          "output_type": "stream",
          "name": "stdout",
          "text": [
            "[CV 1/10] END alpha=0.2, l1_ratio=0.95;, score=-597605777.069 total time=   0.7s\n"
          ]
        },
        {
          "output_type": "stream",
          "name": "stderr",
          "text": [
            "/usr/local/lib/python3.10/dist-packages/sklearn/linear_model/_coordinate_descent.py:631: ConvergenceWarning: Objective did not converge. You might want to increase the number of iterations, check the scale of the features or consider increasing regularisation. Duality gap: 6.714e+10, tolerance: 1.477e+09\n",
            "  model = cd_fast.enet_coordinate_descent(\n"
          ]
        },
        {
          "output_type": "stream",
          "name": "stdout",
          "text": [
            "[CV 2/10] END alpha=0.2, l1_ratio=0.95;, score=-692529062.047 total time=   0.7s\n"
          ]
        },
        {
          "output_type": "stream",
          "name": "stderr",
          "text": [
            "/usr/local/lib/python3.10/dist-packages/sklearn/linear_model/_coordinate_descent.py:631: ConvergenceWarning: Objective did not converge. You might want to increase the number of iterations, check the scale of the features or consider increasing regularisation. Duality gap: 1.302e+11, tolerance: 1.535e+09\n",
            "  model = cd_fast.enet_coordinate_descent(\n"
          ]
        },
        {
          "output_type": "stream",
          "name": "stdout",
          "text": [
            "[CV 3/10] END alpha=0.2, l1_ratio=0.95;, score=-502617107.747 total time=   0.9s\n"
          ]
        },
        {
          "output_type": "stream",
          "name": "stderr",
          "text": [
            "/usr/local/lib/python3.10/dist-packages/sklearn/linear_model/_coordinate_descent.py:631: ConvergenceWarning: Objective did not converge. You might want to increase the number of iterations, check the scale of the features or consider increasing regularisation. Duality gap: 1.456e+11, tolerance: 1.555e+09\n",
            "  model = cd_fast.enet_coordinate_descent(\n"
          ]
        },
        {
          "output_type": "stream",
          "name": "stdout",
          "text": [
            "[CV 4/10] END alpha=0.2, l1_ratio=0.95;, score=-323780422.724 total time=   0.8s\n"
          ]
        },
        {
          "output_type": "stream",
          "name": "stderr",
          "text": [
            "/usr/local/lib/python3.10/dist-packages/sklearn/linear_model/_coordinate_descent.py:631: ConvergenceWarning: Objective did not converge. You might want to increase the number of iterations, check the scale of the features or consider increasing regularisation. Duality gap: 1.254e+11, tolerance: 1.532e+09\n",
            "  model = cd_fast.enet_coordinate_descent(\n"
          ]
        },
        {
          "output_type": "stream",
          "name": "stdout",
          "text": [
            "[CV 5/10] END alpha=0.2, l1_ratio=0.95;, score=-401655433.465 total time=   0.9s\n"
          ]
        },
        {
          "output_type": "stream",
          "name": "stderr",
          "text": [
            "/usr/local/lib/python3.10/dist-packages/sklearn/linear_model/_coordinate_descent.py:631: ConvergenceWarning: Objective did not converge. You might want to increase the number of iterations, check the scale of the features or consider increasing regularisation. Duality gap: 1.259e+11, tolerance: 1.474e+09\n",
            "  model = cd_fast.enet_coordinate_descent(\n"
          ]
        },
        {
          "output_type": "stream",
          "name": "stdout",
          "text": [
            "[CV 6/10] END alpha=0.2, l1_ratio=0.95;, score=-565802532.318 total time=   1.2s\n"
          ]
        },
        {
          "output_type": "stream",
          "name": "stderr",
          "text": [
            "/usr/local/lib/python3.10/dist-packages/sklearn/linear_model/_coordinate_descent.py:631: ConvergenceWarning: Objective did not converge. You might want to increase the number of iterations, check the scale of the features or consider increasing regularisation. Duality gap: 9.785e+10, tolerance: 1.537e+09\n",
            "  model = cd_fast.enet_coordinate_descent(\n"
          ]
        },
        {
          "output_type": "stream",
          "name": "stdout",
          "text": [
            "[CV 7/10] END alpha=0.2, l1_ratio=0.95;, score=-655021537.245 total time=   1.1s\n"
          ]
        },
        {
          "output_type": "stream",
          "name": "stderr",
          "text": [
            "/usr/local/lib/python3.10/dist-packages/sklearn/linear_model/_coordinate_descent.py:631: ConvergenceWarning: Objective did not converge. You might want to increase the number of iterations, check the scale of the features or consider increasing regularisation. Duality gap: 9.117e+10, tolerance: 1.516e+09\n",
            "  model = cd_fast.enet_coordinate_descent(\n"
          ]
        },
        {
          "output_type": "stream",
          "name": "stdout",
          "text": [
            "[CV 8/10] END alpha=0.2, l1_ratio=0.95;, score=-556997347.389 total time=   0.9s\n"
          ]
        },
        {
          "output_type": "stream",
          "name": "stderr",
          "text": [
            "/usr/local/lib/python3.10/dist-packages/sklearn/linear_model/_coordinate_descent.py:631: ConvergenceWarning: Objective did not converge. You might want to increase the number of iterations, check the scale of the features or consider increasing regularisation. Duality gap: 1.253e+11, tolerance: 1.535e+09\n",
            "  model = cd_fast.enet_coordinate_descent(\n"
          ]
        },
        {
          "output_type": "stream",
          "name": "stdout",
          "text": [
            "[CV 9/10] END alpha=0.2, l1_ratio=0.95;, score=-454198846.426 total time=   0.7s\n"
          ]
        },
        {
          "output_type": "stream",
          "name": "stderr",
          "text": [
            "/usr/local/lib/python3.10/dist-packages/sklearn/linear_model/_coordinate_descent.py:631: ConvergenceWarning: Objective did not converge. You might want to increase the number of iterations, check the scale of the features or consider increasing regularisation. Duality gap: 1.232e+11, tolerance: 1.532e+09\n",
            "  model = cd_fast.enet_coordinate_descent(\n"
          ]
        },
        {
          "output_type": "stream",
          "name": "stdout",
          "text": [
            "[CV 10/10] END alpha=0.2, l1_ratio=0.95;, score=-469233789.505 total time=   0.7s\n"
          ]
        },
        {
          "output_type": "stream",
          "name": "stderr",
          "text": [
            "/usr/local/lib/python3.10/dist-packages/sklearn/linear_model/_coordinate_descent.py:631: ConvergenceWarning: Objective did not converge. You might want to increase the number of iterations, check the scale of the features or consider increasing regularisation. Duality gap: 4.104e+11, tolerance: 1.525e+09\n",
            "  model = cd_fast.enet_coordinate_descent(\n"
          ]
        },
        {
          "output_type": "stream",
          "name": "stdout",
          "text": [
            "[CV 1/10] END ...alpha=0.2, l1_ratio=1;, score=-601249879.390 total time=   0.6s\n"
          ]
        },
        {
          "output_type": "stream",
          "name": "stderr",
          "text": [
            "/usr/local/lib/python3.10/dist-packages/sklearn/linear_model/_coordinate_descent.py:631: ConvergenceWarning: Objective did not converge. You might want to increase the number of iterations, check the scale of the features or consider increasing regularisation. Duality gap: 4.035e+11, tolerance: 1.477e+09\n",
            "  model = cd_fast.enet_coordinate_descent(\n"
          ]
        },
        {
          "output_type": "stream",
          "name": "stdout",
          "text": [
            "[CV 2/10] END ...alpha=0.2, l1_ratio=1;, score=-706859227.540 total time=   0.5s\n"
          ]
        },
        {
          "output_type": "stream",
          "name": "stderr",
          "text": [
            "/usr/local/lib/python3.10/dist-packages/sklearn/linear_model/_coordinate_descent.py:631: ConvergenceWarning: Objective did not converge. You might want to increase the number of iterations, check the scale of the features or consider increasing regularisation. Duality gap: 4.260e+11, tolerance: 1.535e+09\n",
            "  model = cd_fast.enet_coordinate_descent(\n"
          ]
        },
        {
          "output_type": "stream",
          "name": "stdout",
          "text": [
            "[CV 3/10] END ...alpha=0.2, l1_ratio=1;, score=-513882663.288 total time=   0.6s\n"
          ]
        },
        {
          "output_type": "stream",
          "name": "stderr",
          "text": [
            "/usr/local/lib/python3.10/dist-packages/sklearn/linear_model/_coordinate_descent.py:631: ConvergenceWarning: Objective did not converge. You might want to increase the number of iterations, check the scale of the features or consider increasing regularisation. Duality gap: 4.376e+11, tolerance: 1.555e+09\n",
            "  model = cd_fast.enet_coordinate_descent(\n"
          ]
        },
        {
          "output_type": "stream",
          "name": "stdout",
          "text": [
            "[CV 4/10] END ...alpha=0.2, l1_ratio=1;, score=-361519183.710 total time=   0.6s\n"
          ]
        },
        {
          "output_type": "stream",
          "name": "stderr",
          "text": [
            "/usr/local/lib/python3.10/dist-packages/sklearn/linear_model/_coordinate_descent.py:631: ConvergenceWarning: Objective did not converge. You might want to increase the number of iterations, check the scale of the features or consider increasing regularisation. Duality gap: 4.355e+11, tolerance: 1.532e+09\n",
            "  model = cd_fast.enet_coordinate_descent(\n"
          ]
        },
        {
          "output_type": "stream",
          "name": "stdout",
          "text": [
            "[CV 5/10] END ...alpha=0.2, l1_ratio=1;, score=-386638894.442 total time=   0.6s\n"
          ]
        },
        {
          "output_type": "stream",
          "name": "stderr",
          "text": [
            "/usr/local/lib/python3.10/dist-packages/sklearn/linear_model/_coordinate_descent.py:631: ConvergenceWarning: Objective did not converge. You might want to increase the number of iterations, check the scale of the features or consider increasing regularisation. Duality gap: 4.148e+11, tolerance: 1.474e+09\n",
            "  model = cd_fast.enet_coordinate_descent(\n"
          ]
        },
        {
          "output_type": "stream",
          "name": "stdout",
          "text": [
            "[CV 6/10] END ...alpha=0.2, l1_ratio=1;, score=-571643604.745 total time=   0.5s\n"
          ]
        },
        {
          "output_type": "stream",
          "name": "stderr",
          "text": [
            "/usr/local/lib/python3.10/dist-packages/sklearn/linear_model/_coordinate_descent.py:631: ConvergenceWarning: Objective did not converge. You might want to increase the number of iterations, check the scale of the features or consider increasing regularisation. Duality gap: 4.045e+11, tolerance: 1.537e+09\n",
            "  model = cd_fast.enet_coordinate_descent(\n"
          ]
        },
        {
          "output_type": "stream",
          "name": "stdout",
          "text": [
            "[CV 7/10] END ...alpha=0.2, l1_ratio=1;, score=-669614214.101 total time=   0.6s\n"
          ]
        },
        {
          "output_type": "stream",
          "name": "stderr",
          "text": [
            "/usr/local/lib/python3.10/dist-packages/sklearn/linear_model/_coordinate_descent.py:631: ConvergenceWarning: Objective did not converge. You might want to increase the number of iterations, check the scale of the features or consider increasing regularisation. Duality gap: 4.180e+11, tolerance: 1.516e+09\n",
            "  model = cd_fast.enet_coordinate_descent(\n"
          ]
        },
        {
          "output_type": "stream",
          "name": "stdout",
          "text": [
            "[CV 8/10] END ...alpha=0.2, l1_ratio=1;, score=-563081059.438 total time=   0.6s\n"
          ]
        },
        {
          "output_type": "stream",
          "name": "stderr",
          "text": [
            "/usr/local/lib/python3.10/dist-packages/sklearn/linear_model/_coordinate_descent.py:631: ConvergenceWarning: Objective did not converge. You might want to increase the number of iterations, check the scale of the features or consider increasing regularisation. Duality gap: 4.165e+11, tolerance: 1.535e+09\n",
            "  model = cd_fast.enet_coordinate_descent(\n"
          ]
        },
        {
          "output_type": "stream",
          "name": "stdout",
          "text": [
            "[CV 9/10] END ...alpha=0.2, l1_ratio=1;, score=-463836063.126 total time=   0.6s\n"
          ]
        },
        {
          "output_type": "stream",
          "name": "stderr",
          "text": [
            "/usr/local/lib/python3.10/dist-packages/sklearn/linear_model/_coordinate_descent.py:631: ConvergenceWarning: Objective did not converge. You might want to increase the number of iterations, check the scale of the features or consider increasing regularisation. Duality gap: 4.309e+11, tolerance: 1.532e+09\n",
            "  model = cd_fast.enet_coordinate_descent(\n"
          ]
        },
        {
          "output_type": "stream",
          "name": "stdout",
          "text": [
            "[CV 10/10] END ..alpha=0.2, l1_ratio=1;, score=-496613165.458 total time=   0.5s\n",
            "[CV 1/10] END .alpha=0.3, l1_ratio=0.1;, score=-672834530.008 total time=   0.2s\n",
            "[CV 2/10] END .alpha=0.3, l1_ratio=0.1;, score=-840546642.741 total time=   0.2s\n",
            "[CV 3/10] END .alpha=0.3, l1_ratio=0.1;, score=-569584870.740 total time=   0.2s\n",
            "[CV 4/10] END .alpha=0.3, l1_ratio=0.1;, score=-337956017.101 total time=   0.2s\n",
            "[CV 5/10] END .alpha=0.3, l1_ratio=0.1;, score=-499512973.700 total time=   0.2s\n",
            "[CV 6/10] END .alpha=0.3, l1_ratio=0.1;, score=-697598949.106 total time=   0.2s\n",
            "[CV 7/10] END .alpha=0.3, l1_ratio=0.1;, score=-635112095.195 total time=   0.2s\n",
            "[CV 8/10] END .alpha=0.3, l1_ratio=0.1;, score=-566050738.504 total time=   0.2s\n",
            "[CV 9/10] END .alpha=0.3, l1_ratio=0.1;, score=-469509007.171 total time=   0.2s\n",
            "[CV 10/10] END alpha=0.3, l1_ratio=0.1;, score=-569287028.361 total time=   0.2s\n",
            "[CV 1/10] END .alpha=0.3, l1_ratio=0.3;, score=-658106374.011 total time=   0.1s\n",
            "[CV 2/10] END .alpha=0.3, l1_ratio=0.3;, score=-809272492.660 total time=   0.2s\n",
            "[CV 3/10] END .alpha=0.3, l1_ratio=0.3;, score=-551184616.249 total time=   0.1s\n",
            "[CV 4/10] END .alpha=0.3, l1_ratio=0.3;, score=-329562261.010 total time=   0.1s\n",
            "[CV 5/10] END .alpha=0.3, l1_ratio=0.3;, score=-482003960.451 total time=   0.2s\n",
            "[CV 6/10] END .alpha=0.3, l1_ratio=0.3;, score=-669414192.653 total time=   0.2s\n",
            "[CV 7/10] END .alpha=0.3, l1_ratio=0.3;, score=-631114282.659 total time=   0.2s\n",
            "[CV 8/10] END .alpha=0.3, l1_ratio=0.3;, score=-555957254.186 total time=   0.3s\n",
            "[CV 9/10] END .alpha=0.3, l1_ratio=0.3;, score=-461420076.477 total time=   0.2s\n",
            "[CV 10/10] END alpha=0.3, l1_ratio=0.3;, score=-553625271.370 total time=   0.3s\n",
            "[CV 1/10] END .alpha=0.3, l1_ratio=0.5;, score=-643007765.783 total time=   0.3s\n",
            "[CV 2/10] END .alpha=0.3, l1_ratio=0.5;, score=-776068044.183 total time=   0.3s\n",
            "[CV 3/10] END .alpha=0.3, l1_ratio=0.5;, score=-532298599.126 total time=   0.3s\n",
            "[CV 4/10] END .alpha=0.3, l1_ratio=0.5;, score=-321430971.814 total time=   0.3s\n",
            "[CV 5/10] END .alpha=0.3, l1_ratio=0.5;, score=-463017282.416 total time=   0.3s\n",
            "[CV 6/10] END .alpha=0.3, l1_ratio=0.5;, score=-640114193.671 total time=   0.1s\n",
            "[CV 7/10] END .alpha=0.3, l1_ratio=0.5;, score=-629252197.621 total time=   0.3s\n",
            "[CV 8/10] END .alpha=0.3, l1_ratio=0.5;, score=-547544599.414 total time=   0.2s\n",
            "[CV 9/10] END .alpha=0.3, l1_ratio=0.5;, score=-454029996.732 total time=   0.2s\n",
            "[CV 10/10] END alpha=0.3, l1_ratio=0.5;, score=-535982956.845 total time=   0.2s\n",
            "[CV 1/10] END .alpha=0.3, l1_ratio=0.7;, score=-626792086.045 total time=   0.4s\n",
            "[CV 2/10] END .alpha=0.3, l1_ratio=0.7;, score=-740283755.903 total time=   0.2s\n",
            "[CV 3/10] END .alpha=0.3, l1_ratio=0.7;, score=-513680463.360 total time=   0.3s\n",
            "[CV 4/10] END .alpha=0.3, l1_ratio=0.7;, score=-314835626.717 total time=   0.3s\n",
            "[CV 5/10] END .alpha=0.3, l1_ratio=0.7;, score=-441384843.182 total time=   0.2s\n",
            "[CV 6/10] END .alpha=0.3, l1_ratio=0.7;, score=-609260200.893 total time=   0.3s\n",
            "[CV 7/10] END .alpha=0.3, l1_ratio=0.7;, score=-631369565.184 total time=   0.3s\n",
            "[CV 8/10] END .alpha=0.3, l1_ratio=0.7;, score=-542527949.438 total time=   0.3s\n",
            "[CV 9/10] END .alpha=0.3, l1_ratio=0.7;, score=-448334488.783 total time=   0.2s\n",
            "[CV 10/10] END alpha=0.3, l1_ratio=0.7;, score=-514549410.016 total time=   0.2s\n",
            "[CV 1/10] END .alpha=0.3, l1_ratio=0.8;, score=-617468140.041 total time=   0.3s\n",
            "[CV 2/10] END .alpha=0.3, l1_ratio=0.8;, score=-721210921.571 total time=   0.3s\n",
            "[CV 3/10] END .alpha=0.3, l1_ratio=0.8;, score=-505429537.294 total time=   0.3s\n",
            "[CV 4/10] END .alpha=0.3, l1_ratio=0.8;, score=-313526162.841 total time=   0.3s\n",
            "[CV 5/10] END .alpha=0.3, l1_ratio=0.8;, score=-428768872.410 total time=   0.3s\n",
            "[CV 6/10] END .alpha=0.3, l1_ratio=0.8;, score=-593087137.562 total time=   0.3s\n",
            "[CV 7/10] END .alpha=0.3, l1_ratio=0.8;, score=-635404103.387 total time=   0.3s\n",
            "[CV 8/10] END .alpha=0.3, l1_ratio=0.8;, score=-542782192.272 total time=   0.3s\n",
            "[CV 9/10] END .alpha=0.3, l1_ratio=0.8;, score=-447099935.565 total time=   0.3s\n",
            "[CV 10/10] END alpha=0.3, l1_ratio=0.8;, score=-501057015.710 total time=   0.3s\n",
            "[CV 1/10] END .alpha=0.3, l1_ratio=0.9;, score=-606205833.619 total time=   0.4s\n",
            "[CV 2/10] END .alpha=0.3, l1_ratio=0.9;, score=-701992407.737 total time=   0.4s\n",
            "[CV 3/10] END .alpha=0.3, l1_ratio=0.9;, score=-500151441.279 total time=   0.4s\n",
            "[CV 4/10] END .alpha=0.3, l1_ratio=0.9;, score=-316267918.139 total time=   0.4s\n",
            "[CV 5/10] END .alpha=0.3, l1_ratio=0.9;, score=-413981686.766 total time=   0.6s\n",
            "[CV 6/10] END .alpha=0.3, l1_ratio=0.9;, score=-576531111.825 total time=   0.4s\n",
            "[CV 7/10] END .alpha=0.3, l1_ratio=0.9;, score=-643852044.207 total time=   0.4s\n",
            "[CV 8/10] END .alpha=0.3, l1_ratio=0.9;, score=-547565769.895 total time=   0.4s\n",
            "[CV 9/10] END .alpha=0.3, l1_ratio=0.9;, score=-448824265.151 total time=   0.6s\n",
            "[CV 10/10] END alpha=0.3, l1_ratio=0.9;, score=-483959254.929 total time=   0.6s\n",
            "[CV 1/10] END alpha=0.3, l1_ratio=0.95;, score=-599623882.576 total time=   1.1s\n",
            "[CV 2/10] END alpha=0.3, l1_ratio=0.95;, score=-694089442.426 total time=   0.7s\n",
            "[CV 3/10] END alpha=0.3, l1_ratio=0.95;, score=-500977578.099 total time=   0.7s\n",
            "[CV 4/10] END alpha=0.3, l1_ratio=0.95;, score=-321179827.630 total time=   0.7s\n",
            "[CV 5/10] END alpha=0.3, l1_ratio=0.95;, score=-405116459.313 total time=   0.8s\n",
            "[CV 6/10] END alpha=0.3, l1_ratio=0.95;, score=-568428503.635 total time=   0.7s\n",
            "[CV 7/10] END alpha=0.3, l1_ratio=0.95;, score=-651448401.317 total time=   0.7s\n",
            "[CV 8/10] END alpha=0.3, l1_ratio=0.95;, score=-553806651.218 total time=   0.7s\n",
            "[CV 9/10] END alpha=0.3, l1_ratio=0.95;, score=-452260794.536 total time=   0.7s\n",
            "[CV 10/10] END alpha=0.3, l1_ratio=0.95;, score=-473167606.428 total time=   0.7s\n"
          ]
        },
        {
          "output_type": "stream",
          "name": "stderr",
          "text": [
            "/usr/local/lib/python3.10/dist-packages/sklearn/linear_model/_coordinate_descent.py:631: ConvergenceWarning: Objective did not converge. You might want to increase the number of iterations, check the scale of the features or consider increasing regularisation. Duality gap: 3.996e+11, tolerance: 1.525e+09\n",
            "  model = cd_fast.enet_coordinate_descent(\n"
          ]
        },
        {
          "output_type": "stream",
          "name": "stdout",
          "text": [
            "[CV 1/10] END ...alpha=0.3, l1_ratio=1;, score=-601120470.531 total time=   0.5s\n"
          ]
        },
        {
          "output_type": "stream",
          "name": "stderr",
          "text": [
            "/usr/local/lib/python3.10/dist-packages/sklearn/linear_model/_coordinate_descent.py:631: ConvergenceWarning: Objective did not converge. You might want to increase the number of iterations, check the scale of the features or consider increasing regularisation. Duality gap: 3.926e+11, tolerance: 1.477e+09\n",
            "  model = cd_fast.enet_coordinate_descent(\n"
          ]
        },
        {
          "output_type": "stream",
          "name": "stdout",
          "text": [
            "[CV 2/10] END ...alpha=0.3, l1_ratio=1;, score=-706633626.043 total time=   0.5s\n"
          ]
        },
        {
          "output_type": "stream",
          "name": "stderr",
          "text": [
            "/usr/local/lib/python3.10/dist-packages/sklearn/linear_model/_coordinate_descent.py:631: ConvergenceWarning: Objective did not converge. You might want to increase the number of iterations, check the scale of the features or consider increasing regularisation. Duality gap: 4.199e+11, tolerance: 1.535e+09\n",
            "  model = cd_fast.enet_coordinate_descent(\n"
          ]
        },
        {
          "output_type": "stream",
          "name": "stdout",
          "text": [
            "[CV 3/10] END ...alpha=0.3, l1_ratio=1;, score=-513793302.587 total time=   0.5s\n"
          ]
        },
        {
          "output_type": "stream",
          "name": "stderr",
          "text": [
            "/usr/local/lib/python3.10/dist-packages/sklearn/linear_model/_coordinate_descent.py:631: ConvergenceWarning: Objective did not converge. You might want to increase the number of iterations, check the scale of the features or consider increasing regularisation. Duality gap: 4.270e+11, tolerance: 1.555e+09\n",
            "  model = cd_fast.enet_coordinate_descent(\n"
          ]
        },
        {
          "output_type": "stream",
          "name": "stdout",
          "text": [
            "[CV 4/10] END ...alpha=0.3, l1_ratio=1;, score=-357798566.662 total time=   0.5s\n"
          ]
        },
        {
          "output_type": "stream",
          "name": "stderr",
          "text": [
            "/usr/local/lib/python3.10/dist-packages/sklearn/linear_model/_coordinate_descent.py:631: ConvergenceWarning: Objective did not converge. You might want to increase the number of iterations, check the scale of the features or consider increasing regularisation. Duality gap: 4.269e+11, tolerance: 1.532e+09\n",
            "  model = cd_fast.enet_coordinate_descent(\n"
          ]
        },
        {
          "output_type": "stream",
          "name": "stdout",
          "text": [
            "[CV 5/10] END ...alpha=0.3, l1_ratio=1;, score=-386655595.511 total time=   0.6s\n"
          ]
        },
        {
          "output_type": "stream",
          "name": "stderr",
          "text": [
            "/usr/local/lib/python3.10/dist-packages/sklearn/linear_model/_coordinate_descent.py:631: ConvergenceWarning: Objective did not converge. You might want to increase the number of iterations, check the scale of the features or consider increasing regularisation. Duality gap: 4.053e+11, tolerance: 1.474e+09\n",
            "  model = cd_fast.enet_coordinate_descent(\n"
          ]
        },
        {
          "output_type": "stream",
          "name": "stdout",
          "text": [
            "[CV 6/10] END ...alpha=0.3, l1_ratio=1;, score=-571274564.026 total time=   0.5s\n"
          ]
        },
        {
          "output_type": "stream",
          "name": "stderr",
          "text": [
            "/usr/local/lib/python3.10/dist-packages/sklearn/linear_model/_coordinate_descent.py:631: ConvergenceWarning: Objective did not converge. You might want to increase the number of iterations, check the scale of the features or consider increasing regularisation. Duality gap: 3.933e+11, tolerance: 1.537e+09\n",
            "  model = cd_fast.enet_coordinate_descent(\n"
          ]
        },
        {
          "output_type": "stream",
          "name": "stdout",
          "text": [
            "[CV 7/10] END ...alpha=0.3, l1_ratio=1;, score=-669482962.972 total time=   0.5s\n"
          ]
        },
        {
          "output_type": "stream",
          "name": "stderr",
          "text": [
            "/usr/local/lib/python3.10/dist-packages/sklearn/linear_model/_coordinate_descent.py:631: ConvergenceWarning: Objective did not converge. You might want to increase the number of iterations, check the scale of the features or consider increasing regularisation. Duality gap: 4.100e+11, tolerance: 1.516e+09\n",
            "  model = cd_fast.enet_coordinate_descent(\n"
          ]
        },
        {
          "output_type": "stream",
          "name": "stdout",
          "text": [
            "[CV 8/10] END ...alpha=0.3, l1_ratio=1;, score=-563093972.701 total time=   0.7s\n"
          ]
        },
        {
          "output_type": "stream",
          "name": "stderr",
          "text": [
            "/usr/local/lib/python3.10/dist-packages/sklearn/linear_model/_coordinate_descent.py:631: ConvergenceWarning: Objective did not converge. You might want to increase the number of iterations, check the scale of the features or consider increasing regularisation. Duality gap: 4.038e+11, tolerance: 1.535e+09\n",
            "  model = cd_fast.enet_coordinate_descent(\n"
          ]
        },
        {
          "output_type": "stream",
          "name": "stdout",
          "text": [
            "[CV 9/10] END ...alpha=0.3, l1_ratio=1;, score=-463774965.429 total time=   0.7s\n"
          ]
        },
        {
          "output_type": "stream",
          "name": "stderr",
          "text": [
            "/usr/local/lib/python3.10/dist-packages/sklearn/linear_model/_coordinate_descent.py:631: ConvergenceWarning: Objective did not converge. You might want to increase the number of iterations, check the scale of the features or consider increasing regularisation. Duality gap: 4.196e+11, tolerance: 1.532e+09\n",
            "  model = cd_fast.enet_coordinate_descent(\n"
          ]
        },
        {
          "output_type": "stream",
          "name": "stdout",
          "text": [
            "[CV 10/10] END ..alpha=0.3, l1_ratio=1;, score=-495948816.751 total time=   0.7s\n",
            "[CV 1/10] END .alpha=0.5, l1_ratio=0.1;, score=-715993389.608 total time=   0.2s\n",
            "[CV 2/10] END .alpha=0.5, l1_ratio=0.1;, score=-926128796.776 total time=   0.2s\n",
            "[CV 3/10] END .alpha=0.5, l1_ratio=0.1;, score=-620966484.939 total time=   0.2s\n",
            "[CV 4/10] END .alpha=0.5, l1_ratio=0.1;, score=-362490112.045 total time=   0.2s\n",
            "[CV 5/10] END .alpha=0.5, l1_ratio=0.1;, score=-547346990.690 total time=   0.1s\n",
            "[CV 6/10] END .alpha=0.5, l1_ratio=0.1;, score=-777486831.711 total time=   0.1s\n",
            "[CV 7/10] END .alpha=0.5, l1_ratio=0.1;, score=-653506837.459 total time=   0.2s\n",
            "[CV 8/10] END .alpha=0.5, l1_ratio=0.1;, score=-600914716.317 total time=   0.2s\n",
            "[CV 9/10] END .alpha=0.5, l1_ratio=0.1;, score=-495399288.698 total time=   0.2s\n",
            "[CV 10/10] END alpha=0.5, l1_ratio=0.1;, score=-610660647.159 total time=   0.2s\n",
            "[CV 1/10] END .alpha=0.5, l1_ratio=0.3;, score=-692172208.650 total time=   0.1s\n",
            "[CV 2/10] END .alpha=0.5, l1_ratio=0.3;, score=-879916229.742 total time=   0.2s\n",
            "[CV 3/10] END .alpha=0.5, l1_ratio=0.3;, score=-593128813.600 total time=   0.2s\n",
            "[CV 4/10] END .alpha=0.5, l1_ratio=0.3;, score=-349030819.984 total time=   0.2s\n",
            "[CV 5/10] END .alpha=0.5, l1_ratio=0.3;, score=-521433871.823 total time=   0.2s\n",
            "[CV 6/10] END .alpha=0.5, l1_ratio=0.3;, score=-733873149.266 total time=   0.2s\n",
            "[CV 7/10] END .alpha=0.5, l1_ratio=0.3;, score=-642422827.106 total time=   0.1s\n",
            "[CV 8/10] END .alpha=0.5, l1_ratio=0.3;, score=-580955725.785 total time=   0.2s\n",
            "[CV 9/10] END .alpha=0.5, l1_ratio=0.3;, score=-480814072.650 total time=   0.2s\n",
            "[CV 10/10] END alpha=0.5, l1_ratio=0.3;, score=-588409022.812 total time=   0.2s\n",
            "[CV 1/10] END .alpha=0.5, l1_ratio=0.5;, score=-667926412.655 total time=   0.2s\n",
            "[CV 2/10] END .alpha=0.5, l1_ratio=0.5;, score=-830316108.109 total time=   0.1s\n",
            "[CV 3/10] END .alpha=0.5, l1_ratio=0.5;, score=-563520291.414 total time=   0.1s\n",
            "[CV 4/10] END .alpha=0.5, l1_ratio=0.5;, score=-335153114.956 total time=   0.2s\n",
            "[CV 5/10] END .alpha=0.5, l1_ratio=0.5;, score=-493791499.979 total time=   0.2s\n",
            "[CV 6/10] END .alpha=0.5, l1_ratio=0.5;, score=-688338708.923 total time=   0.2s\n",
            "[CV 7/10] END .alpha=0.5, l1_ratio=0.5;, score=-633592429.197 total time=   0.2s\n",
            "[CV 8/10] END .alpha=0.5, l1_ratio=0.5;, score=-562536199.951 total time=   0.1s\n",
            "[CV 9/10] END .alpha=0.5, l1_ratio=0.5;, score=-466751883.530 total time=   0.1s\n",
            "[CV 10/10] END alpha=0.5, l1_ratio=0.5;, score=-564213696.400 total time=   0.1s\n",
            "[CV 1/10] END .alpha=0.5, l1_ratio=0.7;, score=-642964877.858 total time=   0.2s\n",
            "[CV 2/10] END .alpha=0.5, l1_ratio=0.7;, score=-776064818.450 total time=   0.2s\n",
            "[CV 3/10] END .alpha=0.5, l1_ratio=0.7;, score=-532299812.344 total time=   0.2s\n",
            "[CV 4/10] END .alpha=0.5, l1_ratio=0.7;, score=-321426213.279 total time=   0.1s\n",
            "[CV 5/10] END .alpha=0.5, l1_ratio=0.7;, score=-463003132.257 total time=   0.2s\n",
            "[CV 6/10] END .alpha=0.5, l1_ratio=0.7;, score=-640154013.942 total time=   0.1s\n",
            "[CV 7/10] END .alpha=0.5, l1_ratio=0.7;, score=-629232407.046 total time=   0.2s\n",
            "[CV 8/10] END .alpha=0.5, l1_ratio=0.7;, score=-547518235.753 total time=   0.2s\n",
            "[CV 9/10] END .alpha=0.5, l1_ratio=0.7;, score=-454016539.856 total time=   0.1s\n",
            "[CV 10/10] END alpha=0.5, l1_ratio=0.7;, score=-535965169.134 total time=   0.2s\n",
            "[CV 1/10] END .alpha=0.5, l1_ratio=0.8;, score=-629593021.625 total time=   0.2s\n",
            "[CV 2/10] END .alpha=0.5, l1_ratio=0.8;, score=-746468756.261 total time=   0.2s\n",
            "[CV 3/10] END .alpha=0.5, l1_ratio=0.8;, score=-516693154.406 total time=   0.2s\n",
            "[CV 4/10] END .alpha=0.5, l1_ratio=0.8;, score=-315694427.498 total time=   0.2s\n",
            "[CV 5/10] END .alpha=0.5, l1_ratio=0.8;, score=-445252197.114 total time=   0.2s\n",
            "[CV 6/10] END .alpha=0.5, l1_ratio=0.8;, score=-614572616.702 total time=   0.2s\n",
            "[CV 7/10] END .alpha=0.5, l1_ratio=0.8;, score=-630558134.217 total time=   0.2s\n",
            "[CV 8/10] END .alpha=0.5, l1_ratio=0.8;, score=-542948646.707 total time=   0.2s\n",
            "[CV 9/10] END .alpha=0.5, l1_ratio=0.8;, score=-449053502.054 total time=   0.2s\n",
            "[CV 10/10] END alpha=0.5, l1_ratio=0.8;, score=-518515387.063 total time=   0.2s\n",
            "[CV 1/10] END .alpha=0.5, l1_ratio=0.9;, score=-613907425.936 total time=   0.3s\n",
            "[CV 2/10] END .alpha=0.5, l1_ratio=0.9;, score=-714716687.556 total time=   0.3s\n",
            "[CV 3/10] END .alpha=0.5, l1_ratio=0.9;, score=-503139479.504 total time=   0.3s\n",
            "[CV 4/10] END .alpha=0.5, l1_ratio=0.9;, score=-313774271.036 total time=   0.3s\n",
            "[CV 5/10] END .alpha=0.5, l1_ratio=0.9;, score=-424148158.713 total time=   0.3s\n",
            "[CV 6/10] END .alpha=0.5, l1_ratio=0.9;, score=-587626796.547 total time=   0.3s\n",
            "[CV 7/10] END .alpha=0.5, l1_ratio=0.9;, score=-637490351.209 total time=   0.4s\n",
            "[CV 8/10] END .alpha=0.5, l1_ratio=0.9;, score=-543618553.346 total time=   0.4s\n",
            "[CV 9/10] END .alpha=0.5, l1_ratio=0.9;, score=-447186847.929 total time=   0.4s\n",
            "[CV 10/10] END alpha=0.5, l1_ratio=0.9;, score=-495867840.589 total time=   0.4s\n",
            "[CV 1/10] END alpha=0.5, l1_ratio=0.95;, score=-603957512.504 total time=   0.8s\n",
            "[CV 2/10] END alpha=0.5, l1_ratio=0.95;, score=-699068152.713 total time=   0.6s\n",
            "[CV 3/10] END alpha=0.5, l1_ratio=0.95;, score=-499953959.106 total time=   0.5s\n",
            "[CV 4/10] END alpha=0.5, l1_ratio=0.95;, score=-317500669.183 total time=   0.5s\n",
            "[CV 5/10] END alpha=0.5, l1_ratio=0.95;, score=-411192527.500 total time=   0.5s\n",
            "[CV 6/10] END alpha=0.5, l1_ratio=0.95;, score=-573829912.053 total time=   0.4s\n",
            "[CV 7/10] END alpha=0.5, l1_ratio=0.95;, score=-645944062.677 total time=   0.5s\n",
            "[CV 8/10] END alpha=0.5, l1_ratio=0.95;, score=-549159427.750 total time=   0.4s\n",
            "[CV 9/10] END alpha=0.5, l1_ratio=0.95;, score=-449650638.960 total time=   0.5s\n",
            "[CV 10/10] END alpha=0.5, l1_ratio=0.95;, score=-480573006.624 total time=   0.5s\n"
          ]
        },
        {
          "output_type": "stream",
          "name": "stderr",
          "text": [
            "/usr/local/lib/python3.10/dist-packages/sklearn/linear_model/_coordinate_descent.py:631: ConvergenceWarning: Objective did not converge. You might want to increase the number of iterations, check the scale of the features or consider increasing regularisation. Duality gap: 3.776e+11, tolerance: 1.525e+09\n",
            "  model = cd_fast.enet_coordinate_descent(\n"
          ]
        },
        {
          "output_type": "stream",
          "name": "stdout",
          "text": [
            "[CV 1/10] END ...alpha=0.5, l1_ratio=1;, score=-600861625.089 total time=   0.7s\n"
          ]
        },
        {
          "output_type": "stream",
          "name": "stderr",
          "text": [
            "/usr/local/lib/python3.10/dist-packages/sklearn/linear_model/_coordinate_descent.py:631: ConvergenceWarning: Objective did not converge. You might want to increase the number of iterations, check the scale of the features or consider increasing regularisation. Duality gap: 3.693e+11, tolerance: 1.477e+09\n",
            "  model = cd_fast.enet_coordinate_descent(\n"
          ]
        },
        {
          "output_type": "stream",
          "name": "stdout",
          "text": [
            "[CV 2/10] END ...alpha=0.5, l1_ratio=1;, score=-706143492.637 total time=   0.7s\n"
          ]
        },
        {
          "output_type": "stream",
          "name": "stderr",
          "text": [
            "/usr/local/lib/python3.10/dist-packages/sklearn/linear_model/_coordinate_descent.py:631: ConvergenceWarning: Objective did not converge. You might want to increase the number of iterations, check the scale of the features or consider increasing regularisation. Duality gap: 4.073e+11, tolerance: 1.535e+09\n",
            "  model = cd_fast.enet_coordinate_descent(\n"
          ]
        },
        {
          "output_type": "stream",
          "name": "stdout",
          "text": [
            "[CV 3/10] END ...alpha=0.5, l1_ratio=1;, score=-513612959.846 total time=   0.6s\n"
          ]
        },
        {
          "output_type": "stream",
          "name": "stderr",
          "text": [
            "/usr/local/lib/python3.10/dist-packages/sklearn/linear_model/_coordinate_descent.py:631: ConvergenceWarning: Objective did not converge. You might want to increase the number of iterations, check the scale of the features or consider increasing regularisation. Duality gap: 4.056e+11, tolerance: 1.555e+09\n",
            "  model = cd_fast.enet_coordinate_descent(\n"
          ]
        },
        {
          "output_type": "stream",
          "name": "stdout",
          "text": [
            "[CV 4/10] END ...alpha=0.5, l1_ratio=1;, score=-350986265.138 total time=   0.6s\n"
          ]
        },
        {
          "output_type": "stream",
          "name": "stderr",
          "text": [
            "/usr/local/lib/python3.10/dist-packages/sklearn/linear_model/_coordinate_descent.py:631: ConvergenceWarning: Objective did not converge. You might want to increase the number of iterations, check the scale of the features or consider increasing regularisation. Duality gap: 4.093e+11, tolerance: 1.532e+09\n",
            "  model = cd_fast.enet_coordinate_descent(\n"
          ]
        },
        {
          "output_type": "stream",
          "name": "stdout",
          "text": [
            "[CV 5/10] END ...alpha=0.5, l1_ratio=1;, score=-386851691.389 total time=   0.6s\n"
          ]
        },
        {
          "output_type": "stream",
          "name": "stderr",
          "text": [
            "/usr/local/lib/python3.10/dist-packages/sklearn/linear_model/_coordinate_descent.py:631: ConvergenceWarning: Objective did not converge. You might want to increase the number of iterations, check the scale of the features or consider increasing regularisation. Duality gap: 3.875e+11, tolerance: 1.474e+09\n",
            "  model = cd_fast.enet_coordinate_descent(\n"
          ]
        },
        {
          "output_type": "stream",
          "name": "stdout",
          "text": [
            "[CV 6/10] END ...alpha=0.5, l1_ratio=1;, score=-570517525.915 total time=   0.6s\n"
          ]
        },
        {
          "output_type": "stream",
          "name": "stderr",
          "text": [
            "/usr/local/lib/python3.10/dist-packages/sklearn/linear_model/_coordinate_descent.py:631: ConvergenceWarning: Objective did not converge. You might want to increase the number of iterations, check the scale of the features or consider increasing regularisation. Duality gap: 3.704e+11, tolerance: 1.537e+09\n",
            "  model = cd_fast.enet_coordinate_descent(\n"
          ]
        },
        {
          "output_type": "stream",
          "name": "stdout",
          "text": [
            "[CV 7/10] END ...alpha=0.5, l1_ratio=1;, score=-669205516.513 total time=   0.6s\n"
          ]
        },
        {
          "output_type": "stream",
          "name": "stderr",
          "text": [
            "/usr/local/lib/python3.10/dist-packages/sklearn/linear_model/_coordinate_descent.py:631: ConvergenceWarning: Objective did not converge. You might want to increase the number of iterations, check the scale of the features or consider increasing regularisation. Duality gap: 3.938e+11, tolerance: 1.516e+09\n",
            "  model = cd_fast.enet_coordinate_descent(\n"
          ]
        },
        {
          "output_type": "stream",
          "name": "stdout",
          "text": [
            "[CV 8/10] END ...alpha=0.5, l1_ratio=1;, score=-563115275.570 total time=   0.6s\n"
          ]
        },
        {
          "output_type": "stream",
          "name": "stderr",
          "text": [
            "/usr/local/lib/python3.10/dist-packages/sklearn/linear_model/_coordinate_descent.py:631: ConvergenceWarning: Objective did not converge. You might want to increase the number of iterations, check the scale of the features or consider increasing regularisation. Duality gap: 3.777e+11, tolerance: 1.535e+09\n",
            "  model = cd_fast.enet_coordinate_descent(\n"
          ]
        },
        {
          "output_type": "stream",
          "name": "stdout",
          "text": [
            "[CV 9/10] END ...alpha=0.5, l1_ratio=1;, score=-463655980.828 total time=   0.6s\n"
          ]
        },
        {
          "output_type": "stream",
          "name": "stderr",
          "text": [
            "/usr/local/lib/python3.10/dist-packages/sklearn/linear_model/_coordinate_descent.py:631: ConvergenceWarning: Objective did not converge. You might want to increase the number of iterations, check the scale of the features or consider increasing regularisation. Duality gap: 3.984e+11, tolerance: 1.532e+09\n",
            "  model = cd_fast.enet_coordinate_descent(\n"
          ]
        },
        {
          "output_type": "stream",
          "name": "stdout",
          "text": [
            "[CV 10/10] END ..alpha=0.5, l1_ratio=1;, score=-494647924.924 total time=   0.6s\n",
            "[CV 1/10] END .alpha=0.8, l1_ratio=0.1;, score=-777967786.049 total time=   0.1s\n",
            "[CV 2/10] END alpha=0.8, l1_ratio=0.1;, score=-1038927283.425 total time=   0.2s\n",
            "[CV 3/10] END .alpha=0.8, l1_ratio=0.1;, score=-688750335.964 total time=   0.2s\n",
            "[CV 4/10] END .alpha=0.8, l1_ratio=0.1;, score=-397036045.275 total time=   0.2s\n",
            "[CV 5/10] END .alpha=0.8, l1_ratio=0.1;, score=-612242876.125 total time=   0.2s\n",
            "[CV 6/10] END .alpha=0.8, l1_ratio=0.1;, score=-888200894.533 total time=   0.2s\n",
            "[CV 7/10] END .alpha=0.8, l1_ratio=0.1;, score=-688644712.815 total time=   0.2s\n",
            "[CV 8/10] END .alpha=0.8, l1_ratio=0.1;, score=-657805607.975 total time=   0.2s\n",
            "[CV 9/10] END .alpha=0.8, l1_ratio=0.1;, score=-535748537.369 total time=   0.2s\n",
            "[CV 10/10] END alpha=0.8, l1_ratio=0.1;, score=-666127900.147 total time=   0.2s\n",
            "[CV 1/10] END .alpha=0.8, l1_ratio=0.3;, score=-741658316.276 total time=   0.2s\n",
            "[CV 2/10] END .alpha=0.8, l1_ratio=0.3;, score=-973931905.443 total time=   0.2s\n",
            "[CV 3/10] END .alpha=0.8, l1_ratio=0.3;, score=-649768539.601 total time=   0.2s\n",
            "[CV 4/10] END .alpha=0.8, l1_ratio=0.3;, score=-376836180.673 total time=   0.2s\n",
            "[CV 5/10] END .alpha=0.8, l1_ratio=0.3;, score=-574523668.102 total time=   0.1s\n",
            "[CV 6/10] END .alpha=0.8, l1_ratio=0.3;, score=-823731519.086 total time=   0.1s\n",
            "[CV 7/10] END .alpha=0.8, l1_ratio=0.3;, score=-667180458.833 total time=   0.1s\n",
            "[CV 8/10] END .alpha=0.8, l1_ratio=0.3;, score=-623780234.788 total time=   0.2s\n",
            "[CV 9/10] END .alpha=0.8, l1_ratio=0.3;, score=-511728450.181 total time=   0.1s\n",
            "[CV 10/10] END alpha=0.8, l1_ratio=0.3;, score=-633858647.367 total time=   0.1s\n",
            "[CV 1/10] END .alpha=0.8, l1_ratio=0.5;, score=-704115782.170 total time=   0.1s\n",
            "[CV 2/10] END .alpha=0.8, l1_ratio=0.5;, score=-903415514.793 total time=   0.2s\n",
            "[CV 3/10] END .alpha=0.8, l1_ratio=0.5;, score=-607275185.744 total time=   0.2s\n",
            "[CV 4/10] END .alpha=0.8, l1_ratio=0.5;, score=-355816919.543 total time=   0.2s\n",
            "[CV 5/10] END .alpha=0.8, l1_ratio=0.5;, score=-534557688.650 total time=   0.2s\n",
            "[CV 6/10] END .alpha=0.8, l1_ratio=0.5;, score=-755932029.197 total time=   0.1s\n",
            "[CV 7/10] END .alpha=0.8, l1_ratio=0.5;, score=-647753231.579 total time=   0.1s\n",
            "[CV 8/10] END .alpha=0.8, l1_ratio=0.5;, score=-590799863.827 total time=   0.1s\n",
            "[CV 9/10] END .alpha=0.8, l1_ratio=0.5;, score=-488052423.605 total time=   0.1s\n",
            "[CV 10/10] END alpha=0.8, l1_ratio=0.5;, score=-599707320.291 total time=   0.1s\n",
            "[CV 1/10] END .alpha=0.8, l1_ratio=0.7;, score=-665438493.547 total time=   0.1s\n",
            "[CV 2/10] END .alpha=0.8, l1_ratio=0.7;, score=-825139762.551 total time=   0.2s\n",
            "[CV 3/10] END .alpha=0.8, l1_ratio=0.7;, score=-560464719.733 total time=   0.1s\n",
            "[CV 4/10] END .alpha=0.8, l1_ratio=0.7;, score=-333746037.955 total time=   0.2s\n",
            "[CV 5/10] END .alpha=0.8, l1_ratio=0.7;, score=-490874970.590 total time=   0.1s\n",
            "[CV 6/10] END .alpha=0.8, l1_ratio=0.7;, score=-683703618.391 total time=   0.1s\n",
            "[CV 7/10] END .alpha=0.8, l1_ratio=0.7;, score=-632879962.575 total time=   0.2s\n",
            "[CV 8/10] END .alpha=0.8, l1_ratio=0.7;, score=-560807269.844 total time=   0.2s\n",
            "[CV 9/10] END .alpha=0.8, l1_ratio=0.7;, score=-465379621.706 total time=   0.2s\n",
            "[CV 10/10] END alpha=0.8, l1_ratio=0.7;, score=-561609758.513 total time=   0.2s\n",
            "[CV 1/10] END .alpha=0.8, l1_ratio=0.8;, score=-645471605.081 total time=   0.1s\n",
            "[CV 2/10] END .alpha=0.8, l1_ratio=0.8;, score=-781747895.860 total time=   0.1s\n",
            "[CV 3/10] END .alpha=0.8, l1_ratio=0.8;, score=-535467786.662 total time=   0.1s\n",
            "[CV 4/10] END .alpha=0.8, l1_ratio=0.8;, score=-322724101.574 total time=   0.1s\n",
            "[CV 5/10] END .alpha=0.8, l1_ratio=0.8;, score=-466285867.501 total time=   0.1s\n",
            "[CV 6/10] END .alpha=0.8, l1_ratio=0.8;, score=-645177107.377 total time=   0.1s\n",
            "[CV 7/10] END .alpha=0.8, l1_ratio=0.8;, score=-629312672.872 total time=   0.1s\n",
            "[CV 8/10] END .alpha=0.8, l1_ratio=0.8;, score=-548712591.735 total time=   0.2s\n",
            "[CV 9/10] END .alpha=0.8, l1_ratio=0.8;, score=-455155474.656 total time=   0.1s\n",
            "[CV 10/10] END alpha=0.8, l1_ratio=0.8;, score=-539076378.596 total time=   0.2s\n",
            "[CV 1/10] END .alpha=0.8, l1_ratio=0.9;, score=-623672634.580 total time=   0.2s\n",
            "[CV 2/10] END .alpha=0.8, l1_ratio=0.9;, score=-734004894.056 total time=   0.2s\n",
            "[CV 3/10] END .alpha=0.8, l1_ratio=0.9;, score=-510776182.926 total time=   0.2s\n",
            "[CV 4/10] END .alpha=0.8, l1_ratio=0.9;, score=-314119480.561 total time=   0.2s\n",
            "[CV 5/10] END .alpha=0.8, l1_ratio=0.9;, score=-437348039.554 total time=   0.2s\n",
            "[CV 6/10] END .alpha=0.8, l1_ratio=0.9;, score=-604000328.955 total time=   0.2s\n",
            "[CV 7/10] END .alpha=0.8, l1_ratio=0.9;, score=-632308875.098 total time=   0.2s\n",
            "[CV 8/10] END .alpha=0.8, l1_ratio=0.9;, score=-542205769.367 total time=   0.2s\n",
            "[CV 9/10] END .alpha=0.8, l1_ratio=0.9;, score=-447691693.474 total time=   0.2s\n",
            "[CV 10/10] END alpha=0.8, l1_ratio=0.9;, score=-510329452.923 total time=   0.2s\n",
            "[CV 1/10] END alpha=0.8, l1_ratio=0.95;, score=-610021073.761 total time=   0.3s\n",
            "[CV 2/10] END alpha=0.8, l1_ratio=0.95;, score=-708280282.054 total time=   0.3s\n",
            "[CV 3/10] END alpha=0.8, l1_ratio=0.95;, score=-501266831.248 total time=   0.3s\n",
            "[CV 4/10] END alpha=0.8, l1_ratio=0.95;, score=-314563575.247 total time=   0.3s\n",
            "[CV 5/10] END alpha=0.8, l1_ratio=0.95;, score=-419247554.781 total time=   0.3s\n",
            "[CV 6/10] END alpha=0.8, l1_ratio=0.95;, score=-582167315.623 total time=   0.3s\n",
            "[CV 7/10] END alpha=0.8, l1_ratio=0.95;, score=-640164607.895 total time=   0.3s\n",
            "[CV 8/10] END alpha=0.8, l1_ratio=0.95;, score=-545042450.151 total time=   0.3s\n",
            "[CV 9/10] END alpha=0.8, l1_ratio=0.95;, score=-447675899.191 total time=   0.3s\n",
            "[CV 10/10] END alpha=0.8, l1_ratio=0.95;, score=-490219942.148 total time=   0.3s\n"
          ]
        },
        {
          "output_type": "stream",
          "name": "stderr",
          "text": [
            "/usr/local/lib/python3.10/dist-packages/sklearn/linear_model/_coordinate_descent.py:631: ConvergenceWarning: Objective did not converge. You might want to increase the number of iterations, check the scale of the features or consider increasing regularisation. Duality gap: 3.437e+11, tolerance: 1.525e+09\n",
            "  model = cd_fast.enet_coordinate_descent(\n"
          ]
        },
        {
          "output_type": "stream",
          "name": "stdout",
          "text": [
            "[CV 1/10] END ...alpha=0.8, l1_ratio=1;, score=-600476373.050 total time=   0.7s\n"
          ]
        },
        {
          "output_type": "stream",
          "name": "stderr",
          "text": [
            "/usr/local/lib/python3.10/dist-packages/sklearn/linear_model/_coordinate_descent.py:631: ConvergenceWarning: Objective did not converge. You might want to increase the number of iterations, check the scale of the features or consider increasing regularisation. Duality gap: 3.300e+11, tolerance: 1.477e+09\n",
            "  model = cd_fast.enet_coordinate_descent(\n"
          ]
        },
        {
          "output_type": "stream",
          "name": "stdout",
          "text": [
            "[CV 2/10] END ...alpha=0.8, l1_ratio=1;, score=-705466813.760 total time=   0.7s\n"
          ]
        },
        {
          "output_type": "stream",
          "name": "stderr",
          "text": [
            "/usr/local/lib/python3.10/dist-packages/sklearn/linear_model/_coordinate_descent.py:631: ConvergenceWarning: Objective did not converge. You might want to increase the number of iterations, check the scale of the features or consider increasing regularisation. Duality gap: 3.880e+11, tolerance: 1.535e+09\n",
            "  model = cd_fast.enet_coordinate_descent(\n"
          ]
        },
        {
          "output_type": "stream",
          "name": "stdout",
          "text": [
            "[CV 3/10] END ...alpha=0.8, l1_ratio=1;, score=-513340444.595 total time=   0.7s\n"
          ]
        },
        {
          "output_type": "stream",
          "name": "stderr",
          "text": [
            "/usr/local/lib/python3.10/dist-packages/sklearn/linear_model/_coordinate_descent.py:631: ConvergenceWarning: Objective did not converge. You might want to increase the number of iterations, check the scale of the features or consider increasing regularisation. Duality gap: 3.726e+11, tolerance: 1.555e+09\n",
            "  model = cd_fast.enet_coordinate_descent(\n"
          ]
        },
        {
          "output_type": "stream",
          "name": "stdout",
          "text": [
            "[CV 4/10] END ...alpha=0.8, l1_ratio=1;, score=-342347466.058 total time=   0.6s\n"
          ]
        },
        {
          "output_type": "stream",
          "name": "stderr",
          "text": [
            "/usr/local/lib/python3.10/dist-packages/sklearn/linear_model/_coordinate_descent.py:631: ConvergenceWarning: Objective did not converge. You might want to increase the number of iterations, check the scale of the features or consider increasing regularisation. Duality gap: 3.823e+11, tolerance: 1.532e+09\n",
            "  model = cd_fast.enet_coordinate_descent(\n"
          ]
        },
        {
          "output_type": "stream",
          "name": "stdout",
          "text": [
            "[CV 5/10] END ...alpha=0.8, l1_ratio=1;, score=-387339783.167 total time=   0.6s\n"
          ]
        },
        {
          "output_type": "stream",
          "name": "stderr",
          "text": [
            "/usr/local/lib/python3.10/dist-packages/sklearn/linear_model/_coordinate_descent.py:631: ConvergenceWarning: Objective did not converge. You might want to increase the number of iterations, check the scale of the features or consider increasing regularisation. Duality gap: 3.630e+11, tolerance: 1.474e+09\n",
            "  model = cd_fast.enet_coordinate_descent(\n"
          ]
        },
        {
          "output_type": "stream",
          "name": "stdout",
          "text": [
            "[CV 6/10] END ...alpha=0.8, l1_ratio=1;, score=-569381002.846 total time=   0.6s\n"
          ]
        },
        {
          "output_type": "stream",
          "name": "stderr",
          "text": [
            "/usr/local/lib/python3.10/dist-packages/sklearn/linear_model/_coordinate_descent.py:631: ConvergenceWarning: Objective did not converge. You might want to increase the number of iterations, check the scale of the features or consider increasing regularisation. Duality gap: 3.349e+11, tolerance: 1.537e+09\n",
            "  model = cd_fast.enet_coordinate_descent(\n"
          ]
        },
        {
          "output_type": "stream",
          "name": "stdout",
          "text": [
            "[CV 7/10] END ...alpha=0.8, l1_ratio=1;, score=-668794195.175 total time=   0.5s\n"
          ]
        },
        {
          "output_type": "stream",
          "name": "stderr",
          "text": [
            "/usr/local/lib/python3.10/dist-packages/sklearn/linear_model/_coordinate_descent.py:631: ConvergenceWarning: Objective did not converge. You might want to increase the number of iterations, check the scale of the features or consider increasing regularisation. Duality gap: 3.689e+11, tolerance: 1.516e+09\n",
            "  model = cd_fast.enet_coordinate_descent(\n"
          ]
        },
        {
          "output_type": "stream",
          "name": "stdout",
          "text": [
            "[CV 8/10] END ...alpha=0.8, l1_ratio=1;, score=-563157894.478 total time=   0.5s\n"
          ]
        },
        {
          "output_type": "stream",
          "name": "stderr",
          "text": [
            "/usr/local/lib/python3.10/dist-packages/sklearn/linear_model/_coordinate_descent.py:631: ConvergenceWarning: Objective did not converge. You might want to increase the number of iterations, check the scale of the features or consider increasing regularisation. Duality gap: 3.371e+11, tolerance: 1.535e+09\n",
            "  model = cd_fast.enet_coordinate_descent(\n"
          ]
        },
        {
          "output_type": "stream",
          "name": "stdout",
          "text": [
            "[CV 9/10] END ...alpha=0.8, l1_ratio=1;, score=-463456508.693 total time=   0.5s\n"
          ]
        },
        {
          "output_type": "stream",
          "name": "stderr",
          "text": [
            "/usr/local/lib/python3.10/dist-packages/sklearn/linear_model/_coordinate_descent.py:631: ConvergenceWarning: Objective did not converge. You might want to increase the number of iterations, check the scale of the features or consider increasing regularisation. Duality gap: 3.695e+11, tolerance: 1.532e+09\n",
            "  model = cd_fast.enet_coordinate_descent(\n"
          ]
        },
        {
          "output_type": "stream",
          "name": "stdout",
          "text": [
            "[CV 10/10] END ..alpha=0.8, l1_ratio=1;, score=-492765494.269 total time=   0.6s\n",
            "[CV 1/10] END ...alpha=1, l1_ratio=0.1;, score=-817350390.105 total time=   0.1s\n",
            "[CV 2/10] END ..alpha=1, l1_ratio=0.1;, score=-1107091388.532 total time=   0.2s\n",
            "[CV 3/10] END ...alpha=1, l1_ratio=0.1;, score=-729298548.668 total time=   0.1s\n",
            "[CV 4/10] END ...alpha=1, l1_ratio=0.1;, score=-419132837.655 total time=   0.1s\n",
            "[CV 5/10] END ...alpha=1, l1_ratio=0.1;, score=-652741938.446 total time=   0.1s\n",
            "[CV 6/10] END ...alpha=1, l1_ratio=0.1;, score=-957531692.140 total time=   0.1s\n",
            "[CV 7/10] END ...alpha=1, l1_ratio=0.1;, score=-713969709.142 total time=   0.1s\n",
            "[CV 8/10] END ...alpha=1, l1_ratio=0.1;, score=-696409616.269 total time=   0.1s\n",
            "[CV 9/10] END ...alpha=1, l1_ratio=0.1;, score=-562915535.470 total time=   0.1s\n",
            "[CV 10/10] END ..alpha=1, l1_ratio=0.1;, score=-701061053.544 total time=   0.1s\n",
            "[CV 1/10] END ...alpha=1, l1_ratio=0.3;, score=-773491296.167 total time=   0.1s\n",
            "[CV 2/10] END ..alpha=1, l1_ratio=0.3;, score=-1031066685.414 total time=   0.2s\n",
            "[CV 3/10] END ...alpha=1, l1_ratio=0.3;, score=-684055930.450 total time=   0.1s\n",
            "[CV 4/10] END ...alpha=1, l1_ratio=0.3;, score=-394551600.295 total time=   0.1s\n",
            "[CV 5/10] END ...alpha=1, l1_ratio=0.3;, score=-607631327.437 total time=   0.1s\n",
            "[CV 6/10] END ...alpha=1, l1_ratio=0.3;, score=-880333231.677 total time=   0.1s\n",
            "[CV 7/10] END ...alpha=1, l1_ratio=0.3;, score=-685888814.125 total time=   0.1s\n",
            "[CV 8/10] END ...alpha=1, l1_ratio=0.3;, score=-653537840.282 total time=   0.1s\n",
            "[CV 9/10] END ...alpha=1, l1_ratio=0.3;, score=-532736879.502 total time=   0.1s\n",
            "[CV 10/10] END ..alpha=1, l1_ratio=0.3;, score=-662170710.808 total time=   0.1s\n",
            "[CV 1/10] END ...alpha=1, l1_ratio=0.5;, score=-727716799.253 total time=   0.1s\n",
            "[CV 2/10] END ...alpha=1, l1_ratio=0.5;, score=-948248203.046 total time=   0.2s\n",
            "[CV 3/10] END ...alpha=1, l1_ratio=0.5;, score=-634303412.587 total time=   0.2s\n",
            "[CV 4/10] END ...alpha=1, l1_ratio=0.5;, score=-369071411.352 total time=   0.1s\n",
            "[CV 5/10] END ...alpha=1, l1_ratio=0.5;, score=-559849014.651 total time=   0.1s\n",
            "[CV 6/10] END ...alpha=1, l1_ratio=0.5;, score=-798762634.566 total time=   0.2s\n",
            "[CV 7/10] END ...alpha=1, l1_ratio=0.5;, score=-659561166.973 total time=   0.1s\n",
            "[CV 8/10] END ...alpha=1, l1_ratio=0.5;, score=-611230493.781 total time=   0.2s\n",
            "[CV 9/10] END ...alpha=1, l1_ratio=0.5;, score=-502786664.711 total time=   0.2s\n",
            "[CV 10/10] END ..alpha=1, l1_ratio=0.5;, score=-621336567.267 total time=   0.2s\n",
            "[CV 1/10] END ...alpha=1, l1_ratio=0.7;, score=-680055851.126 total time=   0.2s\n",
            "[CV 2/10] END ...alpha=1, l1_ratio=0.7;, score=-855621485.786 total time=   0.1s\n",
            "[CV 3/10] END ...alpha=1, l1_ratio=0.7;, score=-578563153.580 total time=   0.2s\n",
            "[CV 4/10] END ...alpha=1, l1_ratio=0.7;, score=-342128860.879 total time=   0.1s\n",
            "[CV 5/10] END ...alpha=1, l1_ratio=0.7;, score=-507864423.581 total time=   0.1s\n",
            "[CV 6/10] END ...alpha=1, l1_ratio=0.7;, score=-711453826.554 total time=   0.1s\n",
            "[CV 7/10] END ...alpha=1, l1_ratio=0.7;, score=-637618241.502 total time=   0.1s\n",
            "[CV 8/10] END ...alpha=1, l1_ratio=0.7;, score=-571446755.578 total time=   0.2s\n",
            "[CV 9/10] END ...alpha=1, l1_ratio=0.7;, score=-473665050.340 total time=   0.1s\n",
            "[CV 10/10] END ..alpha=1, l1_ratio=0.7;, score=-576611705.784 total time=   0.1s\n",
            "[CV 1/10] END ...alpha=1, l1_ratio=0.8;, score=-655519594.716 total time=   0.2s\n",
            "[CV 2/10] END ...alpha=1, l1_ratio=0.8;, score=-803894716.387 total time=   0.2s\n",
            "[CV 3/10] END ...alpha=1, l1_ratio=0.8;, score=-548070326.348 total time=   0.1s\n",
            "[CV 4/10] END ...alpha=1, l1_ratio=0.8;, score=-328164359.729 total time=   0.1s\n",
            "[CV 5/10] END ...alpha=1, l1_ratio=0.8;, score=-478913237.142 total time=   0.1s\n",
            "[CV 6/10] END ...alpha=1, l1_ratio=0.8;, score=-664718625.289 total time=   0.1s\n",
            "[CV 7/10] END ...alpha=1, l1_ratio=0.8;, score=-630576261.356 total time=   0.1s\n",
            "[CV 8/10] END ...alpha=1, l1_ratio=0.8;, score=-554337220.099 total time=   0.2s\n",
            "[CV 9/10] END ...alpha=1, l1_ratio=0.8;, score=-460079061.822 total time=   0.1s\n",
            "[CV 10/10] END ..alpha=1, l1_ratio=0.8;, score=-550805635.539 total time=   0.1s\n",
            "[CV 1/10] END ...alpha=1, l1_ratio=0.9;, score=-629454715.769 total time=   0.3s\n",
            "[CV 2/10] END ...alpha=1, l1_ratio=0.9;, score=-746470420.241 total time=   0.3s\n",
            "[CV 3/10] END ...alpha=1, l1_ratio=0.9;, score=-516713441.262 total time=   0.4s\n",
            "[CV 4/10] END ...alpha=1, l1_ratio=0.9;, score=-315683357.053 total time=   0.4s\n",
            "[CV 5/10] END ...alpha=1, l1_ratio=0.9;, score=-445224470.502 total time=   0.4s\n",
            "[CV 6/10] END ...alpha=1, l1_ratio=0.9;, score=-614668119.047 total time=   0.5s\n",
            "[CV 7/10] END ...alpha=1, l1_ratio=0.9;, score=-630486017.590 total time=   0.3s\n",
            "[CV 8/10] END ...alpha=1, l1_ratio=0.9;, score=-542866547.646 total time=   0.4s\n",
            "[CV 9/10] END ...alpha=1, l1_ratio=0.9;, score=-449015932.989 total time=   0.2s\n",
            "[CV 10/10] END ..alpha=1, l1_ratio=0.9;, score=-518479626.303 total time=   0.2s\n",
            "[CV 1/10] END ..alpha=1, l1_ratio=0.95;, score=-613698160.630 total time=   0.3s\n",
            "[CV 2/10] END ..alpha=1, l1_ratio=0.95;, score=-714726156.397 total time=   0.3s\n",
            "[CV 3/10] END ..alpha=1, l1_ratio=0.95;, score=-503124796.839 total time=   0.3s\n",
            "[CV 4/10] END ..alpha=1, l1_ratio=0.95;, score=-313741110.005 total time=   0.3s\n",
            "[CV 5/10] END ..alpha=1, l1_ratio=0.95;, score=-424147127.251 total time=   0.3s\n",
            "[CV 6/10] END ..alpha=1, l1_ratio=0.95;, score=-587718695.861 total time=   0.3s\n",
            "[CV 7/10] END ..alpha=1, l1_ratio=0.95;, score=-637353225.334 total time=   0.3s\n",
            "[CV 8/10] END ..alpha=1, l1_ratio=0.95;, score=-543502856.799 total time=   0.3s\n",
            "[CV 9/10] END ..alpha=1, l1_ratio=0.95;, score=-447141975.031 total time=   0.3s\n",
            "[CV 10/10] END .alpha=1, l1_ratio=0.95;, score=-495858814.593 total time=   0.3s\n"
          ]
        },
        {
          "output_type": "stream",
          "name": "stderr",
          "text": [
            "/usr/local/lib/python3.10/dist-packages/sklearn/linear_model/_coordinate_descent.py:631: ConvergenceWarning: Objective did not converge. You might want to increase the number of iterations, check the scale of the features or consider increasing regularisation. Duality gap: 3.214e+11, tolerance: 1.525e+09\n",
            "  model = cd_fast.enet_coordinate_descent(\n"
          ]
        },
        {
          "output_type": "stream",
          "name": "stdout",
          "text": [
            "[CV 1/10] END .....alpha=1, l1_ratio=1;, score=-600265861.573 total time=   0.6s\n"
          ]
        },
        {
          "output_type": "stream",
          "name": "stderr",
          "text": [
            "/usr/local/lib/python3.10/dist-packages/sklearn/linear_model/_coordinate_descent.py:631: ConvergenceWarning: Objective did not converge. You might want to increase the number of iterations, check the scale of the features or consider increasing regularisation. Duality gap: 3.022e+11, tolerance: 1.477e+09\n",
            "  model = cd_fast.enet_coordinate_descent(\n"
          ]
        },
        {
          "output_type": "stream",
          "name": "stdout",
          "text": [
            "[CV 2/10] END .....alpha=1, l1_ratio=1;, score=-705041709.627 total time=   0.6s\n"
          ]
        },
        {
          "output_type": "stream",
          "name": "stderr",
          "text": [
            "/usr/local/lib/python3.10/dist-packages/sklearn/linear_model/_coordinate_descent.py:631: ConvergenceWarning: Objective did not converge. You might want to increase the number of iterations, check the scale of the features or consider increasing regularisation. Duality gap: 3.755e+11, tolerance: 1.535e+09\n",
            "  model = cd_fast.enet_coordinate_descent(\n"
          ]
        },
        {
          "output_type": "stream",
          "name": "stdout",
          "text": [
            "[CV 3/10] END .....alpha=1, l1_ratio=1;, score=-513156399.332 total time=   0.6s\n"
          ]
        },
        {
          "output_type": "stream",
          "name": "stderr",
          "text": [
            "/usr/local/lib/python3.10/dist-packages/sklearn/linear_model/_coordinate_descent.py:631: ConvergenceWarning: Objective did not converge. You might want to increase the number of iterations, check the scale of the features or consider increasing regularisation. Duality gap: 3.500e+11, tolerance: 1.555e+09\n",
            "  model = cd_fast.enet_coordinate_descent(\n"
          ]
        },
        {
          "output_type": "stream",
          "name": "stdout",
          "text": [
            "[CV 4/10] END .....alpha=1, l1_ratio=1;, score=-337615700.901 total time=   0.6s\n"
          ]
        },
        {
          "output_type": "stream",
          "name": "stderr",
          "text": [
            "/usr/local/lib/python3.10/dist-packages/sklearn/linear_model/_coordinate_descent.py:631: ConvergenceWarning: Objective did not converge. You might want to increase the number of iterations, check the scale of the features or consider increasing regularisation. Duality gap: 3.639e+11, tolerance: 1.532e+09\n",
            "  model = cd_fast.enet_coordinate_descent(\n"
          ]
        },
        {
          "output_type": "stream",
          "name": "stdout",
          "text": [
            "[CV 5/10] END .....alpha=1, l1_ratio=1;, score=-387572201.836 total time=   0.6s\n"
          ]
        },
        {
          "output_type": "stream",
          "name": "stderr",
          "text": [
            "/usr/local/lib/python3.10/dist-packages/sklearn/linear_model/_coordinate_descent.py:631: ConvergenceWarning: Objective did not converge. You might want to increase the number of iterations, check the scale of the features or consider increasing regularisation. Duality gap: 3.481e+11, tolerance: 1.474e+09\n",
            "  model = cd_fast.enet_coordinate_descent(\n"
          ]
        },
        {
          "output_type": "stream",
          "name": "stdout",
          "text": [
            "[CV 6/10] END .....alpha=1, l1_ratio=1;, score=-568658242.913 total time=   0.7s\n"
          ]
        },
        {
          "output_type": "stream",
          "name": "stderr",
          "text": [
            "/usr/local/lib/python3.10/dist-packages/sklearn/linear_model/_coordinate_descent.py:631: ConvergenceWarning: Objective did not converge. You might want to increase the number of iterations, check the scale of the features or consider increasing regularisation. Duality gap: 3.154e+11, tolerance: 1.537e+09\n",
            "  model = cd_fast.enet_coordinate_descent(\n"
          ]
        },
        {
          "output_type": "stream",
          "name": "stdout",
          "text": [
            "[CV 7/10] END .....alpha=1, l1_ratio=1;, score=-668580646.596 total time=   0.6s\n"
          ]
        },
        {
          "output_type": "stream",
          "name": "stderr",
          "text": [
            "/usr/local/lib/python3.10/dist-packages/sklearn/linear_model/_coordinate_descent.py:631: ConvergenceWarning: Objective did not converge. You might want to increase the number of iterations, check the scale of the features or consider increasing regularisation. Duality gap: 3.518e+11, tolerance: 1.516e+09\n",
            "  model = cd_fast.enet_coordinate_descent(\n"
          ]
        },
        {
          "output_type": "stream",
          "name": "stdout",
          "text": [
            "[CV 8/10] END .....alpha=1, l1_ratio=1;, score=-563181192.474 total time=   0.7s\n"
          ]
        },
        {
          "output_type": "stream",
          "name": "stderr",
          "text": [
            "/usr/local/lib/python3.10/dist-packages/sklearn/linear_model/_coordinate_descent.py:631: ConvergenceWarning: Objective did not converge. You might want to increase the number of iterations, check the scale of the features or consider increasing regularisation. Duality gap: 3.130e+11, tolerance: 1.535e+09\n",
            "  model = cd_fast.enet_coordinate_descent(\n"
          ]
        },
        {
          "output_type": "stream",
          "name": "stdout",
          "text": [
            "[CV 9/10] END .....alpha=1, l1_ratio=1;, score=-463328638.735 total time=   0.6s\n"
          ]
        },
        {
          "output_type": "stream",
          "name": "stderr",
          "text": [
            "/usr/local/lib/python3.10/dist-packages/sklearn/linear_model/_coordinate_descent.py:631: ConvergenceWarning: Objective did not converge. You might want to increase the number of iterations, check the scale of the features or consider increasing regularisation. Duality gap: 3.520e+11, tolerance: 1.532e+09\n",
            "  model = cd_fast.enet_coordinate_descent(\n"
          ]
        },
        {
          "output_type": "stream",
          "name": "stdout",
          "text": [
            "[CV 10/10] END ....alpha=1, l1_ratio=1;, score=-491574875.061 total time=   0.7s\n",
            "[CV 1/10] END ..alpha=3, l1_ratio=0.1;, score=-1154041092.279 total time=   0.1s\n",
            "[CV 2/10] END ..alpha=3, l1_ratio=0.1;, score=-1644930431.604 total time=   0.1s\n",
            "[CV 3/10] END ..alpha=3, l1_ratio=0.1;, score=-1042976204.926 total time=   0.1s\n",
            "[CV 4/10] END ...alpha=3, l1_ratio=0.1;, score=-629116761.803 total time=   0.1s\n",
            "[CV 5/10] END ...alpha=3, l1_ratio=0.1;, score=-998642081.817 total time=   0.1s\n",
            "[CV 6/10] END ..alpha=3, l1_ratio=0.1;, score=-1537114325.634 total time=   0.1s\n",
            "[CV 7/10] END ...alpha=3, l1_ratio=0.1;, score=-974728369.587 total time=   0.1s\n",
            "[CV 8/10] END ..alpha=3, l1_ratio=0.1;, score=-1058643465.936 total time=   0.1s\n",
            "[CV 9/10] END ...alpha=3, l1_ratio=0.1;, score=-829540438.434 total time=   0.1s\n",
            "[CV 10/10] END .alpha=3, l1_ratio=0.1;, score=-1012629989.846 total time=   0.1s\n",
            "[CV 1/10] END ..alpha=3, l1_ratio=0.3;, score=-1050365398.654 total time=   0.1s\n",
            "[CV 2/10] END ..alpha=3, l1_ratio=0.3;, score=-1485034593.490 total time=   0.1s\n",
            "[CV 3/10] END ...alpha=3, l1_ratio=0.3;, score=-949734229.804 total time=   0.1s\n",
            "[CV 4/10] END ...alpha=3, l1_ratio=0.3;, score=-560177994.850 total time=   0.1s\n",
            "[CV 5/10] END ...alpha=3, l1_ratio=0.3;, score=-891809247.878 total time=   0.1s\n",
            "[CV 6/10] END ..alpha=3, l1_ratio=0.3;, score=-1361401768.418 total time=   0.1s\n",
            "[CV 7/10] END ...alpha=3, l1_ratio=0.3;, score=-888721302.563 total time=   0.1s\n",
            "[CV 8/10] END ...alpha=3, l1_ratio=0.3;, score=-943835997.738 total time=   0.1s\n",
            "[CV 9/10] END ...alpha=3, l1_ratio=0.3;, score=-742271897.638 total time=   0.1s\n",
            "[CV 10/10] END ..alpha=3, l1_ratio=0.3;, score=-914378124.739 total time=   0.1s\n",
            "[CV 1/10] END ...alpha=3, l1_ratio=0.5;, score=-939252553.116 total time=   0.1s\n",
            "[CV 2/10] END ..alpha=3, l1_ratio=0.5;, score=-1308765072.997 total time=   0.1s\n",
            "[CV 3/10] END ...alpha=3, l1_ratio=0.5;, score=-847458937.004 total time=   0.2s\n",
            "[CV 4/10] END ...alpha=3, l1_ratio=0.5;, score=-490450282.137 total time=   0.1s\n",
            "[CV 5/10] END ...alpha=3, l1_ratio=0.5;, score=-777624794.091 total time=   0.1s\n",
            "[CV 6/10] END ..alpha=3, l1_ratio=0.5;, score=-1170182538.400 total time=   0.1s\n",
            "[CV 7/10] END ...alpha=3, l1_ratio=0.5;, score=-801267420.012 total time=   0.1s\n",
            "[CV 8/10] END ...alpha=3, l1_ratio=0.5;, score=-823093010.931 total time=   0.1s\n",
            "[CV 9/10] END ...alpha=3, l1_ratio=0.5;, score=-653295741.254 total time=   0.1s\n",
            "[CV 10/10] END ..alpha=3, l1_ratio=0.5;, score=-811135134.759 total time=   0.1s\n",
            "[CV 1/10] END ...alpha=3, l1_ratio=0.7;, score=-817380419.893 total time=   0.1s\n",
            "[CV 2/10] END ..alpha=3, l1_ratio=0.7;, score=-1107260569.004 total time=   0.1s\n",
            "[CV 3/10] END ...alpha=3, l1_ratio=0.7;, score=-729406789.950 total time=   0.1s\n",
            "[CV 4/10] END ...alpha=3, l1_ratio=0.7;, score=-419195096.025 total time=   0.1s\n",
            "[CV 5/10] END ...alpha=3, l1_ratio=0.7;, score=-652813953.140 total time=   0.1s\n",
            "[CV 6/10] END ...alpha=3, l1_ratio=0.7;, score=-957852130.947 total time=   0.1s\n",
            "[CV 7/10] END ...alpha=3, l1_ratio=0.7;, score=-713941280.319 total time=   0.1s\n",
            "[CV 8/10] END ...alpha=3, l1_ratio=0.7;, score=-696544981.443 total time=   0.1s\n",
            "[CV 9/10] END ...alpha=3, l1_ratio=0.7;, score=-562945918.452 total time=   0.1s\n",
            "[CV 10/10] END ..alpha=3, l1_ratio=0.7;, score=-701141124.609 total time=   0.1s\n",
            "[CV 1/10] END ...alpha=3, l1_ratio=0.8;, score=-750781192.406 total time=   0.1s\n",
            "[CV 2/10] END ...alpha=3, l1_ratio=0.8;, score=-990856587.590 total time=   0.1s\n",
            "[CV 3/10] END ...alpha=3, l1_ratio=0.8;, score=-659929934.137 total time=   0.1s\n",
            "[CV 4/10] END ...alpha=3, l1_ratio=0.8;, score=-382008383.012 total time=   0.1s\n",
            "[CV 5/10] END ...alpha=3, l1_ratio=0.8;, score=-584192358.284 total time=   0.1s\n",
            "[CV 6/10] END ...alpha=3, l1_ratio=0.8;, score=-840462308.137 total time=   0.1s\n",
            "[CV 7/10] END ...alpha=3, l1_ratio=0.8;, score=-672372702.701 total time=   0.1s\n",
            "[CV 8/10] END ...alpha=3, l1_ratio=0.8;, score=-632321576.796 total time=   0.1s\n",
            "[CV 9/10] END ...alpha=3, l1_ratio=0.8;, score=-517698439.750 total time=   0.1s\n",
            "[CV 10/10] END ..alpha=3, l1_ratio=0.8;, score=-642086096.045 total time=   0.1s\n",
            "[CV 1/10] END ...alpha=3, l1_ratio=0.9;, score=-679865516.859 total time=   0.1s\n",
            "[CV 2/10] END ...alpha=3, l1_ratio=0.9;, score=-855724115.188 total time=   0.1s\n",
            "[CV 3/10] END ...alpha=3, l1_ratio=0.9;, score=-578610535.889 total time=   0.1s\n",
            "[CV 4/10] END ...alpha=3, l1_ratio=0.9;, score=-342108824.690 total time=   0.2s\n",
            "[CV 5/10] END ...alpha=3, l1_ratio=0.9;, score=-507795640.236 total time=   0.2s\n",
            "[CV 6/10] END ...alpha=3, l1_ratio=0.9;, score=-711748431.775 total time=   0.2s\n",
            "[CV 7/10] END ...alpha=3, l1_ratio=0.9;, score=-637552281.191 total time=   0.1s\n",
            "[CV 8/10] END ...alpha=3, l1_ratio=0.9;, score=-571323088.043 total time=   0.1s\n",
            "[CV 9/10] END ...alpha=3, l1_ratio=0.9;, score=-473571352.074 total time=   0.2s\n",
            "[CV 10/10] END ..alpha=3, l1_ratio=0.9;, score=-576526472.190 total time=   0.2s\n",
            "[CV 1/10] END ..alpha=3, l1_ratio=0.95;, score=-642424188.699 total time=   0.2s\n",
            "[CV 2/10] END ..alpha=3, l1_ratio=0.95;, score=-776019465.066 total time=   0.1s\n",
            "[CV 3/10] END ..alpha=3, l1_ratio=0.95;, score=-532312313.724 total time=   0.2s\n",
            "[CV 4/10] END ..alpha=3, l1_ratio=0.95;, score=-321363852.816 total time=   0.2s\n",
            "[CV 5/10] END ..alpha=3, l1_ratio=0.95;, score=-462809664.347 total time=   0.2s\n",
            "[CV 6/10] END ..alpha=3, l1_ratio=0.95;, score=-640650736.558 total time=   0.1s\n",
            "[CV 7/10] END ..alpha=3, l1_ratio=0.95;, score=-628987219.237 total time=   0.2s\n",
            "[CV 8/10] END ..alpha=3, l1_ratio=0.95;, score=-547177793.118 total time=   0.2s\n",
            "[CV 9/10] END ..alpha=3, l1_ratio=0.95;, score=-453879204.540 total time=   0.1s\n",
            "[CV 10/10] END .alpha=3, l1_ratio=0.95;, score=-535742643.906 total time=   0.2s\n"
          ]
        },
        {
          "output_type": "stream",
          "name": "stderr",
          "text": [
            "/usr/local/lib/python3.10/dist-packages/sklearn/linear_model/_coordinate_descent.py:631: ConvergenceWarning: Objective did not converge. You might want to increase the number of iterations, check the scale of the features or consider increasing regularisation. Duality gap: 1.969e+11, tolerance: 1.525e+09\n",
            "  model = cd_fast.enet_coordinate_descent(\n"
          ]
        },
        {
          "output_type": "stream",
          "name": "stdout",
          "text": [
            "[CV 1/10] END .....alpha=3, l1_ratio=1;, score=-598059424.507 total time=   0.6s\n"
          ]
        },
        {
          "output_type": "stream",
          "name": "stderr",
          "text": [
            "/usr/local/lib/python3.10/dist-packages/sklearn/linear_model/_coordinate_descent.py:631: ConvergenceWarning: Objective did not converge. You might want to increase the number of iterations, check the scale of the features or consider increasing regularisation. Duality gap: 1.062e+11, tolerance: 1.477e+09\n",
            "  model = cd_fast.enet_coordinate_descent(\n"
          ]
        },
        {
          "output_type": "stream",
          "name": "stdout",
          "text": [
            "[CV 2/10] END .....alpha=3, l1_ratio=1;, score=-701322972.968 total time=   0.6s\n"
          ]
        },
        {
          "output_type": "stream",
          "name": "stderr",
          "text": [
            "/usr/local/lib/python3.10/dist-packages/sklearn/linear_model/_coordinate_descent.py:631: ConvergenceWarning: Objective did not converge. You might want to increase the number of iterations, check the scale of the features or consider increasing regularisation. Duality gap: 2.846e+11, tolerance: 1.535e+09\n",
            "  model = cd_fast.enet_coordinate_descent(\n"
          ]
        },
        {
          "output_type": "stream",
          "name": "stdout",
          "text": [
            "[CV 3/10] END .....alpha=3, l1_ratio=1;, score=-511663985.993 total time=   0.7s\n"
          ]
        },
        {
          "output_type": "stream",
          "name": "stderr",
          "text": [
            "/usr/local/lib/python3.10/dist-packages/sklearn/linear_model/_coordinate_descent.py:631: ConvergenceWarning: Objective did not converge. You might want to increase the number of iterations, check the scale of the features or consider increasing regularisation. Duality gap: 2.142e+11, tolerance: 1.555e+09\n",
            "  model = cd_fast.enet_coordinate_descent(\n"
          ]
        },
        {
          "output_type": "stream",
          "name": "stdout",
          "text": [
            "[CV 4/10] END .....alpha=3, l1_ratio=1;, score=-327254044.477 total time=   0.7s\n"
          ]
        },
        {
          "output_type": "stream",
          "name": "stderr",
          "text": [
            "/usr/local/lib/python3.10/dist-packages/sklearn/linear_model/_coordinate_descent.py:631: ConvergenceWarning: Objective did not converge. You might want to increase the number of iterations, check the scale of the features or consider increasing regularisation. Duality gap: 2.480e+11, tolerance: 1.532e+09\n",
            "  model = cd_fast.enet_coordinate_descent(\n"
          ]
        },
        {
          "output_type": "stream",
          "name": "stdout",
          "text": [
            "[CV 5/10] END .....alpha=3, l1_ratio=1;, score=-387601805.570 total time=   0.6s\n"
          ]
        },
        {
          "output_type": "stream",
          "name": "stderr",
          "text": [
            "/usr/local/lib/python3.10/dist-packages/sklearn/linear_model/_coordinate_descent.py:631: ConvergenceWarning: Objective did not converge. You might want to increase the number of iterations, check the scale of the features or consider increasing regularisation. Duality gap: 2.393e+11, tolerance: 1.474e+09\n",
            "  model = cd_fast.enet_coordinate_descent(\n"
          ]
        },
        {
          "output_type": "stream",
          "name": "stdout",
          "text": [
            "[CV 6/10] END .....alpha=3, l1_ratio=1;, score=-562861760.267 total time=   0.6s\n"
          ]
        },
        {
          "output_type": "stream",
          "name": "stderr",
          "text": [
            "/usr/local/lib/python3.10/dist-packages/sklearn/linear_model/_coordinate_descent.py:631: ConvergenceWarning: Objective did not converge. You might want to increase the number of iterations, check the scale of the features or consider increasing regularisation. Duality gap: 1.920e+11, tolerance: 1.537e+09\n",
            "  model = cd_fast.enet_coordinate_descent(\n"
          ]
        },
        {
          "output_type": "stream",
          "name": "stdout",
          "text": [
            "[CV 7/10] END .....alpha=3, l1_ratio=1;, score=-666181051.560 total time=   0.7s\n"
          ]
        },
        {
          "output_type": "stream",
          "name": "stderr",
          "text": [
            "/usr/local/lib/python3.10/dist-packages/sklearn/linear_model/_coordinate_descent.py:631: ConvergenceWarning: Objective did not converge. You might want to increase the number of iterations, check the scale of the features or consider increasing regularisation. Duality gap: 2.394e+11, tolerance: 1.516e+09\n",
            "  model = cd_fast.enet_coordinate_descent(\n"
          ]
        },
        {
          "output_type": "stream",
          "name": "stdout",
          "text": [
            "[CV 8/10] END .....alpha=3, l1_ratio=1;, score=-563074223.384 total time=   0.8s\n"
          ]
        },
        {
          "output_type": "stream",
          "name": "stderr",
          "text": [
            "/usr/local/lib/python3.10/dist-packages/sklearn/linear_model/_coordinate_descent.py:631: ConvergenceWarning: Objective did not converge. You might want to increase the number of iterations, check the scale of the features or consider increasing regularisation. Duality gap: 1.784e+11, tolerance: 1.535e+09\n",
            "  model = cd_fast.enet_coordinate_descent(\n"
          ]
        },
        {
          "output_type": "stream",
          "name": "stdout",
          "text": [
            "[CV 9/10] END .....alpha=3, l1_ratio=1;, score=-462079069.225 total time=   0.8s\n"
          ]
        },
        {
          "output_type": "stream",
          "name": "stderr",
          "text": [
            "/usr/local/lib/python3.10/dist-packages/sklearn/linear_model/_coordinate_descent.py:631: ConvergenceWarning: Objective did not converge. You might want to increase the number of iterations, check the scale of the features or consider increasing regularisation. Duality gap: 2.283e+11, tolerance: 1.532e+09\n",
            "  model = cd_fast.enet_coordinate_descent(\n"
          ]
        },
        {
          "output_type": "stream",
          "name": "stdout",
          "text": [
            "[CV 10/10] END ....alpha=3, l1_ratio=1;, score=-482077444.153 total time=   0.8s\n",
            "[CV 1/10] END ..alpha=5, l1_ratio=0.1;, score=-1435488017.285 total time=   0.1s\n",
            "[CV 2/10] END ..alpha=5, l1_ratio=0.1;, score=-2062128671.719 total time=   0.1s\n",
            "[CV 3/10] END ..alpha=5, l1_ratio=0.1;, score=-1293043312.938 total time=   0.1s\n",
            "[CV 4/10] END ...alpha=5, l1_ratio=0.1;, score=-831501280.377 total time=   0.0s\n",
            "[CV 5/10] END ..alpha=5, l1_ratio=0.1;, score=-1288536332.358 total time=   0.0s\n",
            "[CV 6/10] END ..alpha=5, l1_ratio=0.1;, score=-1998105048.050 total time=   0.0s\n",
            "[CV 7/10] END ..alpha=5, l1_ratio=0.1;, score=-1221060551.184 total time=   0.0s\n",
            "[CV 8/10] END ..alpha=5, l1_ratio=0.1;, score=-1373573026.241 total time=   0.1s\n",
            "[CV 9/10] END ..alpha=5, l1_ratio=0.1;, score=-1080280573.568 total time=   0.1s\n",
            "[CV 10/10] END .alpha=5, l1_ratio=0.1;, score=-1284550807.867 total time=   0.1s\n",
            "[CV 1/10] END ..alpha=5, l1_ratio=0.3;, score=-1283907381.141 total time=   0.1s\n",
            "[CV 2/10] END ..alpha=5, l1_ratio=0.3;, score=-1840158636.252 total time=   0.1s\n",
            "[CV 3/10] END ..alpha=5, l1_ratio=0.3;, score=-1158513029.676 total time=   0.1s\n",
            "[CV 4/10] END ...alpha=5, l1_ratio=0.3;, score=-720060234.942 total time=   0.0s\n",
            "[CV 5/10] END ..alpha=5, l1_ratio=0.3;, score=-1132527653.320 total time=   0.0s\n",
            "[CV 6/10] END ..alpha=5, l1_ratio=0.3;, score=-1752861612.190 total time=   0.0s\n",
            "[CV 7/10] END ..alpha=5, l1_ratio=0.3;, score=-1086538552.367 total time=   0.1s\n",
            "[CV 8/10] END ..alpha=5, l1_ratio=0.3;, score=-1203752675.857 total time=   0.1s\n",
            "[CV 9/10] END ...alpha=5, l1_ratio=0.3;, score=-943162245.849 total time=   0.1s\n",
            "[CV 10/10] END .alpha=5, l1_ratio=0.3;, score=-1137435833.081 total time=   0.1s\n",
            "[CV 1/10] END ..alpha=5, l1_ratio=0.5;, score=-1120297424.227 total time=   0.1s\n",
            "[CV 2/10] END ..alpha=5, l1_ratio=0.5;, score=-1593311421.406 total time=   0.1s\n",
            "[CV 3/10] END ..alpha=5, l1_ratio=0.5;, score=-1012772531.929 total time=   0.1s\n",
            "[CV 4/10] END ...alpha=5, l1_ratio=0.5;, score=-606311724.795 total time=   0.1s\n",
            "[CV 5/10] END ...alpha=5, l1_ratio=0.5;, score=-963850486.396 total time=   0.1s\n",
            "[CV 6/10] END ..alpha=5, l1_ratio=0.5;, score=-1480337404.357 total time=   0.0s\n",
            "[CV 7/10] END ...alpha=5, l1_ratio=0.5;, score=-946305738.030 total time=   0.0s\n",
            "[CV 8/10] END ..alpha=5, l1_ratio=0.5;, score=-1021194664.910 total time=   0.0s\n",
            "[CV 9/10] END ...alpha=5, l1_ratio=0.5;, score=-800757897.954 total time=   0.1s\n",
            "[CV 10/10] END ..alpha=5, l1_ratio=0.5;, score=-980538599.725 total time=   0.1s\n",
            "[CV 1/10] END ...alpha=5, l1_ratio=0.7;, score=-939331420.602 total time=   0.1s\n",
            "[CV 2/10] END ..alpha=5, l1_ratio=0.7;, score=-1308881417.628 total time=   0.1s\n",
            "[CV 3/10] END ...alpha=5, l1_ratio=0.7;, score=-847531675.538 total time=   0.1s\n",
            "[CV 4/10] END ...alpha=5, l1_ratio=0.7;, score=-490510346.737 total time=   0.1s\n",
            "[CV 5/10] END ...alpha=5, l1_ratio=0.7;, score=-777725350.275 total time=   0.0s\n",
            "[CV 6/10] END ..alpha=5, l1_ratio=0.7;, score=-1170486233.112 total time=   0.0s\n",
            "[CV 7/10] END ...alpha=5, l1_ratio=0.7;, score=-801270484.691 total time=   0.1s\n",
            "[CV 8/10] END ...alpha=5, l1_ratio=0.7;, score=-823250849.146 total time=   0.1s\n",
            "[CV 9/10] END ...alpha=5, l1_ratio=0.7;, score=-653373235.363 total time=   0.1s\n",
            "[CV 10/10] END ..alpha=5, l1_ratio=0.7;, score=-811251478.786 total time=   0.1s\n",
            "[CV 1/10] END ...alpha=5, l1_ratio=0.8;, score=-838687980.356 total time=   0.1s\n",
            "[CV 2/10] END ..alpha=5, l1_ratio=0.8;, score=-1143472337.456 total time=   0.1s\n",
            "[CV 3/10] END ...alpha=5, l1_ratio=0.8;, score=-750768224.766 total time=   0.1s\n",
            "[CV 4/10] END ...alpha=5, l1_ratio=0.8;, score=-431347044.090 total time=   0.1s\n",
            "[CV 5/10] END ...alpha=5, l1_ratio=0.8;, score=-674684362.871 total time=   0.1s\n",
            "[CV 6/10] END ...alpha=5, l1_ratio=0.8;, score=-995401362.879 total time=   0.1s\n",
            "[CV 7/10] END ...alpha=5, l1_ratio=0.8;, score=-728303096.566 total time=   0.1s\n",
            "[CV 8/10] END ...alpha=5, l1_ratio=0.8;, score=-718112549.598 total time=   0.1s\n",
            "[CV 9/10] END ...alpha=5, l1_ratio=0.8;, score=-578101408.952 total time=   0.1s\n",
            "[CV 10/10] END ..alpha=5, l1_ratio=0.8;, score=-720187828.756 total time=   0.1s\n",
            "[CV 1/10] END ...alpha=5, l1_ratio=0.9;, score=-727574882.092 total time=   0.2s\n",
            "[CV 2/10] END ...alpha=5, l1_ratio=0.9;, score=-948622274.530 total time=   0.1s\n",
            "[CV 3/10] END ...alpha=5, l1_ratio=0.9;, score=-634539490.681 total time=   0.1s\n",
            "[CV 4/10] END ...alpha=5, l1_ratio=0.9;, score=-369144942.402 total time=   0.1s\n",
            "[CV 5/10] END ...alpha=5, l1_ratio=0.9;, score=-559883408.859 total time=   0.2s\n",
            "[CV 6/10] END ...alpha=5, l1_ratio=0.9;, score=-799269897.587 total time=   0.2s\n",
            "[CV 7/10] END ...alpha=5, l1_ratio=0.9;, score=-659428444.462 total time=   0.1s\n",
            "[CV 8/10] END ...alpha=5, l1_ratio=0.9;, score=-611311918.075 total time=   0.1s\n",
            "[CV 9/10] END ...alpha=5, l1_ratio=0.9;, score=-502709879.918 total time=   0.1s\n",
            "[CV 10/10] END ..alpha=5, l1_ratio=0.9;, score=-621351015.944 total time=   0.1s\n",
            "[CV 1/10] END ..alpha=5, l1_ratio=0.95;, score=-667387199.170 total time=   0.1s\n",
            "[CV 2/10] END ..alpha=5, l1_ratio=0.95;, score=-830474597.127 total time=   0.1s\n",
            "[CV 3/10] END ..alpha=5, l1_ratio=0.95;, score=-563540720.468 total time=   0.1s\n",
            "[CV 4/10] END ..alpha=5, l1_ratio=0.95;, score=-335071281.661 total time=   0.1s\n",
            "[CV 5/10] END ..alpha=5, l1_ratio=0.95;, score=-493571828.831 total time=   0.2s\n",
            "[CV 6/10] END ..alpha=5, l1_ratio=0.95;, score=-688982595.280 total time=   0.1s\n",
            "[CV 7/10] END ..alpha=5, l1_ratio=0.95;, score=-633284897.531 total time=   0.2s\n",
            "[CV 8/10] END ..alpha=5, l1_ratio=0.95;, score=-562164194.892 total time=   0.1s\n",
            "[CV 9/10] END ..alpha=5, l1_ratio=0.95;, score=-466525023.887 total time=   0.1s\n",
            "[CV 10/10] END .alpha=5, l1_ratio=0.95;, score=-563956601.535 total time=   0.2s\n"
          ]
        },
        {
          "output_type": "stream",
          "name": "stderr",
          "text": [
            "/usr/local/lib/python3.10/dist-packages/sklearn/linear_model/_coordinate_descent.py:631: ConvergenceWarning: Objective did not converge. You might want to increase the number of iterations, check the scale of the features or consider increasing regularisation. Duality gap: 1.319e+11, tolerance: 1.525e+09\n",
            "  model = cd_fast.enet_coordinate_descent(\n"
          ]
        },
        {
          "output_type": "stream",
          "name": "stdout",
          "text": [
            "[CV 1/10] END .....alpha=5, l1_ratio=1;, score=-595838780.522 total time=   0.6s\n"
          ]
        },
        {
          "output_type": "stream",
          "name": "stderr",
          "text": [
            "/usr/local/lib/python3.10/dist-packages/sklearn/linear_model/_coordinate_descent.py:631: ConvergenceWarning: Objective did not converge. You might want to increase the number of iterations, check the scale of the features or consider increasing regularisation. Duality gap: 4.470e+09, tolerance: 1.477e+09\n",
            "  model = cd_fast.enet_coordinate_descent(\n"
          ]
        },
        {
          "output_type": "stream",
          "name": "stdout",
          "text": [
            "[CV 2/10] END .....alpha=5, l1_ratio=1;, score=-698978068.910 total time=   0.6s\n"
          ]
        },
        {
          "output_type": "stream",
          "name": "stderr",
          "text": [
            "/usr/local/lib/python3.10/dist-packages/sklearn/linear_model/_coordinate_descent.py:631: ConvergenceWarning: Objective did not converge. You might want to increase the number of iterations, check the scale of the features or consider increasing regularisation. Duality gap: 2.231e+11, tolerance: 1.535e+09\n",
            "  model = cd_fast.enet_coordinate_descent(\n"
          ]
        },
        {
          "output_type": "stream",
          "name": "stdout",
          "text": [
            "[CV 3/10] END .....alpha=5, l1_ratio=1;, score=-510454084.522 total time=   0.6s\n"
          ]
        },
        {
          "output_type": "stream",
          "name": "stderr",
          "text": [
            "/usr/local/lib/python3.10/dist-packages/sklearn/linear_model/_coordinate_descent.py:631: ConvergenceWarning: Objective did not converge. You might want to increase the number of iterations, check the scale of the features or consider increasing regularisation. Duality gap: 1.454e+11, tolerance: 1.555e+09\n",
            "  model = cd_fast.enet_coordinate_descent(\n"
          ]
        },
        {
          "output_type": "stream",
          "name": "stdout",
          "text": [
            "[CV 4/10] END .....alpha=5, l1_ratio=1;, score=-326972449.427 total time=   0.6s\n"
          ]
        },
        {
          "output_type": "stream",
          "name": "stderr",
          "text": [
            "/usr/local/lib/python3.10/dist-packages/sklearn/linear_model/_coordinate_descent.py:631: ConvergenceWarning: Objective did not converge. You might want to increase the number of iterations, check the scale of the features or consider increasing regularisation. Duality gap: 1.786e+11, tolerance: 1.532e+09\n",
            "  model = cd_fast.enet_coordinate_descent(\n"
          ]
        },
        {
          "output_type": "stream",
          "name": "stdout",
          "text": [
            "[CV 5/10] END .....alpha=5, l1_ratio=1;, score=-387747448.679 total time=   0.6s\n"
          ]
        },
        {
          "output_type": "stream",
          "name": "stderr",
          "text": [
            "/usr/local/lib/python3.10/dist-packages/sklearn/linear_model/_coordinate_descent.py:631: ConvergenceWarning: Objective did not converge. You might want to increase the number of iterations, check the scale of the features or consider increasing regularisation. Duality gap: 1.758e+11, tolerance: 1.474e+09\n",
            "  model = cd_fast.enet_coordinate_descent(\n"
          ]
        },
        {
          "output_type": "stream",
          "name": "stdout",
          "text": [
            "[CV 6/10] END .....alpha=5, l1_ratio=1;, score=-559502322.661 total time=   0.6s\n"
          ]
        },
        {
          "output_type": "stream",
          "name": "stderr",
          "text": [
            "/usr/local/lib/python3.10/dist-packages/sklearn/linear_model/_coordinate_descent.py:631: ConvergenceWarning: Objective did not converge. You might want to increase the number of iterations, check the scale of the features or consider increasing regularisation. Duality gap: 1.284e+11, tolerance: 1.537e+09\n",
            "  model = cd_fast.enet_coordinate_descent(\n"
          ]
        },
        {
          "output_type": "stream",
          "name": "stdout",
          "text": [
            "[CV 7/10] END .....alpha=5, l1_ratio=1;, score=-664026655.239 total time=   0.7s\n"
          ]
        },
        {
          "output_type": "stream",
          "name": "stderr",
          "text": [
            "/usr/local/lib/python3.10/dist-packages/sklearn/linear_model/_coordinate_descent.py:631: ConvergenceWarning: Objective did not converge. You might want to increase the number of iterations, check the scale of the features or consider increasing regularisation. Duality gap: 1.736e+11, tolerance: 1.516e+09\n",
            "  model = cd_fast.enet_coordinate_descent(\n"
          ]
        },
        {
          "output_type": "stream",
          "name": "stdout",
          "text": [
            "[CV 8/10] END .....alpha=5, l1_ratio=1;, score=-562649324.106 total time=   0.8s\n"
          ]
        },
        {
          "output_type": "stream",
          "name": "stderr",
          "text": [
            "/usr/local/lib/python3.10/dist-packages/sklearn/linear_model/_coordinate_descent.py:631: ConvergenceWarning: Objective did not converge. You might want to increase the number of iterations, check the scale of the features or consider increasing regularisation. Duality gap: 1.149e+11, tolerance: 1.535e+09\n",
            "  model = cd_fast.enet_coordinate_descent(\n"
          ]
        },
        {
          "output_type": "stream",
          "name": "stdout",
          "text": [
            "[CV 9/10] END .....alpha=5, l1_ratio=1;, score=-460965963.682 total time=   0.8s\n"
          ]
        },
        {
          "output_type": "stream",
          "name": "stderr",
          "text": [
            "/usr/local/lib/python3.10/dist-packages/sklearn/linear_model/_coordinate_descent.py:631: ConvergenceWarning: Objective did not converge. You might want to increase the number of iterations, check the scale of the features or consider increasing regularisation. Duality gap: 1.588e+11, tolerance: 1.532e+09\n",
            "  model = cd_fast.enet_coordinate_descent(\n"
          ]
        },
        {
          "output_type": "stream",
          "name": "stdout",
          "text": [
            "[CV 10/10] END ....alpha=5, l1_ratio=1;, score=-477023792.306 total time=   0.7s\n",
            "[CV 1/10] END .alpha=10, l1_ratio=0.1;, score=-2016688454.948 total time=   0.0s\n",
            "[CV 2/10] END .alpha=10, l1_ratio=0.1;, score=-2870584866.591 total time=   0.0s\n",
            "[CV 3/10] END .alpha=10, l1_ratio=0.1;, score=-1815897934.185 total time=   0.0s\n",
            "[CV 4/10] END .alpha=10, l1_ratio=0.1;, score=-1294154056.932 total time=   0.0s\n",
            "[CV 5/10] END .alpha=10, l1_ratio=0.1;, score=-1880537984.797 total time=   0.0s\n",
            "[CV 6/10] END .alpha=10, l1_ratio=0.1;, score=-2880972005.420 total time=   0.0s\n",
            "[CV 7/10] END .alpha=10, l1_ratio=0.1;, score=-1756663140.948 total time=   0.0s\n",
            "[CV 8/10] END .alpha=10, l1_ratio=0.1;, score=-2021384914.254 total time=   0.0s\n",
            "[CV 9/10] END .alpha=10, l1_ratio=0.1;, score=-1632031932.611 total time=   0.1s\n",
            "[CV 10/10] END alpha=10, l1_ratio=0.1;, score=-1853988095.840 total time=   0.0s\n",
            "[CV 1/10] END .alpha=10, l1_ratio=0.3;, score=-1776134156.501 total time=   0.0s\n",
            "[CV 2/10] END .alpha=10, l1_ratio=0.3;, score=-2542701438.061 total time=   0.0s\n",
            "[CV 3/10] END .alpha=10, l1_ratio=0.3;, score=-1597703239.467 total time=   0.0s\n",
            "[CV 4/10] END .alpha=10, l1_ratio=0.3;, score=-1097301756.671 total time=   0.0s\n",
            "[CV 5/10] END .alpha=10, l1_ratio=0.3;, score=-1636772336.918 total time=   0.0s\n",
            "[CV 6/10] END .alpha=10, l1_ratio=0.3;, score=-2525484408.835 total time=   0.0s\n",
            "[CV 7/10] END .alpha=10, l1_ratio=0.3;, score=-1532378490.401 total time=   0.0s\n",
            "[CV 8/10] END .alpha=10, l1_ratio=0.3;, score=-1754214923.655 total time=   0.0s\n",
            "[CV 9/10] END .alpha=10, l1_ratio=0.3;, score=-1400016576.170 total time=   0.0s\n",
            "[CV 10/10] END alpha=10, l1_ratio=0.3;, score=-1617861757.881 total time=   0.0s\n",
            "[CV 1/10] END .alpha=10, l1_ratio=0.5;, score=-1508037963.222 total time=   0.0s\n",
            "[CV 2/10] END .alpha=10, l1_ratio=0.5;, score=-2166305214.837 total time=   0.0s\n",
            "[CV 3/10] END .alpha=10, l1_ratio=0.5;, score=-1357529957.765 total time=   0.0s\n",
            "[CV 4/10] END ..alpha=10, l1_ratio=0.5;, score=-886518930.000 total time=   0.0s\n",
            "[CV 5/10] END .alpha=10, l1_ratio=0.5;, score=-1362915332.826 total time=   0.0s\n",
            "[CV 6/10] END .alpha=10, l1_ratio=0.5;, score=-2113120675.956 total time=   0.0s\n",
            "[CV 7/10] END .alpha=10, l1_ratio=0.5;, score=-1286397740.010 total time=   0.0s\n",
            "[CV 8/10] END .alpha=10, l1_ratio=0.5;, score=-1454871400.955 total time=   0.0s\n",
            "[CV 9/10] END .alpha=10, l1_ratio=0.5;, score=-1147181652.451 total time=   0.0s\n",
            "[CV 10/10] END alpha=10, l1_ratio=0.5;, score=-1355373027.198 total time=   0.0s\n",
            "[CV 1/10] END .alpha=10, l1_ratio=0.7;, score=-1204195103.445 total time=   0.0s\n",
            "[CV 2/10] END .alpha=10, l1_ratio=0.7;, score=-1720854783.655 total time=   0.0s\n",
            "[CV 3/10] END .alpha=10, l1_ratio=0.7;, score=-1087665137.983 total time=   0.0s\n",
            "[CV 4/10] END ..alpha=10, l1_ratio=0.7;, score=-663711997.662 total time=   0.0s\n",
            "[CV 5/10] END .alpha=10, l1_ratio=0.7;, score=-1050298540.653 total time=   0.0s\n",
            "[CV 6/10] END .alpha=10, l1_ratio=0.7;, score=-1621242135.341 total time=   0.0s\n",
            "[CV 7/10] END .alpha=10, l1_ratio=0.7;, score=-1017278736.627 total time=   0.1s\n",
            "[CV 8/10] END .alpha=10, l1_ratio=0.7;, score=-1114719416.008 total time=   0.1s\n",
            "[CV 9/10] END ..alpha=10, l1_ratio=0.7;, score=-872909508.771 total time=   0.0s\n",
            "[CV 10/10] END alpha=10, l1_ratio=0.7;, score=-1060735495.505 total time=   0.0s\n",
            "[CV 1/10] END .alpha=10, l1_ratio=0.8;, score=-1032796655.072 total time=   0.0s\n",
            "[CV 2/10] END .alpha=10, l1_ratio=0.8;, score=-1457547314.057 total time=   0.0s\n",
            "[CV 3/10] END ..alpha=10, l1_ratio=0.8;, score=-933760261.219 total time=   0.0s\n",
            "[CV 4/10] END ..alpha=10, l1_ratio=0.8;, score=-548918440.595 total time=   0.0s\n",
            "[CV 5/10] END ..alpha=10, l1_ratio=0.8;, score=-873779331.762 total time=   0.1s\n",
            "[CV 6/10] END .alpha=10, l1_ratio=0.8;, score=-1331705397.164 total time=   0.1s\n",
            "[CV 7/10] END ..alpha=10, l1_ratio=0.8;, score=-874336758.787 total time=   0.1s\n",
            "[CV 8/10] END ..alpha=10, l1_ratio=0.8;, score=-924806375.678 total time=   0.1s\n",
            "[CV 9/10] END ..alpha=10, l1_ratio=0.8;, score=-727868866.641 total time=   0.1s\n",
            "[CV 10/10] END .alpha=10, l1_ratio=0.8;, score=-897971144.525 total time=   0.1s\n",
            "[CV 1/10] END ..alpha=10, l1_ratio=0.9;, score=-838795336.181 total time=   0.1s\n",
            "[CV 2/10] END .alpha=10, l1_ratio=0.9;, score=-1143876816.594 total time=   0.1s\n",
            "[CV 3/10] END ..alpha=10, l1_ratio=0.9;, score=-750993125.748 total time=   0.1s\n",
            "[CV 4/10] END ..alpha=10, l1_ratio=0.9;, score=-431512096.542 total time=   0.1s\n",
            "[CV 5/10] END ..alpha=10, l1_ratio=0.9;, score=-674870566.099 total time=   0.1s\n",
            "[CV 6/10] END ..alpha=10, l1_ratio=0.9;, score=-996178973.295 total time=   0.1s\n",
            "[CV 7/10] END ..alpha=10, l1_ratio=0.9;, score=-728264483.799 total time=   0.1s\n",
            "[CV 8/10] END ..alpha=10, l1_ratio=0.9;, score=-718474810.364 total time=   0.1s\n",
            "[CV 9/10] END ..alpha=10, l1_ratio=0.9;, score=-578199278.831 total time=   0.1s\n",
            "[CV 10/10] END .alpha=10, l1_ratio=0.9;, score=-720420131.107 total time=   0.1s\n",
            "[CV 1/10] END .alpha=10, l1_ratio=0.95;, score=-727379454.060 total time=   0.1s\n",
            "[CV 2/10] END .alpha=10, l1_ratio=0.95;, score=-949066148.969 total time=   0.1s\n",
            "[CV 3/10] END .alpha=10, l1_ratio=0.95;, score=-634798270.132 total time=   0.1s\n",
            "[CV 4/10] END .alpha=10, l1_ratio=0.95;, score=-369234433.937 total time=   0.1s\n",
            "[CV 5/10] END .alpha=10, l1_ratio=0.95;, score=-559960102.499 total time=   0.1s\n",
            "[CV 6/10] END .alpha=10, l1_ratio=0.95;, score=-799868220.389 total time=   0.1s\n",
            "[CV 7/10] END .alpha=10, l1_ratio=0.95;, score=-659271131.373 total time=   0.1s\n",
            "[CV 8/10] END .alpha=10, l1_ratio=0.95;, score=-611421155.990 total time=   0.1s\n",
            "[CV 9/10] END .alpha=10, l1_ratio=0.95;, score=-502625631.810 total time=   0.1s\n",
            "[CV 10/10] END alpha=10, l1_ratio=0.95;, score=-621341738.330 total time=   0.1s\n"
          ]
        },
        {
          "output_type": "stream",
          "name": "stderr",
          "text": [
            "/usr/local/lib/python3.10/dist-packages/sklearn/linear_model/_coordinate_descent.py:631: ConvergenceWarning: Objective did not converge. You might want to increase the number of iterations, check the scale of the features or consider increasing regularisation. Duality gap: 6.273e+10, tolerance: 1.525e+09\n",
            "  model = cd_fast.enet_coordinate_descent(\n"
          ]
        },
        {
          "output_type": "stream",
          "name": "stdout",
          "text": [
            "[CV 1/10] END ....alpha=10, l1_ratio=1;, score=-591312953.922 total time=   0.6s\n",
            "[CV 2/10] END ....alpha=10, l1_ratio=1;, score=-695422542.831 total time=   0.6s\n"
          ]
        },
        {
          "output_type": "stream",
          "name": "stderr",
          "text": [
            "/usr/local/lib/python3.10/dist-packages/sklearn/linear_model/_coordinate_descent.py:631: ConvergenceWarning: Objective did not converge. You might want to increase the number of iterations, check the scale of the features or consider increasing regularisation. Duality gap: 1.339e+11, tolerance: 1.535e+09\n",
            "  model = cd_fast.enet_coordinate_descent(\n"
          ]
        },
        {
          "output_type": "stream",
          "name": "stdout",
          "text": [
            "[CV 3/10] END ....alpha=10, l1_ratio=1;, score=-507541845.201 total time=   0.7s\n"
          ]
        },
        {
          "output_type": "stream",
          "name": "stderr",
          "text": [
            "/usr/local/lib/python3.10/dist-packages/sklearn/linear_model/_coordinate_descent.py:631: ConvergenceWarning: Objective did not converge. You might want to increase the number of iterations, check the scale of the features or consider increasing regularisation. Duality gap: 6.917e+10, tolerance: 1.555e+09\n",
            "  model = cd_fast.enet_coordinate_descent(\n"
          ]
        },
        {
          "output_type": "stream",
          "name": "stdout",
          "text": [
            "[CV 4/10] END ....alpha=10, l1_ratio=1;, score=-327111266.600 total time=   0.6s\n"
          ]
        },
        {
          "output_type": "stream",
          "name": "stderr",
          "text": [
            "/usr/local/lib/python3.10/dist-packages/sklearn/linear_model/_coordinate_descent.py:631: ConvergenceWarning: Objective did not converge. You might want to increase the number of iterations, check the scale of the features or consider increasing regularisation. Duality gap: 9.338e+10, tolerance: 1.532e+09\n",
            "  model = cd_fast.enet_coordinate_descent(\n"
          ]
        },
        {
          "output_type": "stream",
          "name": "stdout",
          "text": [
            "[CV 5/10] END ....alpha=10, l1_ratio=1;, score=-389055352.065 total time=   0.6s\n"
          ]
        },
        {
          "output_type": "stream",
          "name": "stderr",
          "text": [
            "/usr/local/lib/python3.10/dist-packages/sklearn/linear_model/_coordinate_descent.py:631: ConvergenceWarning: Objective did not converge. You might want to increase the number of iterations, check the scale of the features or consider increasing regularisation. Duality gap: 9.843e+10, tolerance: 1.474e+09\n",
            "  model = cd_fast.enet_coordinate_descent(\n"
          ]
        },
        {
          "output_type": "stream",
          "name": "stdout",
          "text": [
            "[CV 6/10] END ....alpha=10, l1_ratio=1;, score=-561287810.395 total time=   0.6s\n"
          ]
        },
        {
          "output_type": "stream",
          "name": "stderr",
          "text": [
            "/usr/local/lib/python3.10/dist-packages/sklearn/linear_model/_coordinate_descent.py:631: ConvergenceWarning: Objective did not converge. You might want to increase the number of iterations, check the scale of the features or consider increasing regularisation. Duality gap: 6.140e+10, tolerance: 1.537e+09\n",
            "  model = cd_fast.enet_coordinate_descent(\n"
          ]
        },
        {
          "output_type": "stream",
          "name": "stdout",
          "text": [
            "[CV 7/10] END ....alpha=10, l1_ratio=1;, score=-659054897.313 total time=   0.6s\n"
          ]
        },
        {
          "output_type": "stream",
          "name": "stderr",
          "text": [
            "/usr/local/lib/python3.10/dist-packages/sklearn/linear_model/_coordinate_descent.py:631: ConvergenceWarning: Objective did not converge. You might want to increase the number of iterations, check the scale of the features or consider increasing regularisation. Duality gap: 9.095e+10, tolerance: 1.516e+09\n",
            "  model = cd_fast.enet_coordinate_descent(\n"
          ]
        },
        {
          "output_type": "stream",
          "name": "stdout",
          "text": [
            "[CV 8/10] END ....alpha=10, l1_ratio=1;, score=-561842379.828 total time=   0.7s\n"
          ]
        },
        {
          "output_type": "stream",
          "name": "stderr",
          "text": [
            "/usr/local/lib/python3.10/dist-packages/sklearn/linear_model/_coordinate_descent.py:631: ConvergenceWarning: Objective did not converge. You might want to increase the number of iterations, check the scale of the features or consider increasing regularisation. Duality gap: 5.060e+10, tolerance: 1.535e+09\n",
            "  model = cd_fast.enet_coordinate_descent(\n"
          ]
        },
        {
          "output_type": "stream",
          "name": "stdout",
          "text": [
            "[CV 9/10] END ....alpha=10, l1_ratio=1;, score=-458590906.365 total time=   0.6s\n"
          ]
        },
        {
          "output_type": "stream",
          "name": "stderr",
          "text": [
            "/usr/local/lib/python3.10/dist-packages/sklearn/linear_model/_coordinate_descent.py:631: ConvergenceWarning: Objective did not converge. You might want to increase the number of iterations, check the scale of the features or consider increasing regularisation. Duality gap: 7.944e+10, tolerance: 1.532e+09\n",
            "  model = cd_fast.enet_coordinate_descent(\n"
          ]
        },
        {
          "output_type": "stream",
          "name": "stdout",
          "text": [
            "[CV 10/10] END ...alpha=10, l1_ratio=1;, score=-471605704.915 total time=   0.7s\n",
            "[CV 1/10] END alpha=100, l1_ratio=0.1;, score=-4986458353.468 total time=   0.0s\n",
            "[CV 2/10] END alpha=100, l1_ratio=0.1;, score=-6578112909.544 total time=   0.0s\n",
            "[CV 3/10] END alpha=100, l1_ratio=0.1;, score=-4643289469.279 total time=   0.0s\n",
            "[CV 4/10] END alpha=100, l1_ratio=0.1;, score=-3949880668.372 total time=   0.0s\n",
            "[CV 5/10] END alpha=100, l1_ratio=0.1;, score=-4795946925.911 total time=   0.0s\n",
            "[CV 6/10] END alpha=100, l1_ratio=0.1;, score=-6712582211.724 total time=   0.0s\n",
            "[CV 7/10] END alpha=100, l1_ratio=0.1;, score=-4601031363.225 total time=   0.0s\n",
            "[CV 8/10] END alpha=100, l1_ratio=0.1;, score=-5245626399.283 total time=   0.0s\n",
            "[CV 9/10] END alpha=100, l1_ratio=0.1;, score=-4608111697.913 total time=   0.0s\n",
            "[CV 10/10] END alpha=100, l1_ratio=0.1;, score=-4759021723.572 total time=   0.0s\n",
            "[CV 1/10] END alpha=100, l1_ratio=0.3;, score=-4713152840.346 total time=   0.0s\n",
            "[CV 2/10] END alpha=100, l1_ratio=0.3;, score=-6251218167.003 total time=   0.0s\n",
            "[CV 3/10] END alpha=100, l1_ratio=0.3;, score=-4377221452.764 total time=   0.0s\n",
            "[CV 4/10] END alpha=100, l1_ratio=0.3;, score=-3697454972.731 total time=   0.0s\n",
            "[CV 5/10] END alpha=100, l1_ratio=0.3;, score=-4531696871.478 total time=   0.0s\n",
            "[CV 6/10] END alpha=100, l1_ratio=0.3;, score=-6383770075.616 total time=   0.0s\n",
            "[CV 7/10] END alpha=100, l1_ratio=0.3;, score=-4336787851.334 total time=   0.0s\n",
            "[CV 8/10] END alpha=100, l1_ratio=0.3;, score=-4952557970.941 total time=   0.0s\n",
            "[CV 9/10] END alpha=100, l1_ratio=0.3;, score=-4331673970.249 total time=   0.0s\n",
            "[CV 10/10] END alpha=100, l1_ratio=0.3;, score=-4492592509.944 total time=   0.0s\n",
            "[CV 1/10] END alpha=100, l1_ratio=0.5;, score=-4296237003.811 total time=   0.0s\n",
            "[CV 2/10] END alpha=100, l1_ratio=0.5;, score=-5748837991.921 total time=   0.0s\n",
            "[CV 3/10] END alpha=100, l1_ratio=0.5;, score=-3972736160.535 total time=   0.0s\n",
            "[CV 4/10] END alpha=100, l1_ratio=0.5;, score=-3314157721.775 total time=   0.0s\n",
            "[CV 5/10] END alpha=100, l1_ratio=0.5;, score=-4127593753.240 total time=   0.0s\n",
            "[CV 6/10] END alpha=100, l1_ratio=0.5;, score=-5876185238.665 total time=   0.0s\n",
            "[CV 7/10] END alpha=100, l1_ratio=0.5;, score=-3934245107.469 total time=   0.0s\n",
            "[CV 8/10] END alpha=100, l1_ratio=0.5;, score=-4504479806.327 total time=   0.0s\n",
            "[CV 9/10] END alpha=100, l1_ratio=0.5;, score=-3910243704.050 total time=   0.0s\n",
            "[CV 10/10] END alpha=100, l1_ratio=0.5;, score=-4085934951.775 total time=   0.0s\n",
            "[CV 1/10] END alpha=100, l1_ratio=0.7;, score=-3585917676.664 total time=   0.0s\n",
            "[CV 2/10] END alpha=100, l1_ratio=0.7;, score=-4880367728.661 total time=   0.0s\n",
            "[CV 3/10] END alpha=100, l1_ratio=0.7;, score=-3288516009.688 total time=   0.0s\n",
            "[CV 4/10] END alpha=100, l1_ratio=0.7;, score=-2667401499.172 total time=   0.0s\n",
            "[CV 5/10] END alpha=100, l1_ratio=0.7;, score=-3435414175.660 total time=   0.0s\n",
            "[CV 6/10] END alpha=100, l1_ratio=0.7;, score=-4990795215.744 total time=   0.0s\n",
            "[CV 7/10] END alpha=100, l1_ratio=0.7;, score=-3250146354.821 total time=   0.0s\n",
            "[CV 8/10] END alpha=100, l1_ratio=0.7;, score=-3737768416.638 total time=   0.0s\n",
            "[CV 9/10] END alpha=100, l1_ratio=0.7;, score=-3193565161.898 total time=   0.0s\n",
            "[CV 10/10] END alpha=100, l1_ratio=0.7;, score=-3392210800.390 total time=   0.0s\n",
            "[CV 1/10] END alpha=100, l1_ratio=0.8;, score=-3008079562.034 total time=   0.0s\n",
            "[CV 2/10] END alpha=100, l1_ratio=0.8;, score=-4158625572.409 total time=   0.0s\n",
            "[CV 3/10] END alpha=100, l1_ratio=0.8;, score=-2738288592.699 total time=   0.0s\n",
            "[CV 4/10] END alpha=100, l1_ratio=0.8;, score=-2149701042.550 total time=   0.0s\n",
            "[CV 5/10] END alpha=100, l1_ratio=0.8;, score=-2867756999.155 total time=   0.0s\n",
            "[CV 6/10] END alpha=100, l1_ratio=0.8;, score=-4245031962.418 total time=   0.0s\n",
            "[CV 7/10] END alpha=100, l1_ratio=0.8;, score=-2696032005.675 total time=   0.0s\n",
            "[CV 8/10] END alpha=100, l1_ratio=0.8;, score=-3110242139.306 total time=   0.0s\n",
            "[CV 9/10] END alpha=100, l1_ratio=0.8;, score=-2613132429.238 total time=   0.0s\n",
            "[CV 10/10] END alpha=100, l1_ratio=0.8;, score=-2826794702.430 total time=   0.0s\n",
            "[CV 1/10] END alpha=100, l1_ratio=0.9;, score=-2136611215.835 total time=   0.0s\n",
            "[CV 2/10] END alpha=100, l1_ratio=0.9;, score=-3030257471.191 total time=   0.0s\n",
            "[CV 3/10] END alpha=100, l1_ratio=0.9;, score=-1925056604.479 total time=   0.0s\n",
            "[CV 4/10] END alpha=100, l1_ratio=0.9;, score=-1394148631.140 total time=   0.0s\n",
            "[CV 5/10] END alpha=100, l1_ratio=0.9;, score=-1999871990.973 total time=   0.0s\n",
            "[CV 6/10] END alpha=100, l1_ratio=0.9;, score=-3053601306.773 total time=   0.0s\n",
            "[CV 7/10] END alpha=100, l1_ratio=0.9;, score=-1867731516.882 total time=   0.0s\n",
            "[CV 8/10] END alpha=100, l1_ratio=0.9;, score=-2154262904.807 total time=   0.0s\n",
            "[CV 9/10] END alpha=100, l1_ratio=0.9;, score=-1748716579.824 total time=   0.0s\n",
            "[CV 10/10] END alpha=100, l1_ratio=0.9;, score=-1972164685.285 total time=   0.0s\n",
            "[CV 1/10] END alpha=100, l1_ratio=0.95;, score=-1516044754.055 total time=   0.1s\n",
            "[CV 2/10] END alpha=100, l1_ratio=0.95;, score=-2175649350.456 total time=   0.0s\n",
            "[CV 3/10] END alpha=100, l1_ratio=0.95;, score=-1363887159.303 total time=   0.0s\n",
            "[CV 4/10] END alpha=100, l1_ratio=0.95;, score=-892521994.702 total time=   0.0s\n",
            "[CV 5/10] END alpha=100, l1_ratio=0.95;, score=-1369330387.566 total time=   0.0s\n",
            "[CV 6/10] END alpha=100, l1_ratio=0.95;, score=-2126682536.428 total time=   0.0s\n",
            "[CV 7/10] END alpha=100, l1_ratio=0.95;, score=-1291486914.010 total time=   0.0s\n",
            "[CV 8/10] END alpha=100, l1_ratio=0.95;, score=-1464799864.881 total time=   0.0s\n",
            "[CV 9/10] END alpha=100, l1_ratio=0.95;, score=-1153731695.907 total time=   0.0s\n",
            "[CV 10/10] END alpha=100, l1_ratio=0.95;, score=-1363966679.774 total time=   0.0s\n",
            "[CV 1/10] END ...alpha=100, l1_ratio=1;, score=-562825727.005 total time=   0.3s\n",
            "[CV 2/10] END ...alpha=100, l1_ratio=1;, score=-686552502.401 total time=   0.3s\n",
            "[CV 3/10] END ...alpha=100, l1_ratio=1;, score=-493758840.115 total time=   0.3s\n",
            "[CV 4/10] END ...alpha=100, l1_ratio=1;, score=-323375743.366 total time=   0.3s\n",
            "[CV 5/10] END ...alpha=100, l1_ratio=1;, score=-396673419.386 total time=   0.3s\n",
            "[CV 6/10] END ...alpha=100, l1_ratio=1;, score=-580963595.233 total time=   0.3s\n",
            "[CV 7/10] END ...alpha=100, l1_ratio=1;, score=-629945675.273 total time=   0.4s\n",
            "[CV 8/10] END ...alpha=100, l1_ratio=1;, score=-536120317.952 total time=   0.3s\n",
            "[CV 9/10] END ...alpha=100, l1_ratio=1;, score=-441243573.430 total time=   0.3s\n",
            "[CV 10/10] END ..alpha=100, l1_ratio=1;, score=-467650056.749 total time=   0.3s\n"
          ]
        },
        {
          "output_type": "execute_result",
          "data": {
            "text/plain": [
              "GridSearchCV(cv=10, estimator=ElasticNet(),\n",
              "             param_grid={'alpha': [0.1, 0.2, 0.3, 0.5, 0.8, 1, 3, 5, 10, 100],\n",
              "                         'l1_ratio': [0.1, 0.3, 0.5, 0.7, 0.8, 0.9, 0.95, 1]},\n",
              "             scoring='neg_mean_squared_error', verbose=3)"
            ],
            "text/html": [
              "<style>#sk-container-id-1 {color: black;background-color: white;}#sk-container-id-1 pre{padding: 0;}#sk-container-id-1 div.sk-toggleable {background-color: white;}#sk-container-id-1 label.sk-toggleable__label {cursor: pointer;display: block;width: 100%;margin-bottom: 0;padding: 0.3em;box-sizing: border-box;text-align: center;}#sk-container-id-1 label.sk-toggleable__label-arrow:before {content: \"▸\";float: left;margin-right: 0.25em;color: #696969;}#sk-container-id-1 label.sk-toggleable__label-arrow:hover:before {color: black;}#sk-container-id-1 div.sk-estimator:hover label.sk-toggleable__label-arrow:before {color: black;}#sk-container-id-1 div.sk-toggleable__content {max-height: 0;max-width: 0;overflow: hidden;text-align: left;background-color: #f0f8ff;}#sk-container-id-1 div.sk-toggleable__content pre {margin: 0.2em;color: black;border-radius: 0.25em;background-color: #f0f8ff;}#sk-container-id-1 input.sk-toggleable__control:checked~div.sk-toggleable__content {max-height: 200px;max-width: 100%;overflow: auto;}#sk-container-id-1 input.sk-toggleable__control:checked~label.sk-toggleable__label-arrow:before {content: \"▾\";}#sk-container-id-1 div.sk-estimator input.sk-toggleable__control:checked~label.sk-toggleable__label {background-color: #d4ebff;}#sk-container-id-1 div.sk-label input.sk-toggleable__control:checked~label.sk-toggleable__label {background-color: #d4ebff;}#sk-container-id-1 input.sk-hidden--visually {border: 0;clip: rect(1px 1px 1px 1px);clip: rect(1px, 1px, 1px, 1px);height: 1px;margin: -1px;overflow: hidden;padding: 0;position: absolute;width: 1px;}#sk-container-id-1 div.sk-estimator {font-family: monospace;background-color: #f0f8ff;border: 1px dotted black;border-radius: 0.25em;box-sizing: border-box;margin-bottom: 0.5em;}#sk-container-id-1 div.sk-estimator:hover {background-color: #d4ebff;}#sk-container-id-1 div.sk-parallel-item::after {content: \"\";width: 100%;border-bottom: 1px solid gray;flex-grow: 1;}#sk-container-id-1 div.sk-label:hover label.sk-toggleable__label {background-color: #d4ebff;}#sk-container-id-1 div.sk-serial::before {content: \"\";position: absolute;border-left: 1px solid gray;box-sizing: border-box;top: 0;bottom: 0;left: 50%;z-index: 0;}#sk-container-id-1 div.sk-serial {display: flex;flex-direction: column;align-items: center;background-color: white;padding-right: 0.2em;padding-left: 0.2em;position: relative;}#sk-container-id-1 div.sk-item {position: relative;z-index: 1;}#sk-container-id-1 div.sk-parallel {display: flex;align-items: stretch;justify-content: center;background-color: white;position: relative;}#sk-container-id-1 div.sk-item::before, #sk-container-id-1 div.sk-parallel-item::before {content: \"\";position: absolute;border-left: 1px solid gray;box-sizing: border-box;top: 0;bottom: 0;left: 50%;z-index: -1;}#sk-container-id-1 div.sk-parallel-item {display: flex;flex-direction: column;z-index: 1;position: relative;background-color: white;}#sk-container-id-1 div.sk-parallel-item:first-child::after {align-self: flex-end;width: 50%;}#sk-container-id-1 div.sk-parallel-item:last-child::after {align-self: flex-start;width: 50%;}#sk-container-id-1 div.sk-parallel-item:only-child::after {width: 0;}#sk-container-id-1 div.sk-dashed-wrapped {border: 1px dashed gray;margin: 0 0.4em 0.5em 0.4em;box-sizing: border-box;padding-bottom: 0.4em;background-color: white;}#sk-container-id-1 div.sk-label label {font-family: monospace;font-weight: bold;display: inline-block;line-height: 1.2em;}#sk-container-id-1 div.sk-label-container {text-align: center;}#sk-container-id-1 div.sk-container {/* jupyter's `normalize.less` sets `[hidden] { display: none; }` but bootstrap.min.css set `[hidden] { display: none !important; }` so we also need the `!important` here to be able to override the default hidden behavior on the sphinx rendered scikit-learn.org. See: https://github.com/scikit-learn/scikit-learn/issues/21755 */display: inline-block !important;position: relative;}#sk-container-id-1 div.sk-text-repr-fallback {display: none;}</style><div id=\"sk-container-id-1\" class=\"sk-top-container\"><div class=\"sk-text-repr-fallback\"><pre>GridSearchCV(cv=10, estimator=ElasticNet(),\n",
              "             param_grid={&#x27;alpha&#x27;: [0.1, 0.2, 0.3, 0.5, 0.8, 1, 3, 5, 10, 100],\n",
              "                         &#x27;l1_ratio&#x27;: [0.1, 0.3, 0.5, 0.7, 0.8, 0.9, 0.95, 1]},\n",
              "             scoring=&#x27;neg_mean_squared_error&#x27;, verbose=3)</pre><b>In a Jupyter environment, please rerun this cell to show the HTML representation or trust the notebook. <br />On GitHub, the HTML representation is unable to render, please try loading this page with nbviewer.org.</b></div><div class=\"sk-container\" hidden><div class=\"sk-item sk-dashed-wrapped\"><div class=\"sk-label-container\"><div class=\"sk-label sk-toggleable\"><input class=\"sk-toggleable__control sk-hidden--visually\" id=\"sk-estimator-id-1\" type=\"checkbox\" ><label for=\"sk-estimator-id-1\" class=\"sk-toggleable__label sk-toggleable__label-arrow\">GridSearchCV</label><div class=\"sk-toggleable__content\"><pre>GridSearchCV(cv=10, estimator=ElasticNet(),\n",
              "             param_grid={&#x27;alpha&#x27;: [0.1, 0.2, 0.3, 0.5, 0.8, 1, 3, 5, 10, 100],\n",
              "                         &#x27;l1_ratio&#x27;: [0.1, 0.3, 0.5, 0.7, 0.8, 0.9, 0.95, 1]},\n",
              "             scoring=&#x27;neg_mean_squared_error&#x27;, verbose=3)</pre></div></div></div><div class=\"sk-parallel\"><div class=\"sk-parallel-item\"><div class=\"sk-item\"><div class=\"sk-label-container\"><div class=\"sk-label sk-toggleable\"><input class=\"sk-toggleable__control sk-hidden--visually\" id=\"sk-estimator-id-2\" type=\"checkbox\" ><label for=\"sk-estimator-id-2\" class=\"sk-toggleable__label sk-toggleable__label-arrow\">estimator: ElasticNet</label><div class=\"sk-toggleable__content\"><pre>ElasticNet()</pre></div></div></div><div class=\"sk-serial\"><div class=\"sk-item\"><div class=\"sk-estimator sk-toggleable\"><input class=\"sk-toggleable__control sk-hidden--visually\" id=\"sk-estimator-id-3\" type=\"checkbox\" ><label for=\"sk-estimator-id-3\" class=\"sk-toggleable__label sk-toggleable__label-arrow\">ElasticNet</label><div class=\"sk-toggleable__content\"><pre>ElasticNet()</pre></div></div></div></div></div></div></div></div></div></div>"
            ]
          },
          "metadata": {},
          "execution_count": 3
        }
      ]
    },
    {
      "cell_type": "code",
      "source": [
        "grid_model.best_params_"
      ],
      "metadata": {
        "colab": {
          "base_uri": "https://localhost:8080/"
        },
        "id": "VYFQ8i9c0eyn",
        "outputId": "bcc47e2e-3486-4730-98f0-1474a0e7f955"
      },
      "execution_count": 4,
      "outputs": [
        {
          "output_type": "execute_result",
          "data": {
            "text/plain": [
              "{'alpha': 100, 'l1_ratio': 1}"
            ]
          },
          "metadata": {},
          "execution_count": 4
        }
      ]
    },
    {
      "cell_type": "code",
      "source": [
        "y_pred = grid_model.predict(X_test)\n",
        "\n",
        "MAE = mean_absolute_error(y_test, y_pred)\n",
        "MSE = mean_squared_error(y_test, y_pred)\n",
        "print(MAE)\n",
        "print(MSE)\n",
        "print(np.sqrt(MSE))\n",
        "\n"
      ],
      "metadata": {
        "colab": {
          "base_uri": "https://localhost:8080/"
        },
        "id": "DfXFeMncy-pb",
        "outputId": "12d323e5-8e8e-427e-9ede-91958fc1ccb7"
      },
      "execution_count": 5,
      "outputs": [
        {
          "output_type": "stream",
          "name": "stdout",
          "text": [
            "14608.134525170477\n",
            "420261623.78149307\n",
            "20500.283504905317\n"
          ]
        }
      ]
    },
    {
      "cell_type": "code",
      "source": [],
      "metadata": {
        "id": "N8u-orWz21pi"
      },
      "execution_count": 5,
      "outputs": []
    }
  ]
}
