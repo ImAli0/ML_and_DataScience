{
  "nbformat": 4,
  "nbformat_minor": 0,
  "metadata": {
    "colab": {
      "provenance": [],
      "authorship_tag": "ABX9TyNygVXIm2nW5sYQhPkBW/mV",
      "include_colab_link": true
    },
    "kernelspec": {
      "name": "python3",
      "display_name": "Python 3"
    },
    "language_info": {
      "name": "python"
    }
  },
  "cells": [
    {
      "cell_type": "markdown",
      "metadata": {
        "id": "view-in-github",
        "colab_type": "text"
      },
      "source": [
        "<a href=\"https://colab.research.google.com/github/ImAli0/ML_and_DataScience/blob/main/18-Naive-Bayes-and-NLP/Feature_Extraction_from_Text.ipynb\" target=\"_parent\"><img src=\"https://colab.research.google.com/assets/colab-badge.svg\" alt=\"Open In Colab\"/></a>"
      ]
    },
    {
      "cell_type": "markdown",
      "source": [
        "# Feature Extraction with Scikit-Learn"
      ],
      "metadata": {
        "id": "jid8wYgRpIx7"
      }
    },
    {
      "cell_type": "code",
      "source": [
        "from sklearn.feature_extraction.text import CountVectorizer, TfidfTransformer, TfidfVectorizer\n",
        "from sklearn.pipeline import make_pipeline"
      ],
      "metadata": {
        "id": "UYrd_6qYpuJr"
      },
      "execution_count": 12,
      "outputs": []
    },
    {
      "cell_type": "markdown",
      "source": [
        "## CountVectorizer"
      ],
      "metadata": {
        "id": "EpC9U54wrJFD"
      }
    },
    {
      "cell_type": "code",
      "execution_count": 2,
      "metadata": {
        "colab": {
          "base_uri": "https://localhost:8080/"
        },
        "id": "Sf88zIGMpDoD",
        "outputId": "ad20e356-d8ef-4dc1-c4f4-2252f84a03a9"
      },
      "outputs": [
        {
          "output_type": "execute_result",
          "data": {
            "text/plain": [
              "<3x6 sparse matrix of type '<class 'numpy.int64'>'\n",
              "\twith 10 stored elements in Compressed Sparse Row format>"
            ]
          },
          "metadata": {},
          "execution_count": 2
        }
      ],
      "source": [
        "text = ['This is me', 'This is again me', 'Completely different me']\n",
        "cv = CountVectorizer()\n",
        "cv.fit_transform(text)"
      ]
    },
    {
      "cell_type": "code",
      "source": [
        "sparse_mat = cv.fit_transform(text)\n",
        "sparse_mat.todense()"
      ],
      "metadata": {
        "colab": {
          "base_uri": "https://localhost:8080/"
        },
        "id": "M8-gg7sfqSBk",
        "outputId": "c01a4ce7-0d0a-49db-d48e-8beb5e222d07"
      },
      "execution_count": 4,
      "outputs": [
        {
          "output_type": "execute_result",
          "data": {
            "text/plain": [
              "matrix([[0, 0, 0, 1, 1, 1],\n",
              "        [1, 0, 0, 1, 1, 1],\n",
              "        [0, 1, 1, 0, 1, 0]])"
            ]
          },
          "metadata": {},
          "execution_count": 4
        }
      ]
    },
    {
      "cell_type": "code",
      "source": [
        "cv.vocabulary_"
      ],
      "metadata": {
        "colab": {
          "base_uri": "https://localhost:8080/"
        },
        "id": "gRnHu1Ucqdxe",
        "outputId": "ee1b2a8d-1946-4da8-e583-6572950a3079"
      },
      "execution_count": 5,
      "outputs": [
        {
          "output_type": "execute_result",
          "data": {
            "text/plain": [
              "{'this': 5, 'is': 3, 'me': 4, 'again': 0, 'completely': 1, 'different': 2}"
            ]
          },
          "metadata": {},
          "execution_count": 5
        }
      ]
    },
    {
      "cell_type": "code",
      "source": [
        "cv = CountVectorizer(stop_words='english')\n",
        "cv.fit_transform(text).todense()"
      ],
      "metadata": {
        "colab": {
          "base_uri": "https://localhost:8080/"
        },
        "id": "PT0rcC-cqo6B",
        "outputId": "82810ac1-d885-4158-95a1-95bd90206105"
      },
      "execution_count": 6,
      "outputs": [
        {
          "output_type": "execute_result",
          "data": {
            "text/plain": [
              "matrix([[0, 0],\n",
              "        [0, 0],\n",
              "        [1, 1]])"
            ]
          },
          "metadata": {},
          "execution_count": 6
        }
      ]
    },
    {
      "cell_type": "code",
      "source": [
        "cv.vocabulary_"
      ],
      "metadata": {
        "colab": {
          "base_uri": "https://localhost:8080/"
        },
        "id": "-D6J2Fe5q6H7",
        "outputId": "4ca346d2-af58-4345-cbbd-5a49bc709df2"
      },
      "execution_count": 7,
      "outputs": [
        {
          "output_type": "execute_result",
          "data": {
            "text/plain": [
              "{'completely': 0, 'different': 1}"
            ]
          },
          "metadata": {},
          "execution_count": 7
        }
      ]
    },
    {
      "cell_type": "markdown",
      "source": [
        "## TfidfTransformer"
      ],
      "metadata": {
        "id": "7JUqfcCYrQyg"
      }
    },
    {
      "cell_type": "code",
      "source": [
        "tfidf_transformer = TfidfTransformer()\n",
        "cv = CountVectorizer()\n",
        "counts = cv.fit_transform(text)\n",
        "counts"
      ],
      "metadata": {
        "colab": {
          "base_uri": "https://localhost:8080/"
        },
        "id": "5R6POMxDrDPN",
        "outputId": "f8e85ca8-75c7-413e-c8ce-2e6886fd8202"
      },
      "execution_count": 8,
      "outputs": [
        {
          "output_type": "execute_result",
          "data": {
            "text/plain": [
              "<3x6 sparse matrix of type '<class 'numpy.int64'>'\n",
              "\twith 10 stored elements in Compressed Sparse Row format>"
            ]
          },
          "metadata": {},
          "execution_count": 8
        }
      ]
    },
    {
      "cell_type": "code",
      "source": [
        "tfidf = tfidf_transformer.fit_transform(counts)\n",
        "tfidf"
      ],
      "metadata": {
        "colab": {
          "base_uri": "https://localhost:8080/"
        },
        "id": "-4oUq6-lr0Lk",
        "outputId": "173fb952-50c8-473e-fb7e-26a87513e759"
      },
      "execution_count": 9,
      "outputs": [
        {
          "output_type": "execute_result",
          "data": {
            "text/plain": [
              "<3x6 sparse matrix of type '<class 'numpy.float64'>'\n",
              "\twith 10 stored elements in Compressed Sparse Row format>"
            ]
          },
          "metadata": {},
          "execution_count": 9
        }
      ]
    },
    {
      "cell_type": "code",
      "source": [
        "tfidf.todense()"
      ],
      "metadata": {
        "colab": {
          "base_uri": "https://localhost:8080/"
        },
        "id": "bw6y1P_ssCGW",
        "outputId": "b34b57cb-788f-4825-d451-67ce43625bd8"
      },
      "execution_count": 10,
      "outputs": [
        {
          "output_type": "execute_result",
          "data": {
            "text/plain": [
              "matrix([[0.        , 0.        , 0.        , 0.61980538, 0.48133417,\n",
              "         0.61980538],\n",
              "        [0.63174505, 0.        , 0.        , 0.4804584 , 0.37311881,\n",
              "         0.4804584 ],\n",
              "        [0.        , 0.65249088, 0.65249088, 0.        , 0.38537163,\n",
              "         0.        ]])"
            ]
          },
          "metadata": {},
          "execution_count": 10
        }
      ]
    },
    {
      "cell_type": "code",
      "source": [
        "pipe = make_pipeline(CountVectorizer(), TfidfTransformer())\n",
        "results = pipe.fit_transform(text)\n",
        "results"
      ],
      "metadata": {
        "colab": {
          "base_uri": "https://localhost:8080/"
        },
        "id": "rogiWLeQsEfE",
        "outputId": "044da13d-ad31-42c3-baf7-06da6bf74299"
      },
      "execution_count": 13,
      "outputs": [
        {
          "output_type": "execute_result",
          "data": {
            "text/plain": [
              "<3x6 sparse matrix of type '<class 'numpy.float64'>'\n",
              "\twith 10 stored elements in Compressed Sparse Row format>"
            ]
          },
          "metadata": {},
          "execution_count": 13
        }
      ]
    },
    {
      "cell_type": "code",
      "source": [
        "results.todense()"
      ],
      "metadata": {
        "colab": {
          "base_uri": "https://localhost:8080/"
        },
        "id": "32IY4dyUuMs_",
        "outputId": "8519d651-7410-4538-e212-8989199d4f0f"
      },
      "execution_count": 15,
      "outputs": [
        {
          "output_type": "execute_result",
          "data": {
            "text/plain": [
              "matrix([[0.        , 0.        , 0.        , 0.61980538, 0.48133417,\n",
              "         0.61980538],\n",
              "        [0.63174505, 0.        , 0.        , 0.4804584 , 0.37311881,\n",
              "         0.4804584 ],\n",
              "        [0.        , 0.65249088, 0.65249088, 0.        , 0.38537163,\n",
              "         0.        ]])"
            ]
          },
          "metadata": {},
          "execution_count": 15
        }
      ]
    },
    {
      "cell_type": "markdown",
      "source": [
        "## TfidfVectorizer"
      ],
      "metadata": {
        "id": "o8YjBkIIuVka"
      }
    },
    {
      "cell_type": "code",
      "source": [
        "tfidf = TfidfVectorizer()\n",
        "new = tfidf.fit_transform(text)\n",
        "new.todense()"
      ],
      "metadata": {
        "colab": {
          "base_uri": "https://localhost:8080/"
        },
        "id": "_f3lupHGuROY",
        "outputId": "49d9ac27-ca53-4c24-e4dc-80b4c16bf1de"
      },
      "execution_count": 16,
      "outputs": [
        {
          "output_type": "execute_result",
          "data": {
            "text/plain": [
              "matrix([[0.        , 0.        , 0.        , 0.61980538, 0.48133417,\n",
              "         0.61980538],\n",
              "        [0.63174505, 0.        , 0.        , 0.4804584 , 0.37311881,\n",
              "         0.4804584 ],\n",
              "        [0.        , 0.65249088, 0.65249088, 0.        , 0.38537163,\n",
              "         0.        ]])"
            ]
          },
          "metadata": {},
          "execution_count": 16
        }
      ]
    }
  ]
}