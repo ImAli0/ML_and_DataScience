{
  "nbformat": 4,
  "nbformat_minor": 0,
  "metadata": {
    "colab": {
      "provenance": [],
      "authorship_tag": "ABX9TyMj6c/BUtPDpgGFEci9gtBO",
      "include_colab_link": true
    },
    "kernelspec": {
      "name": "python3",
      "display_name": "Python 3"
    },
    "language_info": {
      "name": "python"
    }
  },
  "cells": [
    {
      "cell_type": "markdown",
      "metadata": {
        "id": "view-in-github",
        "colab_type": "text"
      },
      "source": [
        "<a href=\"https://colab.research.google.com/github/ImAli0/ML_and_DataScience/blob/main/13-Support-Vector-Machines/02_My_SVM_Project_Exercise.ipynb\" target=\"_parent\"><img src=\"https://colab.research.google.com/assets/colab-badge.svg\" alt=\"Open In Colab\"/></a>"
      ]
    },
    {
      "cell_type": "markdown",
      "source": [
        "# Support Vector Machines\n",
        "## Project"
      ],
      "metadata": {
        "id": "Q8bJQzV4bYLI"
      }
    },
    {
      "cell_type": "code",
      "execution_count": 1,
      "metadata": {
        "id": "z7Zj7IFSaT2J"
      },
      "outputs": [],
      "source": [
        "import numpy as np\n",
        "import matplotlib.pyplot as plt\n",
        "import pandas as pd\n",
        "import seaborn as sns\n",
        "from sklearn.model_selection import train_test_split, GridSearchCV\n",
        "from sklearn.preprocessing import StandardScaler\n",
        "from sklearn.metrics import confusion_matrix, accuracy_score, ConfusionMatrixDisplay, classification_report\n",
        "from sklearn.pipeline import make_pipeline\n",
        "from sklearn.svm import SVC"
      ]
    },
    {
      "cell_type": "code",
      "source": [
        "df = pd.read_csv('/content/wine_fraud.csv')\n",
        "df.head()"
      ],
      "metadata": {
        "colab": {
          "base_uri": "https://localhost:8080/",
          "height": 206
        },
        "id": "g4NX1vWSb07k",
        "outputId": "45e5d4ab-e43e-42cb-fda4-ca56c6d97c7d"
      },
      "execution_count": 2,
      "outputs": [
        {
          "output_type": "execute_result",
          "data": {
            "text/plain": [
              "   fixed acidity  volatile acidity  citric acid  residual sugar  chlorides  \\\n",
              "0            7.4              0.70         0.00             1.9      0.076   \n",
              "1            7.8              0.88         0.00             2.6      0.098   \n",
              "2            7.8              0.76         0.04             2.3      0.092   \n",
              "3           11.2              0.28         0.56             1.9      0.075   \n",
              "4            7.4              0.70         0.00             1.9      0.076   \n",
              "\n",
              "   free sulfur dioxide  total sulfur dioxide  density    pH  sulphates  \\\n",
              "0                 11.0                  34.0   0.9978  3.51       0.56   \n",
              "1                 25.0                  67.0   0.9968  3.20       0.68   \n",
              "2                 15.0                  54.0   0.9970  3.26       0.65   \n",
              "3                 17.0                  60.0   0.9980  3.16       0.58   \n",
              "4                 11.0                  34.0   0.9978  3.51       0.56   \n",
              "\n",
              "   alcohol quality type  \n",
              "0      9.4   Legit  red  \n",
              "1      9.8   Legit  red  \n",
              "2      9.8   Legit  red  \n",
              "3      9.8   Legit  red  \n",
              "4      9.4   Legit  red  "
            ],
            "text/html": [
              "\n",
              "  <div id=\"df-1066960a-15e7-4bf1-822c-bb1d0e19be11\" class=\"colab-df-container\">\n",
              "    <div>\n",
              "<style scoped>\n",
              "    .dataframe tbody tr th:only-of-type {\n",
              "        vertical-align: middle;\n",
              "    }\n",
              "\n",
              "    .dataframe tbody tr th {\n",
              "        vertical-align: top;\n",
              "    }\n",
              "\n",
              "    .dataframe thead th {\n",
              "        text-align: right;\n",
              "    }\n",
              "</style>\n",
              "<table border=\"1\" class=\"dataframe\">\n",
              "  <thead>\n",
              "    <tr style=\"text-align: right;\">\n",
              "      <th></th>\n",
              "      <th>fixed acidity</th>\n",
              "      <th>volatile acidity</th>\n",
              "      <th>citric acid</th>\n",
              "      <th>residual sugar</th>\n",
              "      <th>chlorides</th>\n",
              "      <th>free sulfur dioxide</th>\n",
              "      <th>total sulfur dioxide</th>\n",
              "      <th>density</th>\n",
              "      <th>pH</th>\n",
              "      <th>sulphates</th>\n",
              "      <th>alcohol</th>\n",
              "      <th>quality</th>\n",
              "      <th>type</th>\n",
              "    </tr>\n",
              "  </thead>\n",
              "  <tbody>\n",
              "    <tr>\n",
              "      <th>0</th>\n",
              "      <td>7.4</td>\n",
              "      <td>0.70</td>\n",
              "      <td>0.00</td>\n",
              "      <td>1.9</td>\n",
              "      <td>0.076</td>\n",
              "      <td>11.0</td>\n",
              "      <td>34.0</td>\n",
              "      <td>0.9978</td>\n",
              "      <td>3.51</td>\n",
              "      <td>0.56</td>\n",
              "      <td>9.4</td>\n",
              "      <td>Legit</td>\n",
              "      <td>red</td>\n",
              "    </tr>\n",
              "    <tr>\n",
              "      <th>1</th>\n",
              "      <td>7.8</td>\n",
              "      <td>0.88</td>\n",
              "      <td>0.00</td>\n",
              "      <td>2.6</td>\n",
              "      <td>0.098</td>\n",
              "      <td>25.0</td>\n",
              "      <td>67.0</td>\n",
              "      <td>0.9968</td>\n",
              "      <td>3.20</td>\n",
              "      <td>0.68</td>\n",
              "      <td>9.8</td>\n",
              "      <td>Legit</td>\n",
              "      <td>red</td>\n",
              "    </tr>\n",
              "    <tr>\n",
              "      <th>2</th>\n",
              "      <td>7.8</td>\n",
              "      <td>0.76</td>\n",
              "      <td>0.04</td>\n",
              "      <td>2.3</td>\n",
              "      <td>0.092</td>\n",
              "      <td>15.0</td>\n",
              "      <td>54.0</td>\n",
              "      <td>0.9970</td>\n",
              "      <td>3.26</td>\n",
              "      <td>0.65</td>\n",
              "      <td>9.8</td>\n",
              "      <td>Legit</td>\n",
              "      <td>red</td>\n",
              "    </tr>\n",
              "    <tr>\n",
              "      <th>3</th>\n",
              "      <td>11.2</td>\n",
              "      <td>0.28</td>\n",
              "      <td>0.56</td>\n",
              "      <td>1.9</td>\n",
              "      <td>0.075</td>\n",
              "      <td>17.0</td>\n",
              "      <td>60.0</td>\n",
              "      <td>0.9980</td>\n",
              "      <td>3.16</td>\n",
              "      <td>0.58</td>\n",
              "      <td>9.8</td>\n",
              "      <td>Legit</td>\n",
              "      <td>red</td>\n",
              "    </tr>\n",
              "    <tr>\n",
              "      <th>4</th>\n",
              "      <td>7.4</td>\n",
              "      <td>0.70</td>\n",
              "      <td>0.00</td>\n",
              "      <td>1.9</td>\n",
              "      <td>0.076</td>\n",
              "      <td>11.0</td>\n",
              "      <td>34.0</td>\n",
              "      <td>0.9978</td>\n",
              "      <td>3.51</td>\n",
              "      <td>0.56</td>\n",
              "      <td>9.4</td>\n",
              "      <td>Legit</td>\n",
              "      <td>red</td>\n",
              "    </tr>\n",
              "  </tbody>\n",
              "</table>\n",
              "</div>\n",
              "    <div class=\"colab-df-buttons\">\n",
              "\n",
              "  <div class=\"colab-df-container\">\n",
              "    <button class=\"colab-df-convert\" onclick=\"convertToInteractive('df-1066960a-15e7-4bf1-822c-bb1d0e19be11')\"\n",
              "            title=\"Convert this dataframe to an interactive table.\"\n",
              "            style=\"display:none;\">\n",
              "\n",
              "  <svg xmlns=\"http://www.w3.org/2000/svg\" height=\"24px\" viewBox=\"0 -960 960 960\">\n",
              "    <path d=\"M120-120v-720h720v720H120Zm60-500h600v-160H180v160Zm220 220h160v-160H400v160Zm0 220h160v-160H400v160ZM180-400h160v-160H180v160Zm440 0h160v-160H620v160ZM180-180h160v-160H180v160Zm440 0h160v-160H620v160Z\"/>\n",
              "  </svg>\n",
              "    </button>\n",
              "\n",
              "  <style>\n",
              "    .colab-df-container {\n",
              "      display:flex;\n",
              "      gap: 12px;\n",
              "    }\n",
              "\n",
              "    .colab-df-convert {\n",
              "      background-color: #E8F0FE;\n",
              "      border: none;\n",
              "      border-radius: 50%;\n",
              "      cursor: pointer;\n",
              "      display: none;\n",
              "      fill: #1967D2;\n",
              "      height: 32px;\n",
              "      padding: 0 0 0 0;\n",
              "      width: 32px;\n",
              "    }\n",
              "\n",
              "    .colab-df-convert:hover {\n",
              "      background-color: #E2EBFA;\n",
              "      box-shadow: 0px 1px 2px rgba(60, 64, 67, 0.3), 0px 1px 3px 1px rgba(60, 64, 67, 0.15);\n",
              "      fill: #174EA6;\n",
              "    }\n",
              "\n",
              "    .colab-df-buttons div {\n",
              "      margin-bottom: 4px;\n",
              "    }\n",
              "\n",
              "    [theme=dark] .colab-df-convert {\n",
              "      background-color: #3B4455;\n",
              "      fill: #D2E3FC;\n",
              "    }\n",
              "\n",
              "    [theme=dark] .colab-df-convert:hover {\n",
              "      background-color: #434B5C;\n",
              "      box-shadow: 0px 1px 3px 1px rgba(0, 0, 0, 0.15);\n",
              "      filter: drop-shadow(0px 1px 2px rgba(0, 0, 0, 0.3));\n",
              "      fill: #FFFFFF;\n",
              "    }\n",
              "  </style>\n",
              "\n",
              "    <script>\n",
              "      const buttonEl =\n",
              "        document.querySelector('#df-1066960a-15e7-4bf1-822c-bb1d0e19be11 button.colab-df-convert');\n",
              "      buttonEl.style.display =\n",
              "        google.colab.kernel.accessAllowed ? 'block' : 'none';\n",
              "\n",
              "      async function convertToInteractive(key) {\n",
              "        const element = document.querySelector('#df-1066960a-15e7-4bf1-822c-bb1d0e19be11');\n",
              "        const dataTable =\n",
              "          await google.colab.kernel.invokeFunction('convertToInteractive',\n",
              "                                                    [key], {});\n",
              "        if (!dataTable) return;\n",
              "\n",
              "        const docLinkHtml = 'Like what you see? Visit the ' +\n",
              "          '<a target=\"_blank\" href=https://colab.research.google.com/notebooks/data_table.ipynb>data table notebook</a>'\n",
              "          + ' to learn more about interactive tables.';\n",
              "        element.innerHTML = '';\n",
              "        dataTable['output_type'] = 'display_data';\n",
              "        await google.colab.output.renderOutput(dataTable, element);\n",
              "        const docLink = document.createElement('div');\n",
              "        docLink.innerHTML = docLinkHtml;\n",
              "        element.appendChild(docLink);\n",
              "      }\n",
              "    </script>\n",
              "  </div>\n",
              "\n",
              "\n",
              "<div id=\"df-ace0f481-51e7-4491-811a-a9767985dd99\">\n",
              "  <button class=\"colab-df-quickchart\" onclick=\"quickchart('df-ace0f481-51e7-4491-811a-a9767985dd99')\"\n",
              "            title=\"Suggest charts.\"\n",
              "            style=\"display:none;\">\n",
              "\n",
              "<svg xmlns=\"http://www.w3.org/2000/svg\" height=\"24px\"viewBox=\"0 0 24 24\"\n",
              "     width=\"24px\">\n",
              "    <g>\n",
              "        <path d=\"M19 3H5c-1.1 0-2 .9-2 2v14c0 1.1.9 2 2 2h14c1.1 0 2-.9 2-2V5c0-1.1-.9-2-2-2zM9 17H7v-7h2v7zm4 0h-2V7h2v10zm4 0h-2v-4h2v4z\"/>\n",
              "    </g>\n",
              "</svg>\n",
              "  </button>\n",
              "\n",
              "<style>\n",
              "  .colab-df-quickchart {\n",
              "    background-color: #E8F0FE;\n",
              "    border: none;\n",
              "    border-radius: 50%;\n",
              "    cursor: pointer;\n",
              "    display: none;\n",
              "    fill: #1967D2;\n",
              "    height: 32px;\n",
              "    padding: 0 0 0 0;\n",
              "    width: 32px;\n",
              "  }\n",
              "\n",
              "  .colab-df-quickchart:hover {\n",
              "    background-color: #E2EBFA;\n",
              "    box-shadow: 0px 1px 2px rgba(60, 64, 67, 0.3), 0px 1px 3px 1px rgba(60, 64, 67, 0.15);\n",
              "    fill: #174EA6;\n",
              "  }\n",
              "\n",
              "  [theme=dark] .colab-df-quickchart {\n",
              "    background-color: #3B4455;\n",
              "    fill: #D2E3FC;\n",
              "  }\n",
              "\n",
              "  [theme=dark] .colab-df-quickchart:hover {\n",
              "    background-color: #434B5C;\n",
              "    box-shadow: 0px 1px 3px 1px rgba(0, 0, 0, 0.15);\n",
              "    filter: drop-shadow(0px 1px 2px rgba(0, 0, 0, 0.3));\n",
              "    fill: #FFFFFF;\n",
              "  }\n",
              "</style>\n",
              "\n",
              "  <script>\n",
              "    async function quickchart(key) {\n",
              "      const charts = await google.colab.kernel.invokeFunction(\n",
              "          'suggestCharts', [key], {});\n",
              "    }\n",
              "    (() => {\n",
              "      let quickchartButtonEl =\n",
              "        document.querySelector('#df-ace0f481-51e7-4491-811a-a9767985dd99 button');\n",
              "      quickchartButtonEl.style.display =\n",
              "        google.colab.kernel.accessAllowed ? 'block' : 'none';\n",
              "    })();\n",
              "  </script>\n",
              "</div>\n",
              "    </div>\n",
              "  </div>\n"
            ]
          },
          "metadata": {},
          "execution_count": 2
        }
      ]
    },
    {
      "cell_type": "code",
      "source": [
        "df['quality'].unique()"
      ],
      "metadata": {
        "colab": {
          "base_uri": "https://localhost:8080/"
        },
        "id": "qKkk1pjmjWAh",
        "outputId": "7fc070a4-770b-48e8-8b93-ab1e3bec1af8"
      },
      "execution_count": 3,
      "outputs": [
        {
          "output_type": "execute_result",
          "data": {
            "text/plain": [
              "array(['Legit', 'Fraud'], dtype=object)"
            ]
          },
          "metadata": {},
          "execution_count": 3
        }
      ]
    },
    {
      "cell_type": "code",
      "source": [
        "sns.countplot(df, x='quality')"
      ],
      "metadata": {
        "colab": {
          "base_uri": "https://localhost:8080/",
          "height": 466
        },
        "id": "GYVGLZpBjp_i",
        "outputId": "2863ea46-4718-465e-a036-598171de4362"
      },
      "execution_count": 4,
      "outputs": [
        {
          "output_type": "execute_result",
          "data": {
            "text/plain": [
              "<Axes: xlabel='quality', ylabel='count'>"
            ]
          },
          "metadata": {},
          "execution_count": 4
        },
        {
          "output_type": "display_data",
          "data": {
            "text/plain": [
              "<Figure size 640x480 with 1 Axes>"
            ],
            "image/png": "[encoded data removed]"
          },
          "metadata": {}
        }
      ]
    },
    {
      "cell_type": "code",
      "source": [
        "sns.countplot(df, x='type', hue='quality')"
      ],
      "metadata": {
        "colab": {
          "base_uri": "https://localhost:8080/",
          "height": 466
        },
        "id": "BYjhcBw5kW8-",
        "outputId": "8f614700-fdf7-4d08-b112-d77a2f350f35"
      },
      "execution_count": 5,
      "outputs": [
        {
          "output_type": "execute_result",
          "data": {
            "text/plain": [
              "<Axes: xlabel='type', ylabel='count'>"
            ]
          },
          "metadata": {},
          "execution_count": 5
        },
        {
          "output_type": "display_data",
          "data": {
            "text/plain": [
              "<Figure size 640x480 with 1 Axes>"
            ],
            "image/png": "[encoded data removed]"
          },
          "metadata": {}
        }
      ]
    },
    {
      "cell_type": "code",
      "source": [
        "red_percent = df[(df['type']=='red') & (df['quality']=='Fraud')].count()/df[df['type']=='red'].count()*100\n",
        "print('Percentage of fraud in Red Wines:\\n',red_percent['type'])"
      ],
      "metadata": {
        "colab": {
          "base_uri": "https://localhost:8080/"
        },
        "id": "1Ge0bKpwleph",
        "outputId": "82a71c59-3868-450e-b358-c9b097e2c578"
      },
      "execution_count": 6,
      "outputs": [
        {
          "output_type": "stream",
          "name": "stdout",
          "text": [
            "Percentage of fraud in Red Wines:\n",
            " 3.9399624765478425\n"
          ]
        }
      ]
    },
    {
      "cell_type": "code",
      "source": [
        "white_percent = df[(df['type']=='white') & (df['quality']=='Fraud')].count()/df[df['type']=='white'].count()*100\n",
        "print('Percentage of fraud in White Wines:\\n',white_percent['type'])"
      ],
      "metadata": {
        "colab": {
          "base_uri": "https://localhost:8080/"
        },
        "id": "MqnBWyoDo4QH",
        "outputId": "1d6e3b68-a362-4de6-e2e7-9d6263aaf75c"
      },
      "execution_count": 7,
      "outputs": [
        {
          "output_type": "stream",
          "name": "stdout",
          "text": [
            "Percentage of fraud in White Wines:\n",
            " 3.7362188648427925\n"
          ]
        }
      ]
    },
    {
      "cell_type": "code",
      "source": [
        "df['Fraud'] = df['quality'].map({'Legit':0, 'Fraud':1})\n",
        "df.corr()['Fraud']"
      ],
      "metadata": {
        "colab": {
          "base_uri": "https://localhost:8080/"
        },
        "id": "norPrT_zumHX",
        "outputId": "7184f741-8d3d-4d1e-a8bc-ac4e27a44825"
      },
      "execution_count": 8,
      "outputs": [
        {
          "output_type": "stream",
          "name": "stderr",
          "text": [
            "<ipython-input-8-3d145c5c3d93>:2: FutureWarning: The default value of numeric_only in DataFrame.corr is deprecated. In a future version, it will default to False. Select only valid columns or specify the value of numeric_only to silence this warning.\n",
            "  df.corr()['Fraud']\n"
          ]
        },
        {
          "output_type": "execute_result",
          "data": {
            "text/plain": [
              "fixed acidity           0.021794\n",
              "volatile acidity        0.151228\n",
              "citric acid            -0.061789\n",
              "residual sugar         -0.048756\n",
              "chlorides               0.034499\n",
              "free sulfur dioxide    -0.085204\n",
              "total sulfur dioxide   -0.035252\n",
              "density                 0.016351\n",
              "pH                      0.020107\n",
              "sulphates              -0.034046\n",
              "alcohol                -0.051141\n",
              "Fraud                   1.000000\n",
              "Name: Fraud, dtype: float64"
            ]
          },
          "metadata": {},
          "execution_count": 8
        }
      ]
    },
    {
      "cell_type": "code",
      "source": [
        "plt.xticks(rotation=90)\n",
        "coefs = pd.Series(data=df.corr()['Fraud'][:-1])\n",
        "coefs = coefs.sort_values()\n",
        "sns.barplot(x=coefs.index, y=coefs.values)"
      ],
      "metadata": {
        "colab": {
          "base_uri": "https://localhost:8080/",
          "height": 618
        },
        "id": "Xk11XkOZzKnB",
        "outputId": "5076d9d5-1903-43b3-c306-8580c0d8826c"
      },
      "execution_count": 9,
      "outputs": [
        {
          "output_type": "stream",
          "name": "stderr",
          "text": [
            "<ipython-input-9-98f71e3ea260>:2: FutureWarning: The default value of numeric_only in DataFrame.corr is deprecated. In a future version, it will default to False. Select only valid columns or specify the value of numeric_only to silence this warning.\n",
            "  coefs = pd.Series(data=df.corr()['Fraud'][:-1])\n"
          ]
        },
        {
          "output_type": "execute_result",
          "data": {
            "text/plain": [
              "<Axes: >"
            ]
          },
          "metadata": {},
          "execution_count": 9
        },
        {
          "output_type": "display_data",
          "data": {
            "text/plain": [
              "<Figure size 640x480 with 1 Axes>"
            ],
            "image/png": "[encoded data removed]"
          },
          "metadata": {}
        }
      ]
    },
    {
      "cell_type": "code",
      "source": [
        "sns.clustermap(df.corr())"
      ],
      "metadata": {
        "colab": {
          "base_uri": "https://localhost:8080/",
          "height": 1000
        },
        "id": "W3rXsaOJzcsC",
        "outputId": "5ea30cc9-f21f-462a-e68c-998d62899bd1"
      },
      "execution_count": 10,
      "outputs": [
        {
          "output_type": "stream",
          "name": "stderr",
          "text": [
            "<ipython-input-10-b7b834a56c94>:1: FutureWarning: The default value of numeric_only in DataFrame.corr is deprecated. In a future version, it will default to False. Select only valid columns or specify the value of numeric_only to silence this warning.\n",
            "  sns.clustermap(df.corr())\n"
          ]
        },
        {
          "output_type": "execute_result",
          "data": {
            "text/plain": [
              "<seaborn.matrix.ClusterGrid at 0x794efd3a3e50>"
            ]
          },
          "metadata": {},
          "execution_count": 10
        },
        {
          "output_type": "display_data",
          "data": {
            "text/plain": [
              "<Figure size 1000x1000 with 4 Axes>"
            ],
            "image/png": "[encoded data removed]"
          },
          "metadata": {}
        }
      ]
    },
    {
      "cell_type": "code",
      "source": [
        "df['type'] = pd.get_dummies(df['type'], drop_first=True)"
      ],
      "metadata": {
        "id": "ZQAQoZzc8F3n"
      },
      "execution_count": 15,
      "outputs": []
    },
    {
      "cell_type": "code",
      "source": [
        "GridSearchCV,\n",
        "# DATA SPLIT\n",
        "X = df.drop(['quality'], axis=1)\n",
        "y = df['quality']\n",
        "\n",
        "# TRAIN TEST SPLIT\n",
        "X_train, X_test, y_train, y_test = train_test_split(X, y, test_size=0.1, random_state=101)\n",
        "#scaler = StandardScaler()\n",
        "#scaled_X_train = scaler.fit_transform(X_train)\n",
        "#scaled_X_test = scaler.transform(X_test)\n",
        "\n",
        "# PIPELINE\n",
        "pipe = make_pipeline(StandardScaler(), SVC(class_weight='balanced'))\n",
        "param_grid = {'svc__C':[0.001,0.01,0.1,0.5,1], 'svc__kernel':['linear','rbf','poly','sigmoid'],\n",
        "              'svc__gamma':['scale', 'auto']}\n",
        "grid = GridSearchCV(pipe, param_grid, verbose=3, cv=10)\n",
        "grid.fit(X_train, y_train)"
      ],
      "metadata": {
        "id": "l4eoYH0TCKF_",
        "colab": {
          "base_uri": "https://localhost:8080/",
          "height": 1000
        },
        "outputId": "4cac8508-ad03-40d8-f372-835d6270c306"
      },
      "execution_count": 16,
      "outputs": [
        {
          "output_type": "stream",
          "name": "stdout",
          "text": [
            "Fitting 10 folds for each of 40 candidates, totalling 400 fits\n",
            "[CV 1/10] END svc__C=0.001, svc__gamma=scale, svc__kernel=linear;, score=1.000 total time=   0.1s\n",
            "[CV 2/10] END svc__C=0.001, svc__gamma=scale, svc__kernel=linear;, score=1.000 total time=   0.1s\n",
            "[CV 3/10] END svc__C=0.001, svc__gamma=scale, svc__kernel=linear;, score=1.000 total time=   0.1s\n",
            "[CV 4/10] END svc__C=0.001, svc__gamma=scale, svc__kernel=linear;, score=1.000 total time=   0.1s\n",
            "[CV 5/10] END svc__C=0.001, svc__gamma=scale, svc__kernel=linear;, score=1.000 total time=   0.1s\n",
            "[CV 6/10] END svc__C=0.001, svc__gamma=scale, svc__kernel=linear;, score=1.000 total time=   0.1s\n",
            "[CV 7/10] END svc__C=0.001, svc__gamma=scale, svc__kernel=linear;, score=1.000 total time=   0.1s\n",
            "[CV 8/10] END svc__C=0.001, svc__gamma=scale, svc__kernel=linear;, score=1.000 total time=   0.1s\n",
            "[CV 9/10] END svc__C=0.001, svc__gamma=scale, svc__kernel=linear;, score=1.000 total time=   0.1s\n",
            "[CV 10/10] END svc__C=0.001, svc__gamma=scale, svc__kernel=linear;, score=1.000 total time=   0.1s\n",
            "[CV 1/10] END svc__C=0.001, svc__gamma=scale, svc__kernel=rbf;, score=0.988 total time=   2.1s\n",
            "[CV 2/10] END svc__C=0.001, svc__gamma=scale, svc__kernel=rbf;, score=0.985 total time=   2.1s\n",
            "[CV 3/10] END svc__C=0.001, svc__gamma=scale, svc__kernel=rbf;, score=0.990 total time=   2.0s\n",
            "[CV 4/10] END svc__C=0.001, svc__gamma=scale, svc__kernel=rbf;, score=0.991 total time=   2.1s\n",
            "[CV 5/10] END svc__C=0.001, svc__gamma=scale, svc__kernel=rbf;, score=0.993 total time=   2.4s\n",
            "[CV 6/10] END svc__C=0.001, svc__gamma=scale, svc__kernel=rbf;, score=0.995 total time=   3.0s\n",
            "[CV 7/10] END svc__C=0.001, svc__gamma=scale, svc__kernel=rbf;, score=0.988 total time=   2.0s\n",
            "[CV 8/10] END svc__C=0.001, svc__gamma=scale, svc__kernel=rbf;, score=0.997 total time=   2.0s\n",
            "[CV 9/10] END svc__C=0.001, svc__gamma=scale, svc__kernel=rbf;, score=0.995 total time=   2.0s\n",
            "[CV 10/10] END svc__C=0.001, svc__gamma=scale, svc__kernel=rbf;, score=0.991 total time=   2.1s\n",
            "[CV 1/10] END svc__C=0.001, svc__gamma=scale, svc__kernel=poly;, score=1.000 total time=   0.2s\n",
            "[CV 2/10] END svc__C=0.001, svc__gamma=scale, svc__kernel=poly;, score=1.000 total time=   0.2s\n",
            "[CV 3/10] END svc__C=0.001, svc__gamma=scale, svc__kernel=poly;, score=1.000 total time=   0.2s\n",
            "[CV 4/10] END svc__C=0.001, svc__gamma=scale, svc__kernel=poly;, score=1.000 total time=   0.2s\n",
            "[CV 5/10] END svc__C=0.001, svc__gamma=scale, svc__kernel=poly;, score=1.000 total time=   0.2s\n",
            "[CV 6/10] END svc__C=0.001, svc__gamma=scale, svc__kernel=poly;, score=1.000 total time=   0.2s\n",
            "[CV 7/10] END svc__C=0.001, svc__gamma=scale, svc__kernel=poly;, score=1.000 total time=   0.2s\n",
            "[CV 8/10] END svc__C=0.001, svc__gamma=scale, svc__kernel=poly;, score=1.000 total time=   0.3s\n",
            "[CV 9/10] END svc__C=0.001, svc__gamma=scale, svc__kernel=poly;, score=1.000 total time=   0.3s\n",
            "[CV 10/10] END svc__C=0.001, svc__gamma=scale, svc__kernel=poly;, score=1.000 total time=   0.3s\n",
            "[CV 1/10] END svc__C=0.001, svc__gamma=scale, svc__kernel=sigmoid;, score=1.000 total time=   2.7s\n",
            "[CV 2/10] END svc__C=0.001, svc__gamma=scale, svc__kernel=sigmoid;, score=1.000 total time=   1.9s\n",
            "[CV 3/10] END svc__C=0.001, svc__gamma=scale, svc__kernel=sigmoid;, score=1.000 total time=   1.9s\n",
            "[CV 4/10] END svc__C=0.001, svc__gamma=scale, svc__kernel=sigmoid;, score=1.000 total time=   2.0s\n",
            "[CV 5/10] END svc__C=0.001, svc__gamma=scale, svc__kernel=sigmoid;, score=1.000 total time=   2.0s\n",
            "[CV 6/10] END svc__C=0.001, svc__gamma=scale, svc__kernel=sigmoid;, score=1.000 total time=   2.3s\n",
            "[CV 7/10] END svc__C=0.001, svc__gamma=scale, svc__kernel=sigmoid;, score=1.000 total time=   2.6s\n",
            "[CV 8/10] END svc__C=0.001, svc__gamma=scale, svc__kernel=sigmoid;, score=1.000 total time=   1.9s\n",
            "[CV 9/10] END svc__C=0.001, svc__gamma=scale, svc__kernel=sigmoid;, score=1.000 total time=   2.0s\n",
            "[CV 10/10] END svc__C=0.001, svc__gamma=scale, svc__kernel=sigmoid;, score=1.000 total time=   1.9s\n",
            "[CV 1/10] END svc__C=0.001, svc__gamma=auto, svc__kernel=linear;, score=1.000 total time=   0.1s\n",
            "[CV 2/10] END svc__C=0.001, svc__gamma=auto, svc__kernel=linear;, score=1.000 total time=   0.1s\n",
            "[CV 3/10] END svc__C=0.001, svc__gamma=auto, svc__kernel=linear;, score=1.000 total time=   0.1s\n",
            "[CV 4/10] END svc__C=0.001, svc__gamma=auto, svc__kernel=linear;, score=1.000 total time=   0.1s\n",
            "[CV 5/10] END svc__C=0.001, svc__gamma=auto, svc__kernel=linear;, score=1.000 total time=   0.1s\n",
            "[CV 6/10] END svc__C=0.001, svc__gamma=auto, svc__kernel=linear;, score=1.000 total time=   0.1s\n",
            "[CV 7/10] END svc__C=0.001, svc__gamma=auto, svc__kernel=linear;, score=1.000 total time=   0.1s\n",
            "[CV 8/10] END svc__C=0.001, svc__gamma=auto, svc__kernel=linear;, score=1.000 total time=   0.1s\n",
            "[CV 9/10] END svc__C=0.001, svc__gamma=auto, svc__kernel=linear;, score=1.000 total time=   0.1s\n",
            "[CV 10/10] END svc__C=0.001, svc__gamma=auto, svc__kernel=linear;, score=1.000 total time=   0.1s\n",
            "[CV 1/10] END svc__C=0.001, svc__gamma=auto, svc__kernel=rbf;, score=0.988 total time=   2.1s\n",
            "[CV 2/10] END svc__C=0.001, svc__gamma=auto, svc__kernel=rbf;, score=0.985 total time=   2.9s\n",
            "[CV 3/10] END svc__C=0.001, svc__gamma=auto, svc__kernel=rbf;, score=0.990 total time=   2.4s\n",
            "[CV 4/10] END svc__C=0.001, svc__gamma=auto, svc__kernel=rbf;, score=0.991 total time=   2.6s\n",
            "[CV 5/10] END svc__C=0.001, svc__gamma=auto, svc__kernel=rbf;, score=0.993 total time=   2.0s\n",
            "[CV 6/10] END svc__C=0.001, svc__gamma=auto, svc__kernel=rbf;, score=0.995 total time=   2.0s\n",
            "[CV 7/10] END svc__C=0.001, svc__gamma=auto, svc__kernel=rbf;, score=0.988 total time=   2.4s\n",
            "[CV 8/10] END svc__C=0.001, svc__gamma=auto, svc__kernel=rbf;, score=0.997 total time=   3.0s\n",
            "[CV 9/10] END svc__C=0.001, svc__gamma=auto, svc__kernel=rbf;, score=0.995 total time=   2.0s\n",
            "[CV 10/10] END svc__C=0.001, svc__gamma=auto, svc__kernel=rbf;, score=0.991 total time=   2.0s\n",
            "[CV 1/10] END svc__C=0.001, svc__gamma=auto, svc__kernel=poly;, score=1.000 total time=   0.2s\n",
            "[CV 2/10] END svc__C=0.001, svc__gamma=auto, svc__kernel=poly;, score=1.000 total time=   0.2s\n",
            "[CV 3/10] END svc__C=0.001, svc__gamma=auto, svc__kernel=poly;, score=1.000 total time=   0.2s\n",
            "[CV 4/10] END svc__C=0.001, svc__gamma=auto, svc__kernel=poly;, score=1.000 total time=   0.2s\n",
            "[CV 5/10] END svc__C=0.001, svc__gamma=auto, svc__kernel=poly;, score=1.000 total time=   0.2s\n",
            "[CV 6/10] END svc__C=0.001, svc__gamma=auto, svc__kernel=poly;, score=1.000 total time=   0.2s\n",
            "[CV 7/10] END svc__C=0.001, svc__gamma=auto, svc__kernel=poly;, score=1.000 total time=   0.2s\n",
            "[CV 8/10] END svc__C=0.001, svc__gamma=auto, svc__kernel=poly;, score=1.000 total time=   0.2s\n",
            "[CV 9/10] END svc__C=0.001, svc__gamma=auto, svc__kernel=poly;, score=1.000 total time=   0.2s\n",
            "[CV 10/10] END svc__C=0.001, svc__gamma=auto, svc__kernel=poly;, score=1.000 total time=   0.2s\n",
            "[CV 1/10] END svc__C=0.001, svc__gamma=auto, svc__kernel=sigmoid;, score=1.000 total time=   2.1s\n",
            "[CV 2/10] END svc__C=0.001, svc__gamma=auto, svc__kernel=sigmoid;, score=1.000 total time=   2.2s\n",
            "[CV 3/10] END svc__C=0.001, svc__gamma=auto, svc__kernel=sigmoid;, score=1.000 total time=   2.6s\n",
            "[CV 4/10] END svc__C=0.001, svc__gamma=auto, svc__kernel=sigmoid;, score=1.000 total time=   2.0s\n",
            "[CV 5/10] END svc__C=0.001, svc__gamma=auto, svc__kernel=sigmoid;, score=1.000 total time=   2.0s\n",
            "[CV 6/10] END svc__C=0.001, svc__gamma=auto, svc__kernel=sigmoid;, score=1.000 total time=   2.0s\n",
            "[CV 7/10] END svc__C=0.001, svc__gamma=auto, svc__kernel=sigmoid;, score=1.000 total time=   2.0s\n",
            "[CV 8/10] END svc__C=0.001, svc__gamma=auto, svc__kernel=sigmoid;, score=1.000 total time=   2.3s\n",
            "[CV 9/10] END svc__C=0.001, svc__gamma=auto, svc__kernel=sigmoid;, score=1.000 total time=   2.7s\n",
            "[CV 10/10] END svc__C=0.001, svc__gamma=auto, svc__kernel=sigmoid;, score=1.000 total time=   1.9s\n",
            "[CV 1/10] END svc__C=0.01, svc__gamma=scale, svc__kernel=linear;, score=1.000 total time=   0.0s\n",
            "[CV 2/10] END svc__C=0.01, svc__gamma=scale, svc__kernel=linear;, score=1.000 total time=   0.0s\n",
            "[CV 3/10] END svc__C=0.01, svc__gamma=scale, svc__kernel=linear;, score=1.000 total time=   0.0s\n",
            "[CV 4/10] END svc__C=0.01, svc__gamma=scale, svc__kernel=linear;, score=1.000 total time=   0.0s\n",
            "[CV 5/10] END svc__C=0.01, svc__gamma=scale, svc__kernel=linear;, score=1.000 total time=   0.0s\n",
            "[CV 6/10] END svc__C=0.01, svc__gamma=scale, svc__kernel=linear;, score=1.000 total time=   0.0s\n",
            "[CV 7/10] END svc__C=0.01, svc__gamma=scale, svc__kernel=linear;, score=1.000 total time=   0.0s\n",
            "[CV 8/10] END svc__C=0.01, svc__gamma=scale, svc__kernel=linear;, score=1.000 total time=   0.0s\n",
            "[CV 9/10] END svc__C=0.01, svc__gamma=scale, svc__kernel=linear;, score=1.000 total time=   0.0s\n",
            "[CV 10/10] END svc__C=0.01, svc__gamma=scale, svc__kernel=linear;, score=1.000 total time=   0.0s\n",
            "[CV 1/10] END svc__C=0.01, svc__gamma=scale, svc__kernel=rbf;, score=0.991 total time=   0.6s\n",
            "[CV 2/10] END svc__C=0.01, svc__gamma=scale, svc__kernel=rbf;, score=0.993 total time=   0.6s\n",
            "[CV 3/10] END svc__C=0.01, svc__gamma=scale, svc__kernel=rbf;, score=0.997 total time=   0.6s\n",
            "[CV 4/10] END svc__C=0.01, svc__gamma=scale, svc__kernel=rbf;, score=0.995 total time=   0.6s\n",
            "[CV 5/10] END svc__C=0.01, svc__gamma=scale, svc__kernel=rbf;, score=0.995 total time=   0.6s\n",
            "[CV 6/10] END svc__C=0.01, svc__gamma=scale, svc__kernel=rbf;, score=0.995 total time=   0.6s\n",
            "[CV 7/10] END svc__C=0.01, svc__gamma=scale, svc__kernel=rbf;, score=0.991 total time=   0.6s\n",
            "[CV 8/10] END svc__C=0.01, svc__gamma=scale, svc__kernel=rbf;, score=0.997 total time=   0.6s\n",
            "[CV 9/10] END svc__C=0.01, svc__gamma=scale, svc__kernel=rbf;, score=0.997 total time=   0.6s\n",
            "[CV 10/10] END svc__C=0.01, svc__gamma=scale, svc__kernel=rbf;, score=0.993 total time=   0.7s\n",
            "[CV 1/10] END svc__C=0.01, svc__gamma=scale, svc__kernel=poly;, score=1.000 total time=   0.1s\n",
            "[CV 2/10] END svc__C=0.01, svc__gamma=scale, svc__kernel=poly;, score=1.000 total time=   0.1s\n",
            "[CV 3/10] END svc__C=0.01, svc__gamma=scale, svc__kernel=poly;, score=1.000 total time=   0.1s\n",
            "[CV 4/10] END svc__C=0.01, svc__gamma=scale, svc__kernel=poly;, score=1.000 total time=   0.1s\n",
            "[CV 5/10] END svc__C=0.01, svc__gamma=scale, svc__kernel=poly;, score=1.000 total time=   0.1s\n",
            "[CV 6/10] END svc__C=0.01, svc__gamma=scale, svc__kernel=poly;, score=1.000 total time=   0.1s\n",
            "[CV 7/10] END svc__C=0.01, svc__gamma=scale, svc__kernel=poly;, score=1.000 total time=   0.1s\n",
            "[CV 8/10] END svc__C=0.01, svc__gamma=scale, svc__kernel=poly;, score=1.000 total time=   0.1s\n",
            "[CV 9/10] END svc__C=0.01, svc__gamma=scale, svc__kernel=poly;, score=1.000 total time=   0.1s\n",
            "[CV 10/10] END svc__C=0.01, svc__gamma=scale, svc__kernel=poly;, score=1.000 total time=   0.1s\n",
            "[CV 1/10] END svc__C=0.01, svc__gamma=scale, svc__kernel=sigmoid;, score=1.000 total time=   0.6s\n",
            "[CV 2/10] END svc__C=0.01, svc__gamma=scale, svc__kernel=sigmoid;, score=0.995 total time=   0.8s\n",
            "[CV 3/10] END svc__C=0.01, svc__gamma=scale, svc__kernel=sigmoid;, score=1.000 total time=   0.8s\n",
            "[CV 4/10] END svc__C=0.01, svc__gamma=scale, svc__kernel=sigmoid;, score=0.997 total time=   0.8s\n",
            "[CV 5/10] END svc__C=0.01, svc__gamma=scale, svc__kernel=sigmoid;, score=1.000 total time=   0.7s\n",
            "[CV 6/10] END svc__C=0.01, svc__gamma=scale, svc__kernel=sigmoid;, score=0.998 total time=   0.5s\n",
            "[CV 7/10] END svc__C=0.01, svc__gamma=scale, svc__kernel=sigmoid;, score=1.000 total time=   0.5s\n",
            "[CV 8/10] END svc__C=0.01, svc__gamma=scale, svc__kernel=sigmoid;, score=1.000 total time=   0.6s\n",
            "[CV 9/10] END svc__C=0.01, svc__gamma=scale, svc__kernel=sigmoid;, score=0.998 total time=   0.5s\n",
            "[CV 10/10] END svc__C=0.01, svc__gamma=scale, svc__kernel=sigmoid;, score=1.000 total time=   0.4s\n",
            "[CV 1/10] END svc__C=0.01, svc__gamma=auto, svc__kernel=linear;, score=1.000 total time=   0.0s\n",
            "[CV 2/10] END svc__C=0.01, svc__gamma=auto, svc__kernel=linear;, score=1.000 total time=   0.0s\n",
            "[CV 3/10] END svc__C=0.01, svc__gamma=auto, svc__kernel=linear;, score=1.000 total time=   0.0s\n",
            "[CV 4/10] END svc__C=0.01, svc__gamma=auto, svc__kernel=linear;, score=1.000 total time=   0.0s\n",
            "[CV 5/10] END svc__C=0.01, svc__gamma=auto, svc__kernel=linear;, score=1.000 total time=   0.0s\n",
            "[CV 6/10] END svc__C=0.01, svc__gamma=auto, svc__kernel=linear;, score=1.000 total time=   0.0s\n",
            "[CV 7/10] END svc__C=0.01, svc__gamma=auto, svc__kernel=linear;, score=1.000 total time=   0.0s\n",
            "[CV 8/10] END svc__C=0.01, svc__gamma=auto, svc__kernel=linear;, score=1.000 total time=   0.0s\n",
            "[CV 9/10] END svc__C=0.01, svc__gamma=auto, svc__kernel=linear;, score=1.000 total time=   0.0s\n",
            "[CV 10/10] END svc__C=0.01, svc__gamma=auto, svc__kernel=linear;, score=1.000 total time=   0.0s\n",
            "[CV 1/10] END svc__C=0.01, svc__gamma=auto, svc__kernel=rbf;, score=0.991 total time=   0.6s\n",
            "[CV 2/10] END svc__C=0.01, svc__gamma=auto, svc__kernel=rbf;, score=0.993 total time=   0.6s\n",
            "[CV 3/10] END svc__C=0.01, svc__gamma=auto, svc__kernel=rbf;, score=0.997 total time=   0.6s\n",
            "[CV 4/10] END svc__C=0.01, svc__gamma=auto, svc__kernel=rbf;, score=0.995 total time=   0.6s\n",
            "[CV 5/10] END svc__C=0.01, svc__gamma=auto, svc__kernel=rbf;, score=0.995 total time=   0.6s\n",
            "[CV 6/10] END svc__C=0.01, svc__gamma=auto, svc__kernel=rbf;, score=0.995 total time=   0.6s\n",
            "[CV 7/10] END svc__C=0.01, svc__gamma=auto, svc__kernel=rbf;, score=0.991 total time=   0.6s\n",
            "[CV 8/10] END svc__C=0.01, svc__gamma=auto, svc__kernel=rbf;, score=0.997 total time=   0.6s\n",
            "[CV 9/10] END svc__C=0.01, svc__gamma=auto, svc__kernel=rbf;, score=0.997 total time=   0.6s\n",
            "[CV 10/10] END svc__C=0.01, svc__gamma=auto, svc__kernel=rbf;, score=0.993 total time=   0.6s\n",
            "[CV 1/10] END svc__C=0.01, svc__gamma=auto, svc__kernel=poly;, score=1.000 total time=   0.1s\n",
            "[CV 2/10] END svc__C=0.01, svc__gamma=auto, svc__kernel=poly;, score=1.000 total time=   0.1s\n",
            "[CV 3/10] END svc__C=0.01, svc__gamma=auto, svc__kernel=poly;, score=1.000 total time=   0.1s\n",
            "[CV 4/10] END svc__C=0.01, svc__gamma=auto, svc__kernel=poly;, score=1.000 total time=   0.1s\n",
            "[CV 5/10] END svc__C=0.01, svc__gamma=auto, svc__kernel=poly;, score=1.000 total time=   0.1s\n",
            "[CV 6/10] END svc__C=0.01, svc__gamma=auto, svc__kernel=poly;, score=1.000 total time=   0.1s\n",
            "[CV 7/10] END svc__C=0.01, svc__gamma=auto, svc__kernel=poly;, score=1.000 total time=   0.1s\n",
            "[CV 8/10] END svc__C=0.01, svc__gamma=auto, svc__kernel=poly;, score=1.000 total time=   0.1s\n",
            "[CV 9/10] END svc__C=0.01, svc__gamma=auto, svc__kernel=poly;, score=1.000 total time=   0.1s\n",
            "[CV 10/10] END svc__C=0.01, svc__gamma=auto, svc__kernel=poly;, score=1.000 total time=   0.0s\n",
            "[CV 1/10] END svc__C=0.01, svc__gamma=auto, svc__kernel=sigmoid;, score=1.000 total time=   0.6s\n",
            "[CV 2/10] END svc__C=0.01, svc__gamma=auto, svc__kernel=sigmoid;, score=0.995 total time=   0.8s\n",
            "[CV 3/10] END svc__C=0.01, svc__gamma=auto, svc__kernel=sigmoid;, score=1.000 total time=   0.8s\n",
            "[CV 4/10] END svc__C=0.01, svc__gamma=auto, svc__kernel=sigmoid;, score=0.997 total time=   0.8s\n",
            "[CV 5/10] END svc__C=0.01, svc__gamma=auto, svc__kernel=sigmoid;, score=1.000 total time=   0.6s\n",
            "[CV 6/10] END svc__C=0.01, svc__gamma=auto, svc__kernel=sigmoid;, score=0.998 total time=   0.5s\n",
            "[CV 7/10] END svc__C=0.01, svc__gamma=auto, svc__kernel=sigmoid;, score=1.000 total time=   0.6s\n",
            "[CV 8/10] END svc__C=0.01, svc__gamma=auto, svc__kernel=sigmoid;, score=1.000 total time=   0.5s\n",
            "[CV 9/10] END svc__C=0.01, svc__gamma=auto, svc__kernel=sigmoid;, score=0.998 total time=   0.5s\n",
            "[CV 10/10] END svc__C=0.01, svc__gamma=auto, svc__kernel=sigmoid;, score=1.000 total time=   0.4s\n",
            "[CV 1/10] END svc__C=0.1, svc__gamma=scale, svc__kernel=linear;, score=1.000 total time=   0.0s\n",
            "[CV 2/10] END svc__C=0.1, svc__gamma=scale, svc__kernel=linear;, score=1.000 total time=   0.0s\n",
            "[CV 3/10] END svc__C=0.1, svc__gamma=scale, svc__kernel=linear;, score=1.000 total time=   0.0s\n",
            "[CV 4/10] END svc__C=0.1, svc__gamma=scale, svc__kernel=linear;, score=1.000 total time=   0.0s\n",
            "[CV 5/10] END svc__C=0.1, svc__gamma=scale, svc__kernel=linear;, score=1.000 total time=   0.0s\n",
            "[CV 6/10] END svc__C=0.1, svc__gamma=scale, svc__kernel=linear;, score=1.000 total time=   0.0s\n",
            "[CV 7/10] END svc__C=0.1, svc__gamma=scale, svc__kernel=linear;, score=1.000 total time=   0.0s\n",
            "[CV 8/10] END svc__C=0.1, svc__gamma=scale, svc__kernel=linear;, score=1.000 total time=   0.0s\n",
            "[CV 9/10] END svc__C=0.1, svc__gamma=scale, svc__kernel=linear;, score=1.000 total time=   0.0s\n",
            "[CV 10/10] END svc__C=0.1, svc__gamma=scale, svc__kernel=linear;, score=1.000 total time=   0.0s\n",
            "[CV 1/10] END svc__C=0.1, svc__gamma=scale, svc__kernel=rbf;, score=1.000 total time=   0.1s\n",
            "[CV 2/10] END svc__C=0.1, svc__gamma=scale, svc__kernel=rbf;, score=1.000 total time=   0.2s\n",
            "[CV 3/10] END svc__C=0.1, svc__gamma=scale, svc__kernel=rbf;, score=1.000 total time=   0.2s\n",
            "[CV 4/10] END svc__C=0.1, svc__gamma=scale, svc__kernel=rbf;, score=0.998 total time=   0.1s\n",
            "[CV 5/10] END svc__C=0.1, svc__gamma=scale, svc__kernel=rbf;, score=1.000 total time=   0.2s\n",
            "[CV 6/10] END svc__C=0.1, svc__gamma=scale, svc__kernel=rbf;, score=0.998 total time=   0.1s\n",
            "[CV 7/10] END svc__C=0.1, svc__gamma=scale, svc__kernel=rbf;, score=1.000 total time=   0.2s\n",
            "[CV 8/10] END svc__C=0.1, svc__gamma=scale, svc__kernel=rbf;, score=0.998 total time=   0.1s\n",
            "[CV 9/10] END svc__C=0.1, svc__gamma=scale, svc__kernel=rbf;, score=1.000 total time=   0.2s\n",
            "[CV 10/10] END svc__C=0.1, svc__gamma=scale, svc__kernel=rbf;, score=1.000 total time=   0.2s\n",
            "[CV 1/10] END svc__C=0.1, svc__gamma=scale, svc__kernel=poly;, score=1.000 total time=   0.1s\n",
            "[CV 2/10] END svc__C=0.1, svc__gamma=scale, svc__kernel=poly;, score=1.000 total time=   0.0s\n",
            "[CV 3/10] END svc__C=0.1, svc__gamma=scale, svc__kernel=poly;, score=1.000 total time=   0.0s\n",
            "[CV 4/10] END svc__C=0.1, svc__gamma=scale, svc__kernel=poly;, score=1.000 total time=   0.0s\n",
            "[CV 5/10] END svc__C=0.1, svc__gamma=scale, svc__kernel=poly;, score=1.000 total time=   0.1s\n",
            "[CV 6/10] END svc__C=0.1, svc__gamma=scale, svc__kernel=poly;, score=1.000 total time=   0.1s\n",
            "[CV 7/10] END svc__C=0.1, svc__gamma=scale, svc__kernel=poly;, score=1.000 total time=   0.0s\n",
            "[CV 8/10] END svc__C=0.1, svc__gamma=scale, svc__kernel=poly;, score=1.000 total time=   0.0s\n",
            "[CV 9/10] END svc__C=0.1, svc__gamma=scale, svc__kernel=poly;, score=1.000 total time=   0.1s\n",
            "[CV 10/10] END svc__C=0.1, svc__gamma=scale, svc__kernel=poly;, score=1.000 total time=   0.1s\n",
            "[CV 1/10] END svc__C=0.1, svc__gamma=scale, svc__kernel=sigmoid;, score=0.988 total time=   0.3s\n",
            "[CV 2/10] END svc__C=0.1, svc__gamma=scale, svc__kernel=sigmoid;, score=0.988 total time=   0.3s\n",
            "[CV 3/10] END svc__C=0.1, svc__gamma=scale, svc__kernel=sigmoid;, score=0.986 total time=   0.3s\n",
            "[CV 4/10] END svc__C=0.1, svc__gamma=scale, svc__kernel=sigmoid;, score=0.979 total time=   0.3s\n",
            "[CV 5/10] END svc__C=0.1, svc__gamma=scale, svc__kernel=sigmoid;, score=0.997 total time=   0.3s\n",
            "[CV 6/10] END svc__C=0.1, svc__gamma=scale, svc__kernel=sigmoid;, score=0.986 total time=   0.3s\n",
            "[CV 7/10] END svc__C=0.1, svc__gamma=scale, svc__kernel=sigmoid;, score=0.990 total time=   0.3s\n",
            "[CV 8/10] END svc__C=0.1, svc__gamma=scale, svc__kernel=sigmoid;, score=0.983 total time=   0.3s\n",
            "[CV 9/10] END svc__C=0.1, svc__gamma=scale, svc__kernel=sigmoid;, score=0.991 total time=   0.3s\n",
            "[CV 10/10] END svc__C=0.1, svc__gamma=scale, svc__kernel=sigmoid;, score=0.998 total time=   0.1s\n",
            "[CV 1/10] END svc__C=0.1, svc__gamma=auto, svc__kernel=linear;, score=1.000 total time=   0.0s\n",
            "[CV 2/10] END svc__C=0.1, svc__gamma=auto, svc__kernel=linear;, score=1.000 total time=   0.0s\n",
            "[CV 3/10] END svc__C=0.1, svc__gamma=auto, svc__kernel=linear;, score=1.000 total time=   0.0s\n",
            "[CV 4/10] END svc__C=0.1, svc__gamma=auto, svc__kernel=linear;, score=1.000 total time=   0.0s\n",
            "[CV 5/10] END svc__C=0.1, svc__gamma=auto, svc__kernel=linear;, score=1.000 total time=   0.0s\n",
            "[CV 6/10] END svc__C=0.1, svc__gamma=auto, svc__kernel=linear;, score=1.000 total time=   0.0s\n",
            "[CV 7/10] END svc__C=0.1, svc__gamma=auto, svc__kernel=linear;, score=1.000 total time=   0.0s\n",
            "[CV 8/10] END svc__C=0.1, svc__gamma=auto, svc__kernel=linear;, score=1.000 total time=   0.0s\n",
            "[CV 9/10] END svc__C=0.1, svc__gamma=auto, svc__kernel=linear;, score=1.000 total time=   0.0s\n",
            "[CV 10/10] END svc__C=0.1, svc__gamma=auto, svc__kernel=linear;, score=1.000 total time=   0.0s\n",
            "[CV 1/10] END svc__C=0.1, svc__gamma=auto, svc__kernel=rbf;, score=1.000 total time=   0.2s\n",
            "[CV 2/10] END svc__C=0.1, svc__gamma=auto, svc__kernel=rbf;, score=1.000 total time=   0.1s\n",
            "[CV 3/10] END svc__C=0.1, svc__gamma=auto, svc__kernel=rbf;, score=1.000 total time=   0.2s\n",
            "[CV 4/10] END svc__C=0.1, svc__gamma=auto, svc__kernel=rbf;, score=0.998 total time=   0.1s\n",
            "[CV 5/10] END svc__C=0.1, svc__gamma=auto, svc__kernel=rbf;, score=1.000 total time=   0.1s\n",
            "[CV 6/10] END svc__C=0.1, svc__gamma=auto, svc__kernel=rbf;, score=0.998 total time=   0.1s\n",
            "[CV 7/10] END svc__C=0.1, svc__gamma=auto, svc__kernel=rbf;, score=1.000 total time=   0.2s\n",
            "[CV 8/10] END svc__C=0.1, svc__gamma=auto, svc__kernel=rbf;, score=0.998 total time=   0.2s\n",
            "[CV 9/10] END svc__C=0.1, svc__gamma=auto, svc__kernel=rbf;, score=1.000 total time=   0.1s\n",
            "[CV 10/10] END svc__C=0.1, svc__gamma=auto, svc__kernel=rbf;, score=1.000 total time=   0.1s\n",
            "[CV 1/10] END svc__C=0.1, svc__gamma=auto, svc__kernel=poly;, score=1.000 total time=   0.0s\n",
            "[CV 2/10] END svc__C=0.1, svc__gamma=auto, svc__kernel=poly;, score=1.000 total time=   0.1s\n",
            "[CV 3/10] END svc__C=0.1, svc__gamma=auto, svc__kernel=poly;, score=1.000 total time=   0.1s\n",
            "[CV 4/10] END svc__C=0.1, svc__gamma=auto, svc__kernel=poly;, score=1.000 total time=   0.1s\n",
            "[CV 5/10] END svc__C=0.1, svc__gamma=auto, svc__kernel=poly;, score=1.000 total time=   0.1s\n",
            "[CV 6/10] END svc__C=0.1, svc__gamma=auto, svc__kernel=poly;, score=1.000 total time=   0.1s\n",
            "[CV 7/10] END svc__C=0.1, svc__gamma=auto, svc__kernel=poly;, score=1.000 total time=   0.1s\n",
            "[CV 8/10] END svc__C=0.1, svc__gamma=auto, svc__kernel=poly;, score=1.000 total time=   0.1s\n",
            "[CV 9/10] END svc__C=0.1, svc__gamma=auto, svc__kernel=poly;, score=1.000 total time=   0.1s\n",
            "[CV 10/10] END svc__C=0.1, svc__gamma=auto, svc__kernel=poly;, score=1.000 total time=   0.1s\n",
            "[CV 1/10] END svc__C=0.1, svc__gamma=auto, svc__kernel=sigmoid;, score=0.988 total time=   0.5s\n",
            "[CV 2/10] END svc__C=0.1, svc__gamma=auto, svc__kernel=sigmoid;, score=0.988 total time=   0.4s\n",
            "[CV 3/10] END svc__C=0.1, svc__gamma=auto, svc__kernel=sigmoid;, score=0.986 total time=   0.4s\n",
            "[CV 4/10] END svc__C=0.1, svc__gamma=auto, svc__kernel=sigmoid;, score=0.979 total time=   0.5s\n",
            "[CV 5/10] END svc__C=0.1, svc__gamma=auto, svc__kernel=sigmoid;, score=0.997 total time=   0.4s\n",
            "[CV 6/10] END svc__C=0.1, svc__gamma=auto, svc__kernel=sigmoid;, score=0.986 total time=   0.3s\n",
            "[CV 7/10] END svc__C=0.1, svc__gamma=auto, svc__kernel=sigmoid;, score=0.990 total time=   0.5s\n",
            "[CV 8/10] END svc__C=0.1, svc__gamma=auto, svc__kernel=sigmoid;, score=0.983 total time=   0.5s\n",
            "[CV 9/10] END svc__C=0.1, svc__gamma=auto, svc__kernel=sigmoid;, score=0.991 total time=   0.5s\n",
            "[CV 10/10] END svc__C=0.1, svc__gamma=auto, svc__kernel=sigmoid;, score=0.998 total time=   0.1s\n",
            "[CV 1/10] END svc__C=0.5, svc__gamma=scale, svc__kernel=linear;, score=1.000 total time=   0.0s\n",
            "[CV 2/10] END svc__C=0.5, svc__gamma=scale, svc__kernel=linear;, score=1.000 total time=   0.1s\n",
            "[CV 3/10] END svc__C=0.5, svc__gamma=scale, svc__kernel=linear;, score=1.000 total time=   0.0s\n",
            "[CV 4/10] END svc__C=0.5, svc__gamma=scale, svc__kernel=linear;, score=1.000 total time=   0.0s\n",
            "[CV 5/10] END svc__C=0.5, svc__gamma=scale, svc__kernel=linear;, score=1.000 total time=   0.0s\n",
            "[CV 6/10] END svc__C=0.5, svc__gamma=scale, svc__kernel=linear;, score=1.000 total time=   0.0s\n",
            "[CV 7/10] END svc__C=0.5, svc__gamma=scale, svc__kernel=linear;, score=1.000 total time=   0.1s\n",
            "[CV 8/10] END svc__C=0.5, svc__gamma=scale, svc__kernel=linear;, score=1.000 total time=   0.0s\n",
            "[CV 9/10] END svc__C=0.5, svc__gamma=scale, svc__kernel=linear;, score=1.000 total time=   0.0s\n",
            "[CV 10/10] END svc__C=0.5, svc__gamma=scale, svc__kernel=linear;, score=1.000 total time=   0.0s\n",
            "[CV 1/10] END svc__C=0.5, svc__gamma=scale, svc__kernel=rbf;, score=1.000 total time=   0.2s\n",
            "[CV 2/10] END svc__C=0.5, svc__gamma=scale, svc__kernel=rbf;, score=1.000 total time=   0.1s\n",
            "[CV 3/10] END svc__C=0.5, svc__gamma=scale, svc__kernel=rbf;, score=1.000 total time=   0.2s\n",
            "[CV 4/10] END svc__C=0.5, svc__gamma=scale, svc__kernel=rbf;, score=0.998 total time=   0.1s\n",
            "[CV 5/10] END svc__C=0.5, svc__gamma=scale, svc__kernel=rbf;, score=1.000 total time=   0.1s\n",
            "[CV 6/10] END svc__C=0.5, svc__gamma=scale, svc__kernel=rbf;, score=1.000 total time=   0.1s\n",
            "[CV 7/10] END svc__C=0.5, svc__gamma=scale, svc__kernel=rbf;, score=1.000 total time=   0.1s\n",
            "[CV 8/10] END svc__C=0.5, svc__gamma=scale, svc__kernel=rbf;, score=0.998 total time=   0.1s\n",
            "[CV 9/10] END svc__C=0.5, svc__gamma=scale, svc__kernel=rbf;, score=1.000 total time=   0.1s\n",
            "[CV 10/10] END svc__C=0.5, svc__gamma=scale, svc__kernel=rbf;, score=1.000 total time=   0.1s\n",
            "[CV 1/10] END svc__C=0.5, svc__gamma=scale, svc__kernel=poly;, score=1.000 total time=   0.0s\n",
            "[CV 2/10] END svc__C=0.5, svc__gamma=scale, svc__kernel=poly;, score=1.000 total time=   0.0s\n",
            "[CV 3/10] END svc__C=0.5, svc__gamma=scale, svc__kernel=poly;, score=1.000 total time=   0.0s\n",
            "[CV 4/10] END svc__C=0.5, svc__gamma=scale, svc__kernel=poly;, score=1.000 total time=   0.0s\n",
            "[CV 5/10] END svc__C=0.5, svc__gamma=scale, svc__kernel=poly;, score=1.000 total time=   0.0s\n",
            "[CV 6/10] END svc__C=0.5, svc__gamma=scale, svc__kernel=poly;, score=1.000 total time=   0.1s\n",
            "[CV 7/10] END svc__C=0.5, svc__gamma=scale, svc__kernel=poly;, score=1.000 total time=   0.0s\n",
            "[CV 8/10] END svc__C=0.5, svc__gamma=scale, svc__kernel=poly;, score=1.000 total time=   0.0s\n",
            "[CV 9/10] END svc__C=0.5, svc__gamma=scale, svc__kernel=poly;, score=1.000 total time=   0.0s\n",
            "[CV 10/10] END svc__C=0.5, svc__gamma=scale, svc__kernel=poly;, score=1.000 total time=   0.0s\n",
            "[CV 1/10] END svc__C=0.5, svc__gamma=scale, svc__kernel=sigmoid;, score=0.961 total time=   0.3s\n",
            "[CV 2/10] END svc__C=0.5, svc__gamma=scale, svc__kernel=sigmoid;, score=0.961 total time=   0.2s\n",
            "[CV 3/10] END svc__C=0.5, svc__gamma=scale, svc__kernel=sigmoid;, score=0.945 total time=   0.2s\n",
            "[CV 4/10] END svc__C=0.5, svc__gamma=scale, svc__kernel=sigmoid;, score=0.952 total time=   0.2s\n",
            "[CV 5/10] END svc__C=0.5, svc__gamma=scale, svc__kernel=sigmoid;, score=0.974 total time=   0.3s\n",
            "[CV 6/10] END svc__C=0.5, svc__gamma=scale, svc__kernel=sigmoid;, score=0.959 total time=   0.2s\n",
            "[CV 7/10] END svc__C=0.5, svc__gamma=scale, svc__kernel=sigmoid;, score=0.968 total time=   0.3s\n",
            "[CV 8/10] END svc__C=0.5, svc__gamma=scale, svc__kernel=sigmoid;, score=0.966 total time=   0.2s\n",
            "[CV 9/10] END svc__C=0.5, svc__gamma=scale, svc__kernel=sigmoid;, score=0.967 total time=   0.2s\n",
            "[CV 10/10] END svc__C=0.5, svc__gamma=scale, svc__kernel=sigmoid;, score=0.993 total time=   0.1s\n",
            "[CV 1/10] END svc__C=0.5, svc__gamma=auto, svc__kernel=linear;, score=1.000 total time=   0.0s\n",
            "[CV 2/10] END svc__C=0.5, svc__gamma=auto, svc__kernel=linear;, score=1.000 total time=   0.0s\n",
            "[CV 3/10] END svc__C=0.5, svc__gamma=auto, svc__kernel=linear;, score=1.000 total time=   0.0s\n",
            "[CV 4/10] END svc__C=0.5, svc__gamma=auto, svc__kernel=linear;, score=1.000 total time=   0.0s\n",
            "[CV 5/10] END svc__C=0.5, svc__gamma=auto, svc__kernel=linear;, score=1.000 total time=   0.0s\n",
            "[CV 6/10] END svc__C=0.5, svc__gamma=auto, svc__kernel=linear;, score=1.000 total time=   0.0s\n",
            "[CV 7/10] END svc__C=0.5, svc__gamma=auto, svc__kernel=linear;, score=1.000 total time=   0.0s\n",
            "[CV 8/10] END svc__C=0.5, svc__gamma=auto, svc__kernel=linear;, score=1.000 total time=   0.0s\n",
            "[CV 9/10] END svc__C=0.5, svc__gamma=auto, svc__kernel=linear;, score=1.000 total time=   0.0s\n",
            "[CV 10/10] END svc__C=0.5, svc__gamma=auto, svc__kernel=linear;, score=1.000 total time=   0.0s\n",
            "[CV 1/10] END svc__C=0.5, svc__gamma=auto, svc__kernel=rbf;, score=1.000 total time=   0.1s\n",
            "[CV 2/10] END svc__C=0.5, svc__gamma=auto, svc__kernel=rbf;, score=1.000 total time=   0.1s\n",
            "[CV 3/10] END svc__C=0.5, svc__gamma=auto, svc__kernel=rbf;, score=1.000 total time=   0.1s\n",
            "[CV 4/10] END svc__C=0.5, svc__gamma=auto, svc__kernel=rbf;, score=0.998 total time=   0.1s\n",
            "[CV 5/10] END svc__C=0.5, svc__gamma=auto, svc__kernel=rbf;, score=1.000 total time=   0.1s\n",
            "[CV 6/10] END svc__C=0.5, svc__gamma=auto, svc__kernel=rbf;, score=1.000 total time=   0.1s\n",
            "[CV 7/10] END svc__C=0.5, svc__gamma=auto, svc__kernel=rbf;, score=1.000 total time=   0.1s\n",
            "[CV 8/10] END svc__C=0.5, svc__gamma=auto, svc__kernel=rbf;, score=0.998 total time=   0.1s\n",
            "[CV 9/10] END svc__C=0.5, svc__gamma=auto, svc__kernel=rbf;, score=1.000 total time=   0.1s\n",
            "[CV 10/10] END svc__C=0.5, svc__gamma=auto, svc__kernel=rbf;, score=1.000 total time=   0.1s\n",
            "[CV 1/10] END svc__C=0.5, svc__gamma=auto, svc__kernel=poly;, score=1.000 total time=   0.0s\n",
            "[CV 2/10] END svc__C=0.5, svc__gamma=auto, svc__kernel=poly;, score=1.000 total time=   0.0s\n",
            "[CV 3/10] END svc__C=0.5, svc__gamma=auto, svc__kernel=poly;, score=1.000 total time=   0.0s\n",
            "[CV 4/10] END svc__C=0.5, svc__gamma=auto, svc__kernel=poly;, score=1.000 total time=   0.0s\n",
            "[CV 5/10] END svc__C=0.5, svc__gamma=auto, svc__kernel=poly;, score=1.000 total time=   0.0s\n",
            "[CV 6/10] END svc__C=0.5, svc__gamma=auto, svc__kernel=poly;, score=1.000 total time=   0.0s\n",
            "[CV 7/10] END svc__C=0.5, svc__gamma=auto, svc__kernel=poly;, score=1.000 total time=   0.0s\n",
            "[CV 8/10] END svc__C=0.5, svc__gamma=auto, svc__kernel=poly;, score=1.000 total time=   0.0s\n",
            "[CV 9/10] END svc__C=0.5, svc__gamma=auto, svc__kernel=poly;, score=1.000 total time=   0.0s\n",
            "[CV 10/10] END svc__C=0.5, svc__gamma=auto, svc__kernel=poly;, score=1.000 total time=   0.0s\n",
            "[CV 1/10] END svc__C=0.5, svc__gamma=auto, svc__kernel=sigmoid;, score=0.961 total time=   0.3s\n",
            "[CV 2/10] END svc__C=0.5, svc__gamma=auto, svc__kernel=sigmoid;, score=0.961 total time=   0.2s\n",
            "[CV 3/10] END svc__C=0.5, svc__gamma=auto, svc__kernel=sigmoid;, score=0.945 total time=   0.2s\n",
            "[CV 4/10] END svc__C=0.5, svc__gamma=auto, svc__kernel=sigmoid;, score=0.952 total time=   0.2s\n",
            "[CV 5/10] END svc__C=0.5, svc__gamma=auto, svc__kernel=sigmoid;, score=0.974 total time=   0.3s\n",
            "[CV 6/10] END svc__C=0.5, svc__gamma=auto, svc__kernel=sigmoid;, score=0.959 total time=   0.2s\n",
            "[CV 7/10] END svc__C=0.5, svc__gamma=auto, svc__kernel=sigmoid;, score=0.968 total time=   0.3s\n",
            "[CV 8/10] END svc__C=0.5, svc__gamma=auto, svc__kernel=sigmoid;, score=0.966 total time=   0.2s\n",
            "[CV 9/10] END svc__C=0.5, svc__gamma=auto, svc__kernel=sigmoid;, score=0.967 total time=   0.3s\n",
            "[CV 10/10] END svc__C=0.5, svc__gamma=auto, svc__kernel=sigmoid;, score=0.993 total time=   0.2s\n",
            "[CV 1/10] END svc__C=1, svc__gamma=scale, svc__kernel=linear;, score=1.000 total time=   0.0s\n",
            "[CV 2/10] END svc__C=1, svc__gamma=scale, svc__kernel=linear;, score=1.000 total time=   0.0s\n",
            "[CV 3/10] END svc__C=1, svc__gamma=scale, svc__kernel=linear;, score=1.000 total time=   0.0s\n",
            "[CV 4/10] END svc__C=1, svc__gamma=scale, svc__kernel=linear;, score=1.000 total time=   0.0s\n",
            "[CV 5/10] END svc__C=1, svc__gamma=scale, svc__kernel=linear;, score=1.000 total time=   0.0s\n",
            "[CV 6/10] END svc__C=1, svc__gamma=scale, svc__kernel=linear;, score=1.000 total time=   0.1s\n",
            "[CV 7/10] END svc__C=1, svc__gamma=scale, svc__kernel=linear;, score=1.000 total time=   0.0s\n",
            "[CV 8/10] END svc__C=1, svc__gamma=scale, svc__kernel=linear;, score=1.000 total time=   0.0s\n",
            "[CV 9/10] END svc__C=1, svc__gamma=scale, svc__kernel=linear;, score=1.000 total time=   0.0s\n",
            "[CV 10/10] END svc__C=1, svc__gamma=scale, svc__kernel=linear;, score=1.000 total time=   0.0s\n",
            "[CV 1/10] END svc__C=1, svc__gamma=scale, svc__kernel=rbf;, score=1.000 total time=   0.1s\n",
            "[CV 2/10] END svc__C=1, svc__gamma=scale, svc__kernel=rbf;, score=1.000 total time=   0.1s\n",
            "[CV 3/10] END svc__C=1, svc__gamma=scale, svc__kernel=rbf;, score=1.000 total time=   0.1s\n",
            "[CV 4/10] END svc__C=1, svc__gamma=scale, svc__kernel=rbf;, score=0.998 total time=   0.1s\n",
            "[CV 5/10] END svc__C=1, svc__gamma=scale, svc__kernel=rbf;, score=1.000 total time=   0.1s\n",
            "[CV 6/10] END svc__C=1, svc__gamma=scale, svc__kernel=rbf;, score=1.000 total time=   0.1s\n",
            "[CV 7/10] END svc__C=1, svc__gamma=scale, svc__kernel=rbf;, score=1.000 total time=   0.1s\n",
            "[CV 8/10] END svc__C=1, svc__gamma=scale, svc__kernel=rbf;, score=0.998 total time=   0.1s\n",
            "[CV 9/10] END svc__C=1, svc__gamma=scale, svc__kernel=rbf;, score=1.000 total time=   0.1s\n",
            "[CV 10/10] END svc__C=1, svc__gamma=scale, svc__kernel=rbf;, score=1.000 total time=   0.1s\n",
            "[CV 1/10] END svc__C=1, svc__gamma=scale, svc__kernel=poly;, score=1.000 total time=   0.1s\n",
            "[CV 2/10] END svc__C=1, svc__gamma=scale, svc__kernel=poly;, score=1.000 total time=   0.1s\n",
            "[CV 3/10] END svc__C=1, svc__gamma=scale, svc__kernel=poly;, score=1.000 total time=   0.1s\n",
            "[CV 4/10] END svc__C=1, svc__gamma=scale, svc__kernel=poly;, score=1.000 total time=   0.1s\n",
            "[CV 5/10] END svc__C=1, svc__gamma=scale, svc__kernel=poly;, score=1.000 total time=   0.1s\n",
            "[CV 6/10] END svc__C=1, svc__gamma=scale, svc__kernel=poly;, score=1.000 total time=   0.1s\n",
            "[CV 7/10] END svc__C=1, svc__gamma=scale, svc__kernel=poly;, score=1.000 total time=   0.1s\n",
            "[CV 8/10] END svc__C=1, svc__gamma=scale, svc__kernel=poly;, score=1.000 total time=   0.1s\n",
            "[CV 9/10] END svc__C=1, svc__gamma=scale, svc__kernel=poly;, score=1.000 total time=   0.1s\n",
            "[CV 10/10] END svc__C=1, svc__gamma=scale, svc__kernel=poly;, score=1.000 total time=   0.0s\n",
            "[CV 1/10] END svc__C=1, svc__gamma=scale, svc__kernel=sigmoid;, score=0.952 total time=   0.3s\n",
            "[CV 2/10] END svc__C=1, svc__gamma=scale, svc__kernel=sigmoid;, score=0.959 total time=   0.2s\n",
            "[CV 3/10] END svc__C=1, svc__gamma=scale, svc__kernel=sigmoid;, score=0.935 total time=   0.2s\n",
            "[CV 4/10] END svc__C=1, svc__gamma=scale, svc__kernel=sigmoid;, score=0.945 total time=   0.2s\n",
            "[CV 5/10] END svc__C=1, svc__gamma=scale, svc__kernel=sigmoid;, score=0.968 total time=   0.2s\n",
            "[CV 6/10] END svc__C=1, svc__gamma=scale, svc__kernel=sigmoid;, score=0.961 total time=   0.2s\n",
            "[CV 7/10] END svc__C=1, svc__gamma=scale, svc__kernel=sigmoid;, score=0.962 total time=   0.2s\n",
            "[CV 8/10] END svc__C=1, svc__gamma=scale, svc__kernel=sigmoid;, score=0.957 total time=   0.3s\n",
            "[CV 9/10] END svc__C=1, svc__gamma=scale, svc__kernel=sigmoid;, score=0.961 total time=   0.2s\n",
            "[CV 10/10] END svc__C=1, svc__gamma=scale, svc__kernel=sigmoid;, score=1.000 total time=   0.0s\n",
            "[CV 1/10] END svc__C=1, svc__gamma=auto, svc__kernel=linear;, score=1.000 total time=   0.0s\n",
            "[CV 2/10] END svc__C=1, svc__gamma=auto, svc__kernel=linear;, score=1.000 total time=   0.0s\n",
            "[CV 3/10] END svc__C=1, svc__gamma=auto, svc__kernel=linear;, score=1.000 total time=   0.0s\n",
            "[CV 4/10] END svc__C=1, svc__gamma=auto, svc__kernel=linear;, score=1.000 total time=   0.0s\n",
            "[CV 5/10] END svc__C=1, svc__gamma=auto, svc__kernel=linear;, score=1.000 total time=   0.0s\n",
            "[CV 6/10] END svc__C=1, svc__gamma=auto, svc__kernel=linear;, score=1.000 total time=   0.0s\n",
            "[CV 7/10] END svc__C=1, svc__gamma=auto, svc__kernel=linear;, score=1.000 total time=   0.0s\n",
            "[CV 8/10] END svc__C=1, svc__gamma=auto, svc__kernel=linear;, score=1.000 total time=   0.0s\n",
            "[CV 9/10] END svc__C=1, svc__gamma=auto, svc__kernel=linear;, score=1.000 total time=   0.0s\n",
            "[CV 10/10] END svc__C=1, svc__gamma=auto, svc__kernel=linear;, score=1.000 total time=   0.0s\n",
            "[CV 1/10] END svc__C=1, svc__gamma=auto, svc__kernel=rbf;, score=1.000 total time=   0.1s\n",
            "[CV 2/10] END svc__C=1, svc__gamma=auto, svc__kernel=rbf;, score=1.000 total time=   0.1s\n",
            "[CV 3/10] END svc__C=1, svc__gamma=auto, svc__kernel=rbf;, score=1.000 total time=   0.1s\n",
            "[CV 4/10] END svc__C=1, svc__gamma=auto, svc__kernel=rbf;, score=0.998 total time=   0.1s\n",
            "[CV 5/10] END svc__C=1, svc__gamma=auto, svc__kernel=rbf;, score=1.000 total time=   0.1s\n",
            "[CV 6/10] END svc__C=1, svc__gamma=auto, svc__kernel=rbf;, score=1.000 total time=   0.1s\n",
            "[CV 7/10] END svc__C=1, svc__gamma=auto, svc__kernel=rbf;, score=1.000 total time=   0.1s\n",
            "[CV 8/10] END svc__C=1, svc__gamma=auto, svc__kernel=rbf;, score=0.998 total time=   0.1s\n",
            "[CV 9/10] END svc__C=1, svc__gamma=auto, svc__kernel=rbf;, score=1.000 total time=   0.1s\n",
            "[CV 10/10] END svc__C=1, svc__gamma=auto, svc__kernel=rbf;, score=1.000 total time=   0.1s\n",
            "[CV 1/10] END svc__C=1, svc__gamma=auto, svc__kernel=poly;, score=1.000 total time=   0.0s\n",
            "[CV 2/10] END svc__C=1, svc__gamma=auto, svc__kernel=poly;, score=1.000 total time=   0.0s\n",
            "[CV 3/10] END svc__C=1, svc__gamma=auto, svc__kernel=poly;, score=1.000 total time=   0.0s\n",
            "[CV 4/10] END svc__C=1, svc__gamma=auto, svc__kernel=poly;, score=1.000 total time=   0.0s\n",
            "[CV 5/10] END svc__C=1, svc__gamma=auto, svc__kernel=poly;, score=1.000 total time=   0.1s\n",
            "[CV 6/10] END svc__C=1, svc__gamma=auto, svc__kernel=poly;, score=1.000 total time=   0.0s\n",
            "[CV 7/10] END svc__C=1, svc__gamma=auto, svc__kernel=poly;, score=1.000 total time=   0.0s\n",
            "[CV 8/10] END svc__C=1, svc__gamma=auto, svc__kernel=poly;, score=1.000 total time=   0.0s\n",
            "[CV 9/10] END svc__C=1, svc__gamma=auto, svc__kernel=poly;, score=1.000 total time=   0.0s\n",
            "[CV 10/10] END svc__C=1, svc__gamma=auto, svc__kernel=poly;, score=1.000 total time=   0.0s\n",
            "[CV 1/10] END svc__C=1, svc__gamma=auto, svc__kernel=sigmoid;, score=0.952 total time=   0.3s\n",
            "[CV 2/10] END svc__C=1, svc__gamma=auto, svc__kernel=sigmoid;, score=0.959 total time=   0.2s\n",
            "[CV 3/10] END svc__C=1, svc__gamma=auto, svc__kernel=sigmoid;, score=0.935 total time=   0.2s\n",
            "[CV 4/10] END svc__C=1, svc__gamma=auto, svc__kernel=sigmoid;, score=0.945 total time=   0.2s\n",
            "[CV 5/10] END svc__C=1, svc__gamma=auto, svc__kernel=sigmoid;, score=0.968 total time=   0.2s\n",
            "[CV 6/10] END svc__C=1, svc__gamma=auto, svc__kernel=sigmoid;, score=0.961 total time=   0.2s\n",
            "[CV 7/10] END svc__C=1, svc__gamma=auto, svc__kernel=sigmoid;, score=0.962 total time=   0.2s\n",
            "[CV 8/10] END svc__C=1, svc__gamma=auto, svc__kernel=sigmoid;, score=0.957 total time=   0.3s\n",
            "[CV 9/10] END svc__C=1, svc__gamma=auto, svc__kernel=sigmoid;, score=0.961 total time=   0.2s\n",
            "[CV 10/10] END svc__C=1, svc__gamma=auto, svc__kernel=sigmoid;, score=1.000 total time=   0.0s\n"
          ]
        },
        {
          "output_type": "execute_result",
          "data": {
            "text/plain": [
              "GridSearchCV(cv=10,\n",
              "             estimator=Pipeline(steps=[('standardscaler', StandardScaler()),\n",
              "                                       ('svc', SVC(class_weight='balanced'))]),\n",
              "             param_grid={'svc__C': [0.001, 0.01, 0.1, 0.5, 1],\n",
              "                         'svc__gamma': ['scale', 'auto'],\n",
              "                         'svc__kernel': ['linear', 'rbf', 'poly', 'sigmoid']},\n",
              "             verbose=3)"
            ],
            "text/html": [
              "<style>#sk-container-id-1 {color: black;background-color: white;}#sk-container-id-1 pre{padding: 0;}#sk-container-id-1 div.sk-toggleable {background-color: white;}#sk-container-id-1 label.sk-toggleable__label {cursor: pointer;display: block;width: 100%;margin-bottom: 0;padding: 0.3em;box-sizing: border-box;text-align: center;}#sk-container-id-1 label.sk-toggleable__label-arrow:before {content: \"▸\";float: left;margin-right: 0.25em;color: #696969;}#sk-container-id-1 label.sk-toggleable__label-arrow:hover:before {color: black;}#sk-container-id-1 div.sk-estimator:hover label.sk-toggleable__label-arrow:before {color: black;}#sk-container-id-1 div.sk-toggleable__content {max-height: 0;max-width: 0;overflow: hidden;text-align: left;background-color: #f0f8ff;}#sk-container-id-1 div.sk-toggleable__content pre {margin: 0.2em;color: black;border-radius: 0.25em;background-color: #f0f8ff;}#sk-container-id-1 input.sk-toggleable__control:checked~div.sk-toggleable__content {max-height: 200px;max-width: 100%;overflow: auto;}#sk-container-id-1 input.sk-toggleable__control:checked~label.sk-toggleable__label-arrow:before {content: \"▾\";}#sk-container-id-1 div.sk-estimator input.sk-toggleable__control:checked~label.sk-toggleable__label {background-color: #d4ebff;}#sk-container-id-1 div.sk-label input.sk-toggleable__control:checked~label.sk-toggleable__label {background-color: #d4ebff;}#sk-container-id-1 input.sk-hidden--visually {border: 0;clip: rect(1px 1px 1px 1px);clip: rect(1px, 1px, 1px, 1px);height: 1px;margin: -1px;overflow: hidden;padding: 0;position: absolute;width: 1px;}#sk-container-id-1 div.sk-estimator {font-family: monospace;background-color: #f0f8ff;border: 1px dotted black;border-radius: 0.25em;box-sizing: border-box;margin-bottom: 0.5em;}#sk-container-id-1 div.sk-estimator:hover {background-color: #d4ebff;}#sk-container-id-1 div.sk-parallel-item::after {content: \"\";width: 100%;border-bottom: 1px solid gray;flex-grow: 1;}#sk-container-id-1 div.sk-label:hover label.sk-toggleable__label {background-color: #d4ebff;}#sk-container-id-1 div.sk-serial::before {content: \"\";position: absolute;border-left: 1px solid gray;box-sizing: border-box;top: 0;bottom: 0;left: 50%;z-index: 0;}#sk-container-id-1 div.sk-serial {display: flex;flex-direction: column;align-items: center;background-color: white;padding-right: 0.2em;padding-left: 0.2em;position: relative;}#sk-container-id-1 div.sk-item {position: relative;z-index: 1;}#sk-container-id-1 div.sk-parallel {display: flex;align-items: stretch;justify-content: center;background-color: white;position: relative;}#sk-container-id-1 div.sk-item::before, #sk-container-id-1 div.sk-parallel-item::before {content: \"\";position: absolute;border-left: 1px solid gray;box-sizing: border-box;top: 0;bottom: 0;left: 50%;z-index: -1;}#sk-container-id-1 div.sk-parallel-item {display: flex;flex-direction: column;z-index: 1;position: relative;background-color: white;}#sk-container-id-1 div.sk-parallel-item:first-child::after {align-self: flex-end;width: 50%;}#sk-container-id-1 div.sk-parallel-item:last-child::after {align-self: flex-start;width: 50%;}#sk-container-id-1 div.sk-parallel-item:only-child::after {width: 0;}#sk-container-id-1 div.sk-dashed-wrapped {border: 1px dashed gray;margin: 0 0.4em 0.5em 0.4em;box-sizing: border-box;padding-bottom: 0.4em;background-color: white;}#sk-container-id-1 div.sk-label label {font-family: monospace;font-weight: bold;display: inline-block;line-height: 1.2em;}#sk-container-id-1 div.sk-label-container {text-align: center;}#sk-container-id-1 div.sk-container {/* jupyter's `normalize.less` sets `[hidden] { display: none; }` but bootstrap.min.css set `[hidden] { display: none !important; }` so we also need the `!important` here to be able to override the default hidden behavior on the sphinx rendered scikit-learn.org. See: https://github.com/scikit-learn/scikit-learn/issues/21755 */display: inline-block !important;position: relative;}#sk-container-id-1 div.sk-text-repr-fallback {display: none;}</style><div id=\"sk-container-id-1\" class=\"sk-top-container\"><div class=\"sk-text-repr-fallback\"><pre>GridSearchCV(cv=10,\n",
              "             estimator=Pipeline(steps=[(&#x27;standardscaler&#x27;, StandardScaler()),\n",
              "                                       (&#x27;svc&#x27;, SVC(class_weight=&#x27;balanced&#x27;))]),\n",
              "             param_grid={&#x27;svc__C&#x27;: [0.001, 0.01, 0.1, 0.5, 1],\n",
              "                         &#x27;svc__gamma&#x27;: [&#x27;scale&#x27;, &#x27;auto&#x27;],\n",
              "                         &#x27;svc__kernel&#x27;: [&#x27;linear&#x27;, &#x27;rbf&#x27;, &#x27;poly&#x27;, &#x27;sigmoid&#x27;]},\n",
              "             verbose=3)</pre><b>In a Jupyter environment, please rerun this cell to show the HTML representation or trust the notebook. <br />On GitHub, the HTML representation is unable to render, please try loading this page with nbviewer.org.</b></div><div class=\"sk-container\" hidden><div class=\"sk-item sk-dashed-wrapped\"><div class=\"sk-label-container\"><div class=\"sk-label sk-toggleable\"><input class=\"sk-toggleable__control sk-hidden--visually\" id=\"sk-estimator-id-1\" type=\"checkbox\" ><label for=\"sk-estimator-id-1\" class=\"sk-toggleable__label sk-toggleable__label-arrow\">GridSearchCV</label><div class=\"sk-toggleable__content\"><pre>GridSearchCV(cv=10,\n",
              "             estimator=Pipeline(steps=[(&#x27;standardscaler&#x27;, StandardScaler()),\n",
              "                                       (&#x27;svc&#x27;, SVC(class_weight=&#x27;balanced&#x27;))]),\n",
              "             param_grid={&#x27;svc__C&#x27;: [0.001, 0.01, 0.1, 0.5, 1],\n",
              "                         &#x27;svc__gamma&#x27;: [&#x27;scale&#x27;, &#x27;auto&#x27;],\n",
              "                         &#x27;svc__kernel&#x27;: [&#x27;linear&#x27;, &#x27;rbf&#x27;, &#x27;poly&#x27;, &#x27;sigmoid&#x27;]},\n",
              "             verbose=3)</pre></div></div></div><div class=\"sk-parallel\"><div class=\"sk-parallel-item\"><div class=\"sk-item\"><div class=\"sk-label-container\"><div class=\"sk-label sk-toggleable\"><input class=\"sk-toggleable__control sk-hidden--visually\" id=\"sk-estimator-id-2\" type=\"checkbox\" ><label for=\"sk-estimator-id-2\" class=\"sk-toggleable__label sk-toggleable__label-arrow\">estimator: Pipeline</label><div class=\"sk-toggleable__content\"><pre>Pipeline(steps=[(&#x27;standardscaler&#x27;, StandardScaler()),\n",
              "                (&#x27;svc&#x27;, SVC(class_weight=&#x27;balanced&#x27;))])</pre></div></div></div><div class=\"sk-serial\"><div class=\"sk-item\"><div class=\"sk-serial\"><div class=\"sk-item\"><div class=\"sk-estimator sk-toggleable\"><input class=\"sk-toggleable__control sk-hidden--visually\" id=\"sk-estimator-id-3\" type=\"checkbox\" ><label for=\"sk-estimator-id-3\" class=\"sk-toggleable__label sk-toggleable__label-arrow\">StandardScaler</label><div class=\"sk-toggleable__content\"><pre>StandardScaler()</pre></div></div></div><div class=\"sk-item\"><div class=\"sk-estimator sk-toggleable\"><input class=\"sk-toggleable__control sk-hidden--visually\" id=\"sk-estimator-id-4\" type=\"checkbox\" ><label for=\"sk-estimator-id-4\" class=\"sk-toggleable__label sk-toggleable__label-arrow\">SVC</label><div class=\"sk-toggleable__content\"><pre>SVC(class_weight=&#x27;balanced&#x27;)</pre></div></div></div></div></div></div></div></div></div></div></div></div>"
            ]
          },
          "metadata": {},
          "execution_count": 16
        }
      ]
    },
    {
      "cell_type": "code",
      "source": [
        "grid.best_params_"
      ],
      "metadata": {
        "colab": {
          "base_uri": "https://localhost:8080/"
        },
        "id": "6FMRUt5EQyXE",
        "outputId": "79bb7049-6300-444a-cac7-a6a19446f426"
      },
      "execution_count": 18,
      "outputs": [
        {
          "output_type": "execute_result",
          "data": {
            "text/plain": [
              "{'svc__C': 0.001, 'svc__gamma': 'scale', 'svc__kernel': 'linear'}"
            ]
          },
          "metadata": {},
          "execution_count": 18
        }
      ]
    },
    {
      "cell_type": "code",
      "source": [
        "y_pred = grid.predict(X_test)\n",
        "accuracy_score(y_test, y_pred)"
      ],
      "metadata": {
        "id": "ll_SjC8rTuY2",
        "colab": {
          "base_uri": "https://localhost:8080/"
        },
        "outputId": "26aa22ab-9001-4045-f27b-d9c9af77b230"
      },
      "execution_count": 21,
      "outputs": [
        {
          "output_type": "execute_result",
          "data": {
            "text/plain": [
              "1.0"
            ]
          },
          "metadata": {},
          "execution_count": 21
        }
      ]
    },
    {
      "cell_type": "code",
      "source": [
        "print(classification_report(y_test, y_pred))"
      ],
      "metadata": {
        "colab": {
          "base_uri": "https://localhost:8080/"
        },
        "id": "_JTKtyWaHcJf",
        "outputId": "9c98e4f9-d62b-40e4-f83c-460de399b900"
      },
      "execution_count": 27,
      "outputs": [
        {
          "output_type": "stream",
          "name": "stdout",
          "text": [
            "              precision    recall  f1-score   support\n",
            "\n",
            "       Fraud       1.00      1.00      1.00        27\n",
            "       Legit       1.00      1.00      1.00       623\n",
            "\n",
            "    accuracy                           1.00       650\n",
            "   macro avg       1.00      1.00      1.00       650\n",
            "weighted avg       1.00      1.00      1.00       650\n",
            "\n"
          ]
        }
      ]
    },
    {
      "cell_type": "code",
      "source": [
        "confusion_matrix(y_test, y_pred)"
      ],
      "metadata": {
        "colab": {
          "base_uri": "https://localhost:8080/"
        },
        "id": "HBCvhTsxIORC",
        "outputId": "63fd5d36-945f-4895-d00b-457572a4e533"
      },
      "execution_count": 28,
      "outputs": [
        {
          "output_type": "execute_result",
          "data": {
            "text/plain": [
              "array([[ 27,   0],\n",
              "       [  0, 623]])"
            ]
          },
          "metadata": {},
          "execution_count": 28
        }
      ]
    },
    {
      "cell_type": "code",
      "source": [],
      "metadata": {
        "id": "NUNEdv5UI10c"
      },
      "execution_count": 29,
      "outputs": []
    },
    {
      "cell_type": "code",
      "source": [
        "ConfusionMatrixDisplay.from_predictions(y_test, y_pred)"
      ],
      "metadata": {
        "colab": {
          "base_uri": "https://localhost:8080/",
          "height": 466
        },
        "id": "ZubzR1qgJejm",
        "outputId": "20ec886a-e950-4617-ed2e-dbb710eed371"
      },
      "execution_count": 30,
      "outputs": [
        {
          "output_type": "execute_result",
          "data": {
            "text/plain": [
              "<sklearn.metrics._plot.confusion_matrix.ConfusionMatrixDisplay at 0x794ef89f3be0>"
            ]
          },
          "metadata": {},
          "execution_count": 30
        },
        {
          "output_type": "display_data",
          "data": {
            "text/plain": [
              "<Figure size 640x480 with 2 Axes>"
            ],
            "image/png": "[encoded data removed]"
          },
          "metadata": {}
        }
      ]
    },
    {
      "cell_type": "code",
      "source": [],
      "metadata": {
        "id": "FrWPk9kwKE7Z"
      },
      "execution_count": null,
      "outputs": []
    }
  ]
}