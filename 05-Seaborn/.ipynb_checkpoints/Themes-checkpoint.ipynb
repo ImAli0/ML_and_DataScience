{
 "cells": [
  {
   "cell_type": "code",
   "execution_count": null,
   "id": "dbc3b028",
   "metadata": {},
   "outputs": [],
   "source": [
    "\n"
   ]
  },
  {
   "cell_type": "code",
   "execution_count": 2,
   "id": "06c6841f",
   "metadata": {},
   "outputs": [
    {
     "name": "stdout",
     "output_type": "stream",
     "text": [
      "Available Themes: \n",
      "   chesterish\n",
      "   grade3\n",
      "   gruvboxd\n",
      "   gruvboxl\n",
      "   monokai\n",
      "   oceans16\n",
      "   onedork\n",
      "   solarizedd\n",
      "   solarizedl\n"
     ]
    }
   ],
   "source": [
    "! jt -l"
   ]
  },
  {
   "cell_type": "code",
   "execution_count": 7,
   "id": "129f9ace",
   "metadata": {},
   "outputs": [],
   "source": [
    "! jt -t grade3 -T -N -kl -m 200"
   ]
  },
  {
   "cell_type": "code",
   "execution_count": 3,
   "id": "a407ff5d",
   "metadata": {},
   "outputs": [
    {
     "name": "stdout",
     "output_type": "stream",
     "text": [
      "Reset css and font defaults in:\n",
      "C:\\Users\\ASUS\\.jupyter\\custom &\n",
      "C:\\Users\\ASUS\\AppData\\Roaming\\jupyter\\nbextensions\n"
     ]
    }
   ],
   "source": [
    "! jt -r"
   ]
  },
  {
   "cell_type": "code",
   "execution_count": null,
   "id": "8ad85247",
   "metadata": {},
   "outputs": [],
   "source": []
  }
 ],
 "metadata": {
  "kernelspec": {
   "display_name": "Python 3",
   "language": "python",
   "name": "python3"
  },
  "language_info": {
   "codemirror_mode": {
    "name": "ipython",
    "version": 3
   },
   "file_extension": ".py",
   "mimetype": "text/x-python",
   "name": "python",
   "nbconvert_exporter": "python",
   "pygments_lexer": "ipython3",
   "version": "3.8.8"
  }
 },
 "nbformat": 4,
 "nbformat_minor": 5
}
